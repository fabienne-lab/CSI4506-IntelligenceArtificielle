{
  "cells": [
    {
      "cell_type": "markdown",
      "metadata": {
        "id": "view-in-github",
        "colab_type": "text"
      },
      "source": [
        "<a href=\"https://colab.research.google.com/github/fabienne-lab/CSI4506-IntelligenceArtificielle/blob/main/Projet1CSI4506.ipynb\" target=\"_parent\"><img src=\"https://colab.research.google.com/assets/colab-badge.svg\" alt=\"Open In Colab\"/></a>"
      ]
    },
    {
      "cell_type": "markdown",
      "source": [
        "# Projet 1 Csi 4506 : Étude empirique pour la classification\n",
        "\n",
        "## GROUPE 12\n",
        "\n",
        "> Présenter par: \n",
        "\n",
        "\n",
        "        > Willfied Sankara (300100940)\n",
        "\n",
        "        > Fabienne Sawadogo (300101795)\n",
        "\n",
        "        > Groupe P1_12\n",
        "\n",
        "\n",
        "\n",
        "\n",
        "\n",
        "\n"
      ],
      "metadata": {
        "id": "PG8fu9pSEaEO"
      },
      "id": "PG8fu9pSEaEO"
    },
    {
      "cell_type": "markdown",
      "source": [
        "## 1- Compréhension de la tâche de classification"
      ],
      "metadata": {
        "id": "3Liip78v2J-B"
      },
      "id": "3Liip78v2J-B"
    },
    {
      "cell_type": "markdown",
      "source": [
        "A- Nous travaillerons dans un premier temps avec une classification multi-classe.\n",
        "  Dans un second temps nous travaillerons sur une classification binaire\n",
        "\n",
        "B- Ce type de classification nous permettra premièrement de savoir si nos attributs permettent à nos différents modèle de pouvoir classifier le niveau des étudiants avec efficacité.\n",
        " Ensuite nous verrons s'il est plus efficace de seulement déterminer si nos modèle fonctionne mieux dans une prédiction qui consiste à savoir si l'étudiant a la moyenne ou pas.\n"
      ],
      "metadata": {
        "id": "m58yCRKP2ZiX"
      },
      "id": "m58yCRKP2ZiX"
    },
    {
      "cell_type": "markdown",
      "source": [
        "## 2- Analyse du jeu de données"
      ],
      "metadata": {
        "id": "rK7aWTY63KxS"
      },
      "id": "rK7aWTY63KxS"
    },
    {
      "cell_type": "markdown",
      "source": [
        "Pour effectuer notre analyse nous avons choisis le dataset intitulée \"Students Performance\" sur kaegle. Cette banque de données nous permet d'évaluer les notes a l'ecrit et de lecture de certains étudiants basées sur certains facteurs tels que le degree d'étude des parents, l'alimentation, le genre, la race et les travaux de preparation.\n",
        "\n",
        "\n",
        "Notre jeu de données comporte 1000 données d'entrainements. Il contient également 5 attributs et 2 cibles de classification. C'est à dire une classification sur les notes de lecture et sur les notes d'écritures"
      ],
      "metadata": {
        "id": "Nn3j6AUT3PVw"
      },
      "id": "Nn3j6AUT3PVw"
    },
    {
      "cell_type": "markdown",
      "source": [
        "### IMPORTATION DES PACKAGES NECESSAIRES POUR L'ÉTUDE"
      ],
      "metadata": {
        "id": "PfT-fZcR4Npo"
      },
      "id": "PfT-fZcR4Npo"
    },
    {
      "cell_type": "code",
      "execution_count": null,
      "id": "b43216e8",
      "metadata": {
        "id": "b43216e8"
      },
      "outputs": [],
      "source": [
        "#importing required packages\n",
        "import pandas as pd\n",
        "import seaborn as sns\n",
        "import numpy as np  \n",
        "from sklearn.naive_bayes import GaussianNB,MultinomialNB\n",
        "import matplotlib.pyplot as plt\n",
        "from sklearn.ensemble import RandomForestClassifier\n",
        "from sklearn import svm\n",
        "from sklearn import metrics\n",
        "from sklearn.svm import SVC\n",
        "from sklearn.neural_network import MLPClassifier\n",
        "from sklearn.model_selection import KFold\n",
        "from sklearn.preprocessing import OneHotEncoder\n",
        "from sklearn import preprocessing\n",
        "from seaborn import load_dataset\n",
        "from sklearn.linear_model import LogisticRegression\n",
        "#from sklear.linear_model import\n",
        "from sklearn.metrics import confusion_matrix, classification_report\n",
        "from sklearn.preprocessing import StandardScaler, LabelEncoder\n",
        "\n",
        "from sklearn.model_selection import train_test_split\n",
        "from sklearn.metrics import accuracy_score,precision_score,recall_score\n",
        "\n",
        "\n",
        "%matplotlib inline"
      ]
    },
    {
      "cell_type": "markdown",
      "id": "c0501e1b",
      "metadata": {
        "id": "c0501e1b"
      },
      "source": [
        "### IMPORTATION DU DATASET"
      ]
    },
    {
      "cell_type": "code",
      "source": [
        "!gdown --id 1hjGa3UkLE_PeDlKAc2WsMHqrnmpC0TpI"
      ],
      "metadata": {
        "colab": {
          "base_uri": "https://localhost:8080/"
        },
        "id": "O9oLqUZ-hwAY",
        "outputId": "5ad179f0-7ebe-4dea-ab9f-3727437e9780"
      },
      "id": "O9oLqUZ-hwAY",
      "execution_count": null,
      "outputs": [
        {
          "output_type": "stream",
          "name": "stdout",
          "text": [
            "/usr/local/lib/python3.7/dist-packages/gdown/cli.py:131: FutureWarning: Option `--id` was deprecated in version 4.3.1 and will be removed in 5.0. You don't need to pass it anymore to use a file ID.\n",
            "  category=FutureWarning,\n",
            "Downloading...\n",
            "From: https://drive.google.com/uc?id=1hjGa3UkLE_PeDlKAc2WsMHqrnmpC0TpI\n",
            "To: /content/exams.csv\n",
            "100% 53.7k/53.7k [00:00<00:00, 43.4MB/s]\n"
          ]
        }
      ]
    },
    {
      "cell_type": "code",
      "execution_count": null,
      "id": "45d8e883",
      "metadata": {
        "scrolled": true,
        "id": "45d8e883"
      },
      "outputs": [],
      "source": [
        "#loading dataset\n",
        "donnees=pd.read_csv('exams.csv', sep=';')"
      ]
    },
    {
      "cell_type": "code",
      "source": [
        "from google.colab import drive\n",
        "drive.mount('/content/drive')"
      ],
      "metadata": {
        "id": "x5eizn-HlJ-Y",
        "outputId": "9b974137-dfef-4757-eee0-ee26449ac36a",
        "colab": {
          "base_uri": "https://localhost:8080/",
          "height": 328
        }
      },
      "id": "x5eizn-HlJ-Y",
      "execution_count": null,
      "outputs": [
        {
          "output_type": "error",
          "ename": "MessageError",
          "evalue": "ignored",
          "traceback": [
            "\u001b[0;31m---------------------------------------------------------------------------\u001b[0m",
            "\u001b[0;31mMessageError\u001b[0m                              Traceback (most recent call last)",
            "\u001b[0;32m<ipython-input-1-d5df0069828e>\u001b[0m in \u001b[0;36m<module>\u001b[0;34m\u001b[0m\n\u001b[1;32m      1\u001b[0m \u001b[0;32mfrom\u001b[0m \u001b[0mgoogle\u001b[0m\u001b[0;34m.\u001b[0m\u001b[0mcolab\u001b[0m \u001b[0;32mimport\u001b[0m \u001b[0mdrive\u001b[0m\u001b[0;34m\u001b[0m\u001b[0;34m\u001b[0m\u001b[0m\n\u001b[0;32m----> 2\u001b[0;31m \u001b[0mdrive\u001b[0m\u001b[0;34m.\u001b[0m\u001b[0mmount\u001b[0m\u001b[0;34m(\u001b[0m\u001b[0;34m'/content/drive'\u001b[0m\u001b[0;34m)\u001b[0m\u001b[0;34m\u001b[0m\u001b[0;34m\u001b[0m\u001b[0m\n\u001b[0m",
            "\u001b[0;32m/usr/local/lib/python3.9/dist-packages/google/colab/drive.py\u001b[0m in \u001b[0;36mmount\u001b[0;34m(mountpoint, force_remount, timeout_ms, readonly)\u001b[0m\n\u001b[1;32m    101\u001b[0m \u001b[0;32mdef\u001b[0m \u001b[0mmount\u001b[0m\u001b[0;34m(\u001b[0m\u001b[0mmountpoint\u001b[0m\u001b[0;34m,\u001b[0m \u001b[0mforce_remount\u001b[0m\u001b[0;34m=\u001b[0m\u001b[0;32mFalse\u001b[0m\u001b[0;34m,\u001b[0m \u001b[0mtimeout_ms\u001b[0m\u001b[0;34m=\u001b[0m\u001b[0;36m120000\u001b[0m\u001b[0;34m,\u001b[0m \u001b[0mreadonly\u001b[0m\u001b[0;34m=\u001b[0m\u001b[0;32mFalse\u001b[0m\u001b[0;34m)\u001b[0m\u001b[0;34m:\u001b[0m\u001b[0;34m\u001b[0m\u001b[0;34m\u001b[0m\u001b[0m\n\u001b[1;32m    102\u001b[0m   \u001b[0;34m\"\"\"Mount your Google Drive at the specified mountpoint path.\"\"\"\u001b[0m\u001b[0;34m\u001b[0m\u001b[0;34m\u001b[0m\u001b[0m\n\u001b[0;32m--> 103\u001b[0;31m   return _mount(\n\u001b[0m\u001b[1;32m    104\u001b[0m       \u001b[0mmountpoint\u001b[0m\u001b[0;34m,\u001b[0m\u001b[0;34m\u001b[0m\u001b[0;34m\u001b[0m\u001b[0m\n\u001b[1;32m    105\u001b[0m       \u001b[0mforce_remount\u001b[0m\u001b[0;34m=\u001b[0m\u001b[0mforce_remount\u001b[0m\u001b[0;34m,\u001b[0m\u001b[0;34m\u001b[0m\u001b[0;34m\u001b[0m\u001b[0m\n",
            "\u001b[0;32m/usr/local/lib/python3.9/dist-packages/google/colab/drive.py\u001b[0m in \u001b[0;36m_mount\u001b[0;34m(mountpoint, force_remount, timeout_ms, ephemeral, readonly)\u001b[0m\n\u001b[1;32m    130\u001b[0m   )\n\u001b[1;32m    131\u001b[0m   \u001b[0;32mif\u001b[0m \u001b[0mephemeral\u001b[0m\u001b[0;34m:\u001b[0m\u001b[0;34m\u001b[0m\u001b[0;34m\u001b[0m\u001b[0m\n\u001b[0;32m--> 132\u001b[0;31m     _message.blocking_request(\n\u001b[0m\u001b[1;32m    133\u001b[0m         \u001b[0;34m'request_auth'\u001b[0m\u001b[0;34m,\u001b[0m \u001b[0mrequest\u001b[0m\u001b[0;34m=\u001b[0m\u001b[0;34m{\u001b[0m\u001b[0;34m'authType'\u001b[0m\u001b[0;34m:\u001b[0m \u001b[0;34m'dfs_ephemeral'\u001b[0m\u001b[0;34m}\u001b[0m\u001b[0;34m,\u001b[0m \u001b[0mtimeout_sec\u001b[0m\u001b[0;34m=\u001b[0m\u001b[0;32mNone\u001b[0m\u001b[0;34m\u001b[0m\u001b[0;34m\u001b[0m\u001b[0m\n\u001b[1;32m    134\u001b[0m     )\n",
            "\u001b[0;32m/usr/local/lib/python3.9/dist-packages/google/colab/_message.py\u001b[0m in \u001b[0;36mblocking_request\u001b[0;34m(request_type, request, timeout_sec, parent)\u001b[0m\n\u001b[1;32m    175\u001b[0m       \u001b[0mrequest_type\u001b[0m\u001b[0;34m,\u001b[0m \u001b[0mrequest\u001b[0m\u001b[0;34m,\u001b[0m \u001b[0mparent\u001b[0m\u001b[0;34m=\u001b[0m\u001b[0mparent\u001b[0m\u001b[0;34m,\u001b[0m \u001b[0mexpect_reply\u001b[0m\u001b[0;34m=\u001b[0m\u001b[0;32mTrue\u001b[0m\u001b[0;34m\u001b[0m\u001b[0;34m\u001b[0m\u001b[0m\n\u001b[1;32m    176\u001b[0m   )\n\u001b[0;32m--> 177\u001b[0;31m   \u001b[0;32mreturn\u001b[0m \u001b[0mread_reply_from_input\u001b[0m\u001b[0;34m(\u001b[0m\u001b[0mrequest_id\u001b[0m\u001b[0;34m,\u001b[0m \u001b[0mtimeout_sec\u001b[0m\u001b[0;34m)\u001b[0m\u001b[0;34m\u001b[0m\u001b[0;34m\u001b[0m\u001b[0m\n\u001b[0m",
            "\u001b[0;32m/usr/local/lib/python3.9/dist-packages/google/colab/_message.py\u001b[0m in \u001b[0;36mread_reply_from_input\u001b[0;34m(message_id, timeout_sec)\u001b[0m\n\u001b[1;32m    102\u001b[0m     ):\n\u001b[1;32m    103\u001b[0m       \u001b[0;32mif\u001b[0m \u001b[0;34m'error'\u001b[0m \u001b[0;32min\u001b[0m \u001b[0mreply\u001b[0m\u001b[0;34m:\u001b[0m\u001b[0;34m\u001b[0m\u001b[0;34m\u001b[0m\u001b[0m\n\u001b[0;32m--> 104\u001b[0;31m         \u001b[0;32mraise\u001b[0m \u001b[0mMessageError\u001b[0m\u001b[0;34m(\u001b[0m\u001b[0mreply\u001b[0m\u001b[0;34m[\u001b[0m\u001b[0;34m'error'\u001b[0m\u001b[0;34m]\u001b[0m\u001b[0;34m)\u001b[0m\u001b[0;34m\u001b[0m\u001b[0;34m\u001b[0m\u001b[0m\n\u001b[0m\u001b[1;32m    105\u001b[0m       \u001b[0;32mreturn\u001b[0m \u001b[0mreply\u001b[0m\u001b[0;34m.\u001b[0m\u001b[0mget\u001b[0m\u001b[0;34m(\u001b[0m\u001b[0;34m'data'\u001b[0m\u001b[0;34m,\u001b[0m \u001b[0;32mNone\u001b[0m\u001b[0;34m)\u001b[0m\u001b[0;34m\u001b[0m\u001b[0;34m\u001b[0m\u001b[0m\n\u001b[1;32m    106\u001b[0m \u001b[0;34m\u001b[0m\u001b[0m\n",
            "\u001b[0;31mMessageError\u001b[0m: Error: credential propagation was unsuccessful"
          ]
        }
      ]
    },
    {
      "cell_type": "code",
      "execution_count": null,
      "id": "a1fc6a67",
      "metadata": {
        "scrolled": true,
        "id": "a1fc6a67",
        "outputId": "4074e69c-159c-42db-c9ce-23b4178a848c",
        "colab": {
          "base_uri": "https://localhost:8080/",
          "height": 206
        }
      },
      "outputs": [
        {
          "output_type": "execute_result",
          "data": {
            "text/plain": [
              "   gender     race    parent_education         lunch        pre  reading  \\\n",
              "0    male  group A         high school      standard  completed       67   \n",
              "1  female  group D    some high school  free/reduced       none       59   \n",
              "2    male  group E        some college  free/reduced       none       60   \n",
              "3    male  group B         high school      standard       none       78   \n",
              "4    male  group E  associate's degree      standard  completed       73   \n",
              "\n",
              "   writing  \n",
              "0       63  \n",
              "1       55  \n",
              "2       50  \n",
              "3       68  \n",
              "4       68  "
            ],
            "text/html": [
              "\n",
              "  <div id=\"df-c58a59b9-10d6-4add-bbb9-1e269224bead\">\n",
              "    <div class=\"colab-df-container\">\n",
              "      <div>\n",
              "<style scoped>\n",
              "    .dataframe tbody tr th:only-of-type {\n",
              "        vertical-align: middle;\n",
              "    }\n",
              "\n",
              "    .dataframe tbody tr th {\n",
              "        vertical-align: top;\n",
              "    }\n",
              "\n",
              "    .dataframe thead th {\n",
              "        text-align: right;\n",
              "    }\n",
              "</style>\n",
              "<table border=\"1\" class=\"dataframe\">\n",
              "  <thead>\n",
              "    <tr style=\"text-align: right;\">\n",
              "      <th></th>\n",
              "      <th>gender</th>\n",
              "      <th>race</th>\n",
              "      <th>parent_education</th>\n",
              "      <th>lunch</th>\n",
              "      <th>pre</th>\n",
              "      <th>reading</th>\n",
              "      <th>writing</th>\n",
              "    </tr>\n",
              "  </thead>\n",
              "  <tbody>\n",
              "    <tr>\n",
              "      <th>0</th>\n",
              "      <td>male</td>\n",
              "      <td>group A</td>\n",
              "      <td>high school</td>\n",
              "      <td>standard</td>\n",
              "      <td>completed</td>\n",
              "      <td>67</td>\n",
              "      <td>63</td>\n",
              "    </tr>\n",
              "    <tr>\n",
              "      <th>1</th>\n",
              "      <td>female</td>\n",
              "      <td>group D</td>\n",
              "      <td>some high school</td>\n",
              "      <td>free/reduced</td>\n",
              "      <td>none</td>\n",
              "      <td>59</td>\n",
              "      <td>55</td>\n",
              "    </tr>\n",
              "    <tr>\n",
              "      <th>2</th>\n",
              "      <td>male</td>\n",
              "      <td>group E</td>\n",
              "      <td>some college</td>\n",
              "      <td>free/reduced</td>\n",
              "      <td>none</td>\n",
              "      <td>60</td>\n",
              "      <td>50</td>\n",
              "    </tr>\n",
              "    <tr>\n",
              "      <th>3</th>\n",
              "      <td>male</td>\n",
              "      <td>group B</td>\n",
              "      <td>high school</td>\n",
              "      <td>standard</td>\n",
              "      <td>none</td>\n",
              "      <td>78</td>\n",
              "      <td>68</td>\n",
              "    </tr>\n",
              "    <tr>\n",
              "      <th>4</th>\n",
              "      <td>male</td>\n",
              "      <td>group E</td>\n",
              "      <td>associate's degree</td>\n",
              "      <td>standard</td>\n",
              "      <td>completed</td>\n",
              "      <td>73</td>\n",
              "      <td>68</td>\n",
              "    </tr>\n",
              "  </tbody>\n",
              "</table>\n",
              "</div>\n",
              "      <button class=\"colab-df-convert\" onclick=\"convertToInteractive('df-c58a59b9-10d6-4add-bbb9-1e269224bead')\"\n",
              "              title=\"Convert this dataframe to an interactive table.\"\n",
              "              style=\"display:none;\">\n",
              "        \n",
              "  <svg xmlns=\"http://www.w3.org/2000/svg\" height=\"24px\"viewBox=\"0 0 24 24\"\n",
              "       width=\"24px\">\n",
              "    <path d=\"M0 0h24v24H0V0z\" fill=\"none\"/>\n",
              "    <path d=\"M18.56 5.44l.94 2.06.94-2.06 2.06-.94-2.06-.94-.94-2.06-.94 2.06-2.06.94zm-11 1L8.5 8.5l.94-2.06 2.06-.94-2.06-.94L8.5 2.5l-.94 2.06-2.06.94zm10 10l.94 2.06.94-2.06 2.06-.94-2.06-.94-.94-2.06-.94 2.06-2.06.94z\"/><path d=\"M17.41 7.96l-1.37-1.37c-.4-.4-.92-.59-1.43-.59-.52 0-1.04.2-1.43.59L10.3 9.45l-7.72 7.72c-.78.78-.78 2.05 0 2.83L4 21.41c.39.39.9.59 1.41.59.51 0 1.02-.2 1.41-.59l7.78-7.78 2.81-2.81c.8-.78.8-2.07 0-2.86zM5.41 20L4 18.59l7.72-7.72 1.47 1.35L5.41 20z\"/>\n",
              "  </svg>\n",
              "      </button>\n",
              "      \n",
              "  <style>\n",
              "    .colab-df-container {\n",
              "      display:flex;\n",
              "      flex-wrap:wrap;\n",
              "      gap: 12px;\n",
              "    }\n",
              "\n",
              "    .colab-df-convert {\n",
              "      background-color: #E8F0FE;\n",
              "      border: none;\n",
              "      border-radius: 50%;\n",
              "      cursor: pointer;\n",
              "      display: none;\n",
              "      fill: #1967D2;\n",
              "      height: 32px;\n",
              "      padding: 0 0 0 0;\n",
              "      width: 32px;\n",
              "    }\n",
              "\n",
              "    .colab-df-convert:hover {\n",
              "      background-color: #E2EBFA;\n",
              "      box-shadow: 0px 1px 2px rgba(60, 64, 67, 0.3), 0px 1px 3px 1px rgba(60, 64, 67, 0.15);\n",
              "      fill: #174EA6;\n",
              "    }\n",
              "\n",
              "    [theme=dark] .colab-df-convert {\n",
              "      background-color: #3B4455;\n",
              "      fill: #D2E3FC;\n",
              "    }\n",
              "\n",
              "    [theme=dark] .colab-df-convert:hover {\n",
              "      background-color: #434B5C;\n",
              "      box-shadow: 0px 1px 3px 1px rgba(0, 0, 0, 0.15);\n",
              "      filter: drop-shadow(0px 1px 2px rgba(0, 0, 0, 0.3));\n",
              "      fill: #FFFFFF;\n",
              "    }\n",
              "  </style>\n",
              "\n",
              "      <script>\n",
              "        const buttonEl =\n",
              "          document.querySelector('#df-c58a59b9-10d6-4add-bbb9-1e269224bead button.colab-df-convert');\n",
              "        buttonEl.style.display =\n",
              "          google.colab.kernel.accessAllowed ? 'block' : 'none';\n",
              "\n",
              "        async function convertToInteractive(key) {\n",
              "          const element = document.querySelector('#df-c58a59b9-10d6-4add-bbb9-1e269224bead');\n",
              "          const dataTable =\n",
              "            await google.colab.kernel.invokeFunction('convertToInteractive',\n",
              "                                                     [key], {});\n",
              "          if (!dataTable) return;\n",
              "\n",
              "          const docLinkHtml = 'Like what you see? Visit the ' +\n",
              "            '<a target=\"_blank\" href=https://colab.research.google.com/notebooks/data_table.ipynb>data table notebook</a>'\n",
              "            + ' to learn more about interactive tables.';\n",
              "          element.innerHTML = '';\n",
              "          dataTable['output_type'] = 'display_data';\n",
              "          await google.colab.output.renderOutput(dataTable, element);\n",
              "          const docLink = document.createElement('div');\n",
              "          docLink.innerHTML = docLinkHtml;\n",
              "          element.appendChild(docLink);\n",
              "        }\n",
              "      </script>\n",
              "    </div>\n",
              "  </div>\n",
              "  "
            ]
          },
          "metadata": {},
          "execution_count": 5
        }
      ],
      "source": [
        "#column rename\n",
        "donnees.rename(columns={\"race/ethnicity\":\"race\",\"parental level of education\":\"parent_education\"\n",
        "                    ,\"reading score\":\"reading\",\"writing score\":\"writing\",\n",
        "                    \"test preparation course\":\"pre\"},inplace=True)\n",
        "donnees.head()"
      ]
    },
    {
      "cell_type": "code",
      "execution_count": null,
      "id": "4c8c600c",
      "metadata": {
        "id": "4c8c600c",
        "outputId": "90e48e70-a66a-4821-dc24-9dc3a8d94ec5",
        "colab": {
          "base_uri": "https://localhost:8080/"
        }
      },
      "outputs": [
        {
          "output_type": "stream",
          "name": "stdout",
          "text": [
            "<class 'pandas.core.frame.DataFrame'>\n",
            "RangeIndex: 1000 entries, 0 to 999\n",
            "Data columns (total 7 columns):\n",
            " #   Column            Non-Null Count  Dtype \n",
            "---  ------            --------------  ----- \n",
            " 0   gender            1000 non-null   object\n",
            " 1   race              1000 non-null   object\n",
            " 2   parent_education  1000 non-null   object\n",
            " 3   lunch             1000 non-null   object\n",
            " 4   pre               1000 non-null   object\n",
            " 5   reading           1000 non-null   int64 \n",
            " 6   writing           1000 non-null   int64 \n",
            "dtypes: int64(2), object(5)\n",
            "memory usage: 54.8+ KB\n"
          ]
        }
      ],
      "source": [
        "donnees.info()"
      ]
    },
    {
      "cell_type": "code",
      "execution_count": null,
      "id": "c7e40e07",
      "metadata": {
        "id": "c7e40e07",
        "outputId": "c8f70655-e704-49cf-9b30-ecd0bdc702a6",
        "colab": {
          "base_uri": "https://localhost:8080/"
        }
      },
      "outputs": [
        {
          "output_type": "execute_result",
          "data": {
            "text/plain": [
              "gender              0\n",
              "race                0\n",
              "parent_education    0\n",
              "lunch               0\n",
              "pre                 0\n",
              "reading             0\n",
              "writing             0\n",
              "dtype: int64"
            ]
          },
          "metadata": {},
          "execution_count": 7
        }
      ],
      "source": [
        "donnees.isnull().sum()"
      ]
    },
    {
      "cell_type": "markdown",
      "id": "5603c2e5",
      "metadata": {
        "id": "5603c2e5"
      },
      "source": [
        "## 3- Explorez les attributs (Feature engineering)\n",
        "\n",
        "Analysons les performances des etudiants dans chaque domaine relativement aux attributs que nous avons.\n",
        "\n",
        "\n"
      ]
    },
    {
      "cell_type": "markdown",
      "source": [
        "### Analyse en fonction du genre"
      ],
      "metadata": {
        "id": "3vv2rWzN5PiR"
      },
      "id": "3vv2rWzN5PiR"
    },
    {
      "cell_type": "code",
      "execution_count": null,
      "id": "fa49f2c6",
      "metadata": {
        "id": "fa49f2c6",
        "outputId": "fab5d4c7-9d38-429c-8303-f14b2f3c2bd1",
        "colab": {
          "base_uri": "https://localhost:8080/",
          "height": 384
        }
      },
      "outputs": [
        {
          "output_type": "stream",
          "name": "stderr",
          "text": [
            "/usr/local/lib/python3.7/dist-packages/seaborn/_decorators.py:43: FutureWarning: Pass the following variables as keyword args: x, y. From version 0.12, the only valid positional argument will be `data`, and passing other arguments without an explicit keyword will result in an error or misinterpretation.\n",
            "  FutureWarning\n",
            "/usr/local/lib/python3.7/dist-packages/seaborn/_decorators.py:43: FutureWarning: Pass the following variables as keyword args: x, y. From version 0.12, the only valid positional argument will be `data`, and passing other arguments without an explicit keyword will result in an error or misinterpretation.\n",
            "  FutureWarning\n"
          ]
        },
        {
          "output_type": "display_data",
          "data": {
            "text/plain": [
              "<Figure size 432x288 with 2 Axes>"
            ],
            "image/png": "[encoded data removed]"
          },
          "metadata": {
            "needs_background": "light"
          }
        }
      ],
      "source": [
        "fig, ax = plt.subplots()\n",
        "fig.subplots_adjust(hspace=0.8, wspace=0.8, left = 0.2, right = 1.5)\n",
        "for idx in range(2):\n",
        "    plt.subplot(1,3, idx+1)\n",
        "    gender_df = donnees.groupby(\"gender\")[list(donnees.columns[-2:])[idx]].describe()\n",
        "    sns.barplot(gender_df.index, gender_df.loc[:,\"mean\"].values)\n",
        "    plt.ylabel(\"score\")\n",
        "    plt.title(list(donnees.columns[-2:])[idx])\n",
        "    \n",
        "plt.show(block=True)"
      ]
    },
    {
      "cell_type": "markdown",
      "id": "f88eb4b6",
      "metadata": {
        "id": "f88eb4b6"
      },
      "source": [
        "#### Conclusion\n",
        "On peut voir que les Hommes sont légèrement moins bon a l'ecris qu'a la lecture tandis que les femmes gardent la meme tentance. \n",
        "\n"
      ]
    },
    {
      "cell_type": "markdown",
      "source": [
        "### Analyse en fonction du groupe ethnique"
      ],
      "metadata": {
        "id": "1cSpYNjM4-ue"
      },
      "id": "1cSpYNjM4-ue"
    },
    {
      "cell_type": "code",
      "execution_count": null,
      "id": "7bd6eed9",
      "metadata": {
        "id": "7bd6eed9",
        "outputId": "fa1fa759-05dc-4838-e42a-5a85e123be0d",
        "colab": {
          "base_uri": "https://localhost:8080/",
          "height": 325
        }
      },
      "outputs": [
        {
          "output_type": "display_data",
          "data": {
            "text/plain": [
              "<Figure size 432x288 with 2 Axes>"
            ],
            "image/png": "[encoded data removed]"
          },
          "metadata": {
            "needs_background": "light"
          }
        }
      ],
      "source": [
        "fig, ax = plt.subplots()\n",
        "fig.subplots_adjust(hspace=0.8, wspace=0.8, left = 0.2, right = 1.5)\n",
        "for idx in range(2):\n",
        "    plt.subplot(1,3, idx+1)\n",
        "    ethn_df = donnees.groupby(\"race\")[list(donnees.columns[-2:])[idx]].mean()\n",
        "    sns.barplot(x=ethn_df.index, y = ethn_df.values, palette = \"Greens\")\n",
        "    plt.xlabel(\"Group\")\n",
        "    plt.ylabel(\"mean score\")\n",
        "    plt.xticks(rotation=90)\n",
        "    plt.title(list(donnees.columns[-2:])[idx])\n",
        "plt.show(block = True)"
      ]
    },
    {
      "cell_type": "markdown",
      "id": "11ccd490",
      "metadata": {
        "id": "11ccd490"
      },
      "source": [
        "\n",
        "\n",
        "#### Conclusion\n",
        "On peut voir selon les statistiques les etudiants du groupe A ont les pire notes et les etudiants du groupes E son meilleurs. Ce qui rend l'attribut groupe valable.\n"
      ]
    },
    {
      "cell_type": "markdown",
      "source": [
        "### Analyse en fonction des tests de preparation"
      ],
      "metadata": {
        "id": "QwDwXLZT5ZJW"
      },
      "id": "QwDwXLZT5ZJW"
    },
    {
      "cell_type": "code",
      "execution_count": null,
      "id": "1bb15f1e",
      "metadata": {
        "id": "1bb15f1e",
        "outputId": "9245b03f-91fb-446c-a157-12eb17492ba5",
        "colab": {
          "base_uri": "https://localhost:8080/",
          "height": 573
        }
      },
      "outputs": [
        {
          "output_type": "display_data",
          "data": {
            "text/plain": [
              "<Figure size 432x288 with 1 Axes>"
            ],
            "image/png": "[encoded data removed]"
          },
          "metadata": {
            "needs_background": "light"
          }
        },
        {
          "output_type": "display_data",
          "data": {
            "text/plain": [
              "<Figure size 432x288 with 1 Axes>"
            ],
            "image/png": "[encoded data removed]"
          },
          "metadata": {
            "needs_background": "light"
          }
        }
      ],
      "source": [
        "for item in donnees.columns[-2:]:\n",
        "    sns.boxplot(x=donnees[\"pre\"], y=donnees[item])\n",
        "    plt.title(item+\" vs pre test\", loc=\"left\")\n",
        "    plt.show()"
      ]
    },
    {
      "cell_type": "code",
      "source": [],
      "metadata": {
        "id": "VGG2le_nAf3m"
      },
      "id": "VGG2le_nAf3m",
      "execution_count": null,
      "outputs": []
    },
    {
      "cell_type": "markdown",
      "id": "0809266f",
      "metadata": {
        "id": "0809266f"
      },
      "source": [
        "#### Conclusion\n",
        "\n",
        "On peut voir que l'orsque les etudiants effectuent le test de prepation, les notes sont meilleures.\n",
        "\n"
      ]
    },
    {
      "cell_type": "markdown",
      "source": [
        "### Analyse en fonction du repas."
      ],
      "metadata": {
        "id": "h6Dm0yNe55gm"
      },
      "id": "h6Dm0yNe55gm"
    },
    {
      "cell_type": "code",
      "execution_count": null,
      "id": "5d9dbfbd",
      "metadata": {
        "id": "5d9dbfbd",
        "outputId": "1b1ee8dd-f900-4204-b614-52563aa1ccc7",
        "colab": {
          "base_uri": "https://localhost:8080/",
          "height": 573
        }
      },
      "outputs": [
        {
          "output_type": "display_data",
          "data": {
            "text/plain": [
              "<Figure size 432x288 with 1 Axes>"
            ],
            "image/png": "[encoded data removed]"
          },
          "metadata": {
            "needs_background": "light"
          }
        },
        {
          "output_type": "display_data",
          "data": {
            "text/plain": [
              "<Figure size 432x288 with 1 Axes>"
            ],
            "image/png": "[encoded data removed]"
          },
          "metadata": {
            "needs_background": "light"
          }
        }
      ],
      "source": [
        "for item in donnees.columns[-2:]:\n",
        "    sns.boxplot(x=donnees[\"lunch\"], y=donnees[item])\n",
        "    plt.title(item+\" vs lunch\", loc=\"left\")\n",
        "    plt.show()"
      ]
    },
    {
      "cell_type": "markdown",
      "source": [
        "#### Conclusion"
      ],
      "metadata": {
        "id": "_F9dUAGy59Ic"
      },
      "id": "_F9dUAGy59Ic"
    },
    {
      "cell_type": "markdown",
      "id": "b16db3d2",
      "metadata": {
        "id": "b16db3d2"
      },
      "source": [
        "\n",
        "\n",
        "Comme on peut le voir les etudiants qui se nourissent mieux excellent plus.\n",
        "Maintenant on va encoder les donnees pour rendre l'utilisation puls facile\n",
        "\n",
        "\n"
      ]
    },
    {
      "cell_type": "markdown",
      "source": [
        "### Analyse en fonction du niveau d'étude des parents"
      ],
      "metadata": {
        "id": "ChmdXOwS6HvK"
      },
      "id": "ChmdXOwS6HvK"
    },
    {
      "cell_type": "code",
      "source": [
        "fig, ax = plt.subplots(figsize=(12, 6))\n",
        "sns.barplot(data=donnees, x = \"parent_education\", y = \"reading\",ax=ax)\n"
      ],
      "metadata": {
        "colab": {
          "base_uri": "https://localhost:8080/",
          "height": 406
        },
        "id": "9TrYU0x86NWH",
        "outputId": "5bb0a9a4-51ee-40b7-d754-00bfc6fcc4a6"
      },
      "id": "9TrYU0x86NWH",
      "execution_count": null,
      "outputs": [
        {
          "output_type": "execute_result",
          "data": {
            "text/plain": [
              "<matplotlib.axes._subplots.AxesSubplot at 0x7f70d017e7d0>"
            ]
          },
          "metadata": {},
          "execution_count": 13
        },
        {
          "output_type": "display_data",
          "data": {
            "text/plain": [
              "<Figure size 864x432 with 1 Axes>"
            ],
            "image/png": "[encoded data removed]"
          },
          "metadata": {
            "needs_background": "light"
          }
        }
      ]
    },
    {
      "cell_type": "code",
      "source": [
        "fig, ax = plt.subplots(figsize=(12, 6))\n",
        "sns.barplot(data=donnees, x = \"parent_education\", y = \"writing\",ax=ax)"
      ],
      "metadata": {
        "colab": {
          "base_uri": "https://localhost:8080/",
          "height": 406
        },
        "id": "tiB3m-p8-U4A",
        "outputId": "e85fa2ee-d73f-4fa3-f5bd-fe028f1db0f1"
      },
      "id": "tiB3m-p8-U4A",
      "execution_count": null,
      "outputs": [
        {
          "output_type": "execute_result",
          "data": {
            "text/plain": [
              "<matplotlib.axes._subplots.AxesSubplot at 0x7f70d0187ed0>"
            ]
          },
          "metadata": {},
          "execution_count": 14
        },
        {
          "output_type": "display_data",
          "data": {
            "text/plain": [
              "<Figure size 864x432 with 1 Axes>"
            ],
            "image/png": "[encoded data removed]"
          },
          "metadata": {
            "needs_background": "light"
          }
        }
      ]
    },
    {
      "cell_type": "markdown",
      "source": [
        "#### Conclusion"
      ],
      "metadata": {
        "id": "_9oCXE2v-b1e"
      },
      "id": "_9oCXE2v-b1e"
    },
    {
      "cell_type": "markdown",
      "source": [
        "Nous constatons que les étudiants avec des parents ayant un niveau d'étude élevé ont de meilleures notes, que ce soit en écriture ou en lecture"
      ],
      "metadata": {
        "id": "U2wY8BVD-e_m"
      },
      "id": "U2wY8BVD-e_m"
    },
    {
      "cell_type": "markdown",
      "source": [
        "#### Utilité des attributs"
      ],
      "metadata": {
        "id": "EBmcI6bs-zo_"
      },
      "id": "EBmcI6bs-zo_"
    },
    {
      "cell_type": "markdown",
      "source": [
        "On se rend compte que ces attributs sont assez utiles pour notre classification. Nous partirons avec une première étude avec ces attributs et nous verrons par la suite s'il y'a lieu d'en ajouter d'autres"
      ],
      "metadata": {
        "id": "PNY9OKWR-8K0"
      },
      "id": "PNY9OKWR-8K0"
    },
    {
      "cell_type": "markdown",
      "source": [
        "## 4- Encodage des attributs\n",
        "Nous utiliserons un encodage OneHot pour nos différents attributs"
      ],
      "metadata": {
        "id": "lUtA0smS6EAo"
      },
      "id": "lUtA0smS6EAo"
    },
    {
      "cell_type": "code",
      "execution_count": null,
      "id": "8ce6ad23",
      "metadata": {
        "id": "8ce6ad23"
      },
      "outputs": [],
      "source": [
        "features=['gender','race','parent_education','pre',' lunch']\n",
        "label = ['reading ', 'writing ']\n",
        "\n",
        "\n",
        "# Categorical values need to be transformed into numeric.\n",
        "#donnees['gender'] = donnees['gender'].replace([\"female\", \"male\"], [0, 1])\n",
        "#donnees['lunch'] = donnees['lunch'].replace([\"standard\", \"free/reduced\"], [1, 0])\n",
        "#donnees['race'] = donnees['race'].replace(['group A', 'group B', 'group C','group D','group E'], [1, 2, 3, 4, 5])\n",
        "\n",
        "#donnees['parent_education'] = donnees['parent_education'].replace([\"master's degree\", \"bachelor's degree\", \"some high school\",'high school','some college',\"associate's degree\"], [1, 2, 3, 4, 5, 6])\n",
        "#donnees['pre'] = donnees['pre'].replace(['completed', 'none'], [1, 0])\n",
        "\n",
        "#One hot encoding\n",
        "donnees=pd.get_dummies(data=donnees, columns=[\"pre\",\"race\", \"parent_education\", \"gender\", \"lunch\"])\n"
      ]
    },
    {
      "cell_type": "code",
      "execution_count": null,
      "id": "affca286",
      "metadata": {
        "id": "affca286",
        "outputId": "c8e59271-2da0-4cd0-f892-7a5cb6c41bcc",
        "colab": {
          "base_uri": "https://localhost:8080/",
          "height": 758
        }
      },
      "outputs": [
        {
          "output_type": "execute_result",
          "data": {
            "text/plain": [
              "    reading  writing  pre_completed  pre_none  race_group A  race_group B  \\\n",
              "0        67       63              1         0             1             0   \n",
              "1        59       55              0         1             0             0   \n",
              "2        60       50              0         1             0             0   \n",
              "3        78       68              0         1             0             1   \n",
              "4        73       68              1         0             0             0   \n",
              "5        77       76              0         1             0             0   \n",
              "6        59       63              0         1             1             0   \n",
              "7        88       84              1         0             0             0   \n",
              "8        56       65              0         1             0             0   \n",
              "9        42       45              0         1             0             0   \n",
              "10       83       85              1         0             0             0   \n",
              "11       87       90              1         0             0             0   \n",
              "12       87       85              1         0             0             0   \n",
              "13       74       73              1         0             0             0   \n",
              "14       87       85              1         0             0             0   \n",
              "15       61       57              0         1             0             0   \n",
              "16       47       42              0         1             0             1   \n",
              "17       62       65              1         0             0             0   \n",
              "18       44       44              0         1             0             0   \n",
              "19       32       31              0         1             0             0   \n",
              "\n",
              "    race_group C  race_group D  race_group E  \\\n",
              "0              0             0             0   \n",
              "1              0             1             0   \n",
              "2              0             0             1   \n",
              "3              0             0             0   \n",
              "4              0             0             1   \n",
              "5              0             1             0   \n",
              "6              0             0             0   \n",
              "7              0             0             1   \n",
              "8              0             1             0   \n",
              "9              1             0             0   \n",
              "10             0             0             1   \n",
              "11             0             1             0   \n",
              "12             0             1             0   \n",
              "13             1             0             0   \n",
              "14             0             0             1   \n",
              "15             0             0             1   \n",
              "16             0             0             0   \n",
              "17             1             0             0   \n",
              "18             1             0             0   \n",
              "19             1             0             0   \n",
              "\n",
              "    parent_education_associate's degree  parent_education_bachelor's degree  \\\n",
              "0                                     0                                   0   \n",
              "1                                     0                                   0   \n",
              "2                                     0                                   0   \n",
              "3                                     0                                   0   \n",
              "4                                     1                                   0   \n",
              "5                                     0                                   0   \n",
              "6                                     0                                   1   \n",
              "7                                     0                                   0   \n",
              "8                                     0                                   0   \n",
              "9                                     0                                   0   \n",
              "10                                    0                                   0   \n",
              "11                                    0                                   0   \n",
              "12                                    1                                   0   \n",
              "13                                    0                                   0   \n",
              "14                                    0                                   0   \n",
              "15                                    1                                   0   \n",
              "16                                    0                                   0   \n",
              "17                                    1                                   0   \n",
              "18                                    1                                   0   \n",
              "19                                    0                                   0   \n",
              "\n",
              "    parent_education_high school  parent_education_master's degree  \\\n",
              "0                              1                                 0   \n",
              "1                              0                                 0   \n",
              "2                              0                                 0   \n",
              "3                              1                                 0   \n",
              "4                              0                                 0   \n",
              "5                              1                                 0   \n",
              "6                              0                                 0   \n",
              "7                              0                                 0   \n",
              "8                              1                                 0   \n",
              "9                              0                                 0   \n",
              "10                             0                                 0   \n",
              "11                             1                                 0   \n",
              "12                             0                                 0   \n",
              "13                             1                                 0   \n",
              "14                             0                                 0   \n",
              "15                             0                                 0   \n",
              "16                             1                                 0   \n",
              "17                             0                                 0   \n",
              "18                             0                                 0   \n",
              "19                             0                                 0   \n",
              "\n",
              "    parent_education_some college  parent_education_some high school  \\\n",
              "0                               0                                  0   \n",
              "1                               0                                  1   \n",
              "2                               1                                  0   \n",
              "3                               0                                  0   \n",
              "4                               0                                  0   \n",
              "5                               0                                  0   \n",
              "6                               0                                  0   \n",
              "7                               1                                  0   \n",
              "8                               0                                  0   \n",
              "9                               1                                  0   \n",
              "10                              1                                  0   \n",
              "11                              0                                  0   \n",
              "12                              0                                  0   \n",
              "13                              0                                  0   \n",
              "14                              0                                  1   \n",
              "15                              0                                  0   \n",
              "16                              0                                  0   \n",
              "17                              0                                  0   \n",
              "18                              0                                  0   \n",
              "19                              1                                  0   \n",
              "\n",
              "    gender_female  gender_male  lunch_free/reduced  lunch_standard  \n",
              "0               0            1                   0               1  \n",
              "1               1            0                   1               0  \n",
              "2               0            1                   1               0  \n",
              "3               0            1                   0               1  \n",
              "4               0            1                   0               1  \n",
              "5               1            0                   0               1  \n",
              "6               1            0                   0               1  \n",
              "7               0            1                   0               1  \n",
              "8               0            1                   0               1  \n",
              "9               0            1                   1               0  \n",
              "10              0            1                   0               1  \n",
              "11              1            0                   0               1  \n",
              "12              0            1                   0               1  \n",
              "13              0            1                   0               1  \n",
              "14              0            1                   0               1  \n",
              "15              0            1                   1               0  \n",
              "16              0            1                   0               1  \n",
              "17              1            0                   0               1  \n",
              "18              1            0                   1               0  \n",
              "19              0            1                   1               0  "
            ],
            "text/html": [
              "\n",
              "  <div id=\"df-f338f717-db4e-4fe6-a85d-42c3db90e1ec\">\n",
              "    <div class=\"colab-df-container\">\n",
              "      <div>\n",
              "<style scoped>\n",
              "    .dataframe tbody tr th:only-of-type {\n",
              "        vertical-align: middle;\n",
              "    }\n",
              "\n",
              "    .dataframe tbody tr th {\n",
              "        vertical-align: top;\n",
              "    }\n",
              "\n",
              "    .dataframe thead th {\n",
              "        text-align: right;\n",
              "    }\n",
              "</style>\n",
              "<table border=\"1\" class=\"dataframe\">\n",
              "  <thead>\n",
              "    <tr style=\"text-align: right;\">\n",
              "      <th></th>\n",
              "      <th>reading</th>\n",
              "      <th>writing</th>\n",
              "      <th>pre_completed</th>\n",
              "      <th>pre_none</th>\n",
              "      <th>race_group A</th>\n",
              "      <th>race_group B</th>\n",
              "      <th>race_group C</th>\n",
              "      <th>race_group D</th>\n",
              "      <th>race_group E</th>\n",
              "      <th>parent_education_associate's degree</th>\n",
              "      <th>parent_education_bachelor's degree</th>\n",
              "      <th>parent_education_high school</th>\n",
              "      <th>parent_education_master's degree</th>\n",
              "      <th>parent_education_some college</th>\n",
              "      <th>parent_education_some high school</th>\n",
              "      <th>gender_female</th>\n",
              "      <th>gender_male</th>\n",
              "      <th>lunch_free/reduced</th>\n",
              "      <th>lunch_standard</th>\n",
              "    </tr>\n",
              "  </thead>\n",
              "  <tbody>\n",
              "    <tr>\n",
              "      <th>0</th>\n",
              "      <td>67</td>\n",
              "      <td>63</td>\n",
              "      <td>1</td>\n",
              "      <td>0</td>\n",
              "      <td>1</td>\n",
              "      <td>0</td>\n",
              "      <td>0</td>\n",
              "      <td>0</td>\n",
              "      <td>0</td>\n",
              "      <td>0</td>\n",
              "      <td>0</td>\n",
              "      <td>1</td>\n",
              "      <td>0</td>\n",
              "      <td>0</td>\n",
              "      <td>0</td>\n",
              "      <td>0</td>\n",
              "      <td>1</td>\n",
              "      <td>0</td>\n",
              "      <td>1</td>\n",
              "    </tr>\n",
              "    <tr>\n",
              "      <th>1</th>\n",
              "      <td>59</td>\n",
              "      <td>55</td>\n",
              "      <td>0</td>\n",
              "      <td>1</td>\n",
              "      <td>0</td>\n",
              "      <td>0</td>\n",
              "      <td>0</td>\n",
              "      <td>1</td>\n",
              "      <td>0</td>\n",
              "      <td>0</td>\n",
              "      <td>0</td>\n",
              "      <td>0</td>\n",
              "      <td>0</td>\n",
              "      <td>0</td>\n",
              "      <td>1</td>\n",
              "      <td>1</td>\n",
              "      <td>0</td>\n",
              "      <td>1</td>\n",
              "      <td>0</td>\n",
              "    </tr>\n",
              "    <tr>\n",
              "      <th>2</th>\n",
              "      <td>60</td>\n",
              "      <td>50</td>\n",
              "      <td>0</td>\n",
              "      <td>1</td>\n",
              "      <td>0</td>\n",
              "      <td>0</td>\n",
              "      <td>0</td>\n",
              "      <td>0</td>\n",
              "      <td>1</td>\n",
              "      <td>0</td>\n",
              "      <td>0</td>\n",
              "      <td>0</td>\n",
              "      <td>0</td>\n",
              "      <td>1</td>\n",
              "      <td>0</td>\n",
              "      <td>0</td>\n",
              "      <td>1</td>\n",
              "      <td>1</td>\n",
              "      <td>0</td>\n",
              "    </tr>\n",
              "    <tr>\n",
              "      <th>3</th>\n",
              "      <td>78</td>\n",
              "      <td>68</td>\n",
              "      <td>0</td>\n",
              "      <td>1</td>\n",
              "      <td>0</td>\n",
              "      <td>1</td>\n",
              "      <td>0</td>\n",
              "      <td>0</td>\n",
              "      <td>0</td>\n",
              "      <td>0</td>\n",
              "      <td>0</td>\n",
              "      <td>1</td>\n",
              "      <td>0</td>\n",
              "      <td>0</td>\n",
              "      <td>0</td>\n",
              "      <td>0</td>\n",
              "      <td>1</td>\n",
              "      <td>0</td>\n",
              "      <td>1</td>\n",
              "    </tr>\n",
              "    <tr>\n",
              "      <th>4</th>\n",
              "      <td>73</td>\n",
              "      <td>68</td>\n",
              "      <td>1</td>\n",
              "      <td>0</td>\n",
              "      <td>0</td>\n",
              "      <td>0</td>\n",
              "      <td>0</td>\n",
              "      <td>0</td>\n",
              "      <td>1</td>\n",
              "      <td>1</td>\n",
              "      <td>0</td>\n",
              "      <td>0</td>\n",
              "      <td>0</td>\n",
              "      <td>0</td>\n",
              "      <td>0</td>\n",
              "      <td>0</td>\n",
              "      <td>1</td>\n",
              "      <td>0</td>\n",
              "      <td>1</td>\n",
              "    </tr>\n",
              "    <tr>\n",
              "      <th>5</th>\n",
              "      <td>77</td>\n",
              "      <td>76</td>\n",
              "      <td>0</td>\n",
              "      <td>1</td>\n",
              "      <td>0</td>\n",
              "      <td>0</td>\n",
              "      <td>0</td>\n",
              "      <td>1</td>\n",
              "      <td>0</td>\n",
              "      <td>0</td>\n",
              "      <td>0</td>\n",
              "      <td>1</td>\n",
              "      <td>0</td>\n",
              "      <td>0</td>\n",
              "      <td>0</td>\n",
              "      <td>1</td>\n",
              "      <td>0</td>\n",
              "      <td>0</td>\n",
              "      <td>1</td>\n",
              "    </tr>\n",
              "    <tr>\n",
              "      <th>6</th>\n",
              "      <td>59</td>\n",
              "      <td>63</td>\n",
              "      <td>0</td>\n",
              "      <td>1</td>\n",
              "      <td>1</td>\n",
              "      <td>0</td>\n",
              "      <td>0</td>\n",
              "      <td>0</td>\n",
              "      <td>0</td>\n",
              "      <td>0</td>\n",
              "      <td>1</td>\n",
              "      <td>0</td>\n",
              "      <td>0</td>\n",
              "      <td>0</td>\n",
              "      <td>0</td>\n",
              "      <td>1</td>\n",
              "      <td>0</td>\n",
              "      <td>0</td>\n",
              "      <td>1</td>\n",
              "    </tr>\n",
              "    <tr>\n",
              "      <th>7</th>\n",
              "      <td>88</td>\n",
              "      <td>84</td>\n",
              "      <td>1</td>\n",
              "      <td>0</td>\n",
              "      <td>0</td>\n",
              "      <td>0</td>\n",
              "      <td>0</td>\n",
              "      <td>0</td>\n",
              "      <td>1</td>\n",
              "      <td>0</td>\n",
              "      <td>0</td>\n",
              "      <td>0</td>\n",
              "      <td>0</td>\n",
              "      <td>1</td>\n",
              "      <td>0</td>\n",
              "      <td>0</td>\n",
              "      <td>1</td>\n",
              "      <td>0</td>\n",
              "      <td>1</td>\n",
              "    </tr>\n",
              "    <tr>\n",
              "      <th>8</th>\n",
              "      <td>56</td>\n",
              "      <td>65</td>\n",
              "      <td>0</td>\n",
              "      <td>1</td>\n",
              "      <td>0</td>\n",
              "      <td>0</td>\n",
              "      <td>0</td>\n",
              "      <td>1</td>\n",
              "      <td>0</td>\n",
              "      <td>0</td>\n",
              "      <td>0</td>\n",
              "      <td>1</td>\n",
              "      <td>0</td>\n",
              "      <td>0</td>\n",
              "      <td>0</td>\n",
              "      <td>0</td>\n",
              "      <td>1</td>\n",
              "      <td>0</td>\n",
              "      <td>1</td>\n",
              "    </tr>\n",
              "    <tr>\n",
              "      <th>9</th>\n",
              "      <td>42</td>\n",
              "      <td>45</td>\n",
              "      <td>0</td>\n",
              "      <td>1</td>\n",
              "      <td>0</td>\n",
              "      <td>0</td>\n",
              "      <td>1</td>\n",
              "      <td>0</td>\n",
              "      <td>0</td>\n",
              "      <td>0</td>\n",
              "      <td>0</td>\n",
              "      <td>0</td>\n",
              "      <td>0</td>\n",
              "      <td>1</td>\n",
              "      <td>0</td>\n",
              "      <td>0</td>\n",
              "      <td>1</td>\n",
              "      <td>1</td>\n",
              "      <td>0</td>\n",
              "    </tr>\n",
              "    <tr>\n",
              "      <th>10</th>\n",
              "      <td>83</td>\n",
              "      <td>85</td>\n",
              "      <td>1</td>\n",
              "      <td>0</td>\n",
              "      <td>0</td>\n",
              "      <td>0</td>\n",
              "      <td>0</td>\n",
              "      <td>0</td>\n",
              "      <td>1</td>\n",
              "      <td>0</td>\n",
              "      <td>0</td>\n",
              "      <td>0</td>\n",
              "      <td>0</td>\n",
              "      <td>1</td>\n",
              "      <td>0</td>\n",
              "      <td>0</td>\n",
              "      <td>1</td>\n",
              "      <td>0</td>\n",
              "      <td>1</td>\n",
              "    </tr>\n",
              "    <tr>\n",
              "      <th>11</th>\n",
              "      <td>87</td>\n",
              "      <td>90</td>\n",
              "      <td>1</td>\n",
              "      <td>0</td>\n",
              "      <td>0</td>\n",
              "      <td>0</td>\n",
              "      <td>0</td>\n",
              "      <td>1</td>\n",
              "      <td>0</td>\n",
              "      <td>0</td>\n",
              "      <td>0</td>\n",
              "      <td>1</td>\n",
              "      <td>0</td>\n",
              "      <td>0</td>\n",
              "      <td>0</td>\n",
              "      <td>1</td>\n",
              "      <td>0</td>\n",
              "      <td>0</td>\n",
              "      <td>1</td>\n",
              "    </tr>\n",
              "    <tr>\n",
              "      <th>12</th>\n",
              "      <td>87</td>\n",
              "      <td>85</td>\n",
              "      <td>1</td>\n",
              "      <td>0</td>\n",
              "      <td>0</td>\n",
              "      <td>0</td>\n",
              "      <td>0</td>\n",
              "      <td>1</td>\n",
              "      <td>0</td>\n",
              "      <td>1</td>\n",
              "      <td>0</td>\n",
              "      <td>0</td>\n",
              "      <td>0</td>\n",
              "      <td>0</td>\n",
              "      <td>0</td>\n",
              "      <td>0</td>\n",
              "      <td>1</td>\n",
              "      <td>0</td>\n",
              "      <td>1</td>\n",
              "    </tr>\n",
              "    <tr>\n",
              "      <th>13</th>\n",
              "      <td>74</td>\n",
              "      <td>73</td>\n",
              "      <td>1</td>\n",
              "      <td>0</td>\n",
              "      <td>0</td>\n",
              "      <td>0</td>\n",
              "      <td>1</td>\n",
              "      <td>0</td>\n",
              "      <td>0</td>\n",
              "      <td>0</td>\n",
              "      <td>0</td>\n",
              "      <td>1</td>\n",
              "      <td>0</td>\n",
              "      <td>0</td>\n",
              "      <td>0</td>\n",
              "      <td>0</td>\n",
              "      <td>1</td>\n",
              "      <td>0</td>\n",
              "      <td>1</td>\n",
              "    </tr>\n",
              "    <tr>\n",
              "      <th>14</th>\n",
              "      <td>87</td>\n",
              "      <td>85</td>\n",
              "      <td>1</td>\n",
              "      <td>0</td>\n",
              "      <td>0</td>\n",
              "      <td>0</td>\n",
              "      <td>0</td>\n",
              "      <td>0</td>\n",
              "      <td>1</td>\n",
              "      <td>0</td>\n",
              "      <td>0</td>\n",
              "      <td>0</td>\n",
              "      <td>0</td>\n",
              "      <td>0</td>\n",
              "      <td>1</td>\n",
              "      <td>0</td>\n",
              "      <td>1</td>\n",
              "      <td>0</td>\n",
              "      <td>1</td>\n",
              "    </tr>\n",
              "    <tr>\n",
              "      <th>15</th>\n",
              "      <td>61</td>\n",
              "      <td>57</td>\n",
              "      <td>0</td>\n",
              "      <td>1</td>\n",
              "      <td>0</td>\n",
              "      <td>0</td>\n",
              "      <td>0</td>\n",
              "      <td>0</td>\n",
              "      <td>1</td>\n",
              "      <td>1</td>\n",
              "      <td>0</td>\n",
              "      <td>0</td>\n",
              "      <td>0</td>\n",
              "      <td>0</td>\n",
              "      <td>0</td>\n",
              "      <td>0</td>\n",
              "      <td>1</td>\n",
              "      <td>1</td>\n",
              "      <td>0</td>\n",
              "    </tr>\n",
              "    <tr>\n",
              "      <th>16</th>\n",
              "      <td>47</td>\n",
              "      <td>42</td>\n",
              "      <td>0</td>\n",
              "      <td>1</td>\n",
              "      <td>0</td>\n",
              "      <td>1</td>\n",
              "      <td>0</td>\n",
              "      <td>0</td>\n",
              "      <td>0</td>\n",
              "      <td>0</td>\n",
              "      <td>0</td>\n",
              "      <td>1</td>\n",
              "      <td>0</td>\n",
              "      <td>0</td>\n",
              "      <td>0</td>\n",
              "      <td>0</td>\n",
              "      <td>1</td>\n",
              "      <td>0</td>\n",
              "      <td>1</td>\n",
              "    </tr>\n",
              "    <tr>\n",
              "      <th>17</th>\n",
              "      <td>62</td>\n",
              "      <td>65</td>\n",
              "      <td>1</td>\n",
              "      <td>0</td>\n",
              "      <td>0</td>\n",
              "      <td>0</td>\n",
              "      <td>1</td>\n",
              "      <td>0</td>\n",
              "      <td>0</td>\n",
              "      <td>1</td>\n",
              "      <td>0</td>\n",
              "      <td>0</td>\n",
              "      <td>0</td>\n",
              "      <td>0</td>\n",
              "      <td>0</td>\n",
              "      <td>1</td>\n",
              "      <td>0</td>\n",
              "      <td>0</td>\n",
              "      <td>1</td>\n",
              "    </tr>\n",
              "    <tr>\n",
              "      <th>18</th>\n",
              "      <td>44</td>\n",
              "      <td>44</td>\n",
              "      <td>0</td>\n",
              "      <td>1</td>\n",
              "      <td>0</td>\n",
              "      <td>0</td>\n",
              "      <td>1</td>\n",
              "      <td>0</td>\n",
              "      <td>0</td>\n",
              "      <td>1</td>\n",
              "      <td>0</td>\n",
              "      <td>0</td>\n",
              "      <td>0</td>\n",
              "      <td>0</td>\n",
              "      <td>0</td>\n",
              "      <td>1</td>\n",
              "      <td>0</td>\n",
              "      <td>1</td>\n",
              "      <td>0</td>\n",
              "    </tr>\n",
              "    <tr>\n",
              "      <th>19</th>\n",
              "      <td>32</td>\n",
              "      <td>31</td>\n",
              "      <td>0</td>\n",
              "      <td>1</td>\n",
              "      <td>0</td>\n",
              "      <td>0</td>\n",
              "      <td>1</td>\n",
              "      <td>0</td>\n",
              "      <td>0</td>\n",
              "      <td>0</td>\n",
              "      <td>0</td>\n",
              "      <td>0</td>\n",
              "      <td>0</td>\n",
              "      <td>1</td>\n",
              "      <td>0</td>\n",
              "      <td>0</td>\n",
              "      <td>1</td>\n",
              "      <td>1</td>\n",
              "      <td>0</td>\n",
              "    </tr>\n",
              "  </tbody>\n",
              "</table>\n",
              "</div>\n",
              "      <button class=\"colab-df-convert\" onclick=\"convertToInteractive('df-f338f717-db4e-4fe6-a85d-42c3db90e1ec')\"\n",
              "              title=\"Convert this dataframe to an interactive table.\"\n",
              "              style=\"display:none;\">\n",
              "        \n",
              "  <svg xmlns=\"http://www.w3.org/2000/svg\" height=\"24px\"viewBox=\"0 0 24 24\"\n",
              "       width=\"24px\">\n",
              "    <path d=\"M0 0h24v24H0V0z\" fill=\"none\"/>\n",
              "    <path d=\"M18.56 5.44l.94 2.06.94-2.06 2.06-.94-2.06-.94-.94-2.06-.94 2.06-2.06.94zm-11 1L8.5 8.5l.94-2.06 2.06-.94-2.06-.94L8.5 2.5l-.94 2.06-2.06.94zm10 10l.94 2.06.94-2.06 2.06-.94-2.06-.94-.94-2.06-.94 2.06-2.06.94z\"/><path d=\"M17.41 7.96l-1.37-1.37c-.4-.4-.92-.59-1.43-.59-.52 0-1.04.2-1.43.59L10.3 9.45l-7.72 7.72c-.78.78-.78 2.05 0 2.83L4 21.41c.39.39.9.59 1.41.59.51 0 1.02-.2 1.41-.59l7.78-7.78 2.81-2.81c.8-.78.8-2.07 0-2.86zM5.41 20L4 18.59l7.72-7.72 1.47 1.35L5.41 20z\"/>\n",
              "  </svg>\n",
              "      </button>\n",
              "      \n",
              "  <style>\n",
              "    .colab-df-container {\n",
              "      display:flex;\n",
              "      flex-wrap:wrap;\n",
              "      gap: 12px;\n",
              "    }\n",
              "\n",
              "    .colab-df-convert {\n",
              "      background-color: #E8F0FE;\n",
              "      border: none;\n",
              "      border-radius: 50%;\n",
              "      cursor: pointer;\n",
              "      display: none;\n",
              "      fill: #1967D2;\n",
              "      height: 32px;\n",
              "      padding: 0 0 0 0;\n",
              "      width: 32px;\n",
              "    }\n",
              "\n",
              "    .colab-df-convert:hover {\n",
              "      background-color: #E2EBFA;\n",
              "      box-shadow: 0px 1px 2px rgba(60, 64, 67, 0.3), 0px 1px 3px 1px rgba(60, 64, 67, 0.15);\n",
              "      fill: #174EA6;\n",
              "    }\n",
              "\n",
              "    [theme=dark] .colab-df-convert {\n",
              "      background-color: #3B4455;\n",
              "      fill: #D2E3FC;\n",
              "    }\n",
              "\n",
              "    [theme=dark] .colab-df-convert:hover {\n",
              "      background-color: #434B5C;\n",
              "      box-shadow: 0px 1px 3px 1px rgba(0, 0, 0, 0.15);\n",
              "      filter: drop-shadow(0px 1px 2px rgba(0, 0, 0, 0.3));\n",
              "      fill: #FFFFFF;\n",
              "    }\n",
              "  </style>\n",
              "\n",
              "      <script>\n",
              "        const buttonEl =\n",
              "          document.querySelector('#df-f338f717-db4e-4fe6-a85d-42c3db90e1ec button.colab-df-convert');\n",
              "        buttonEl.style.display =\n",
              "          google.colab.kernel.accessAllowed ? 'block' : 'none';\n",
              "\n",
              "        async function convertToInteractive(key) {\n",
              "          const element = document.querySelector('#df-f338f717-db4e-4fe6-a85d-42c3db90e1ec');\n",
              "          const dataTable =\n",
              "            await google.colab.kernel.invokeFunction('convertToInteractive',\n",
              "                                                     [key], {});\n",
              "          if (!dataTable) return;\n",
              "\n",
              "          const docLinkHtml = 'Like what you see? Visit the ' +\n",
              "            '<a target=\"_blank\" href=https://colab.research.google.com/notebooks/data_table.ipynb>data table notebook</a>'\n",
              "            + ' to learn more about interactive tables.';\n",
              "          element.innerHTML = '';\n",
              "          dataTable['output_type'] = 'display_data';\n",
              "          await google.colab.output.renderOutput(dataTable, element);\n",
              "          const docLink = document.createElement('div');\n",
              "          docLink.innerHTML = docLinkHtml;\n",
              "          element.appendChild(docLink);\n",
              "        }\n",
              "      </script>\n",
              "    </div>\n",
              "  </div>\n",
              "  "
            ]
          },
          "metadata": {},
          "execution_count": 16
        }
      ],
      "source": [
        "donnees.head(20)"
      ]
    },
    {
      "cell_type": "code",
      "execution_count": null,
      "id": "5595fe81",
      "metadata": {
        "id": "5595fe81"
      },
      "outputs": [],
      "source": [
        "#preprocessing Data reading score\n",
        "bins=(1.,50.,70.,80.,100.)\n",
        "group_names=['mauvais', 'moyen', 'bon','tresBon']\n",
        "donnees['reading']=pd.cut(donnees['reading'], bins = bins, labels=group_names)\n"
      ]
    },
    {
      "cell_type": "code",
      "source": [
        "donnees.head(20)"
      ],
      "metadata": {
        "colab": {
          "base_uri": "https://localhost:8080/",
          "height": 758
        },
        "id": "3Ntxftxfj60y",
        "outputId": "3e09fd40-b1ac-4895-f47f-d736044d7d35"
      },
      "id": "3Ntxftxfj60y",
      "execution_count": null,
      "outputs": [
        {
          "output_type": "execute_result",
          "data": {
            "text/plain": [
              "    reading  writing  pre_completed  pre_none  race_group A  race_group B  \\\n",
              "0     moyen       63              1         0             1             0   \n",
              "1     moyen       55              0         1             0             0   \n",
              "2     moyen       50              0         1             0             0   \n",
              "3       bon       68              0         1             0             1   \n",
              "4       bon       68              1         0             0             0   \n",
              "5       bon       76              0         1             0             0   \n",
              "6     moyen       63              0         1             1             0   \n",
              "7   tresBon       84              1         0             0             0   \n",
              "8     moyen       65              0         1             0             0   \n",
              "9   mauvais       45              0         1             0             0   \n",
              "10  tresBon       85              1         0             0             0   \n",
              "11  tresBon       90              1         0             0             0   \n",
              "12  tresBon       85              1         0             0             0   \n",
              "13      bon       73              1         0             0             0   \n",
              "14  tresBon       85              1         0             0             0   \n",
              "15    moyen       57              0         1             0             0   \n",
              "16  mauvais       42              0         1             0             1   \n",
              "17    moyen       65              1         0             0             0   \n",
              "18  mauvais       44              0         1             0             0   \n",
              "19  mauvais       31              0         1             0             0   \n",
              "\n",
              "    race_group C  race_group D  race_group E  \\\n",
              "0              0             0             0   \n",
              "1              0             1             0   \n",
              "2              0             0             1   \n",
              "3              0             0             0   \n",
              "4              0             0             1   \n",
              "5              0             1             0   \n",
              "6              0             0             0   \n",
              "7              0             0             1   \n",
              "8              0             1             0   \n",
              "9              1             0             0   \n",
              "10             0             0             1   \n",
              "11             0             1             0   \n",
              "12             0             1             0   \n",
              "13             1             0             0   \n",
              "14             0             0             1   \n",
              "15             0             0             1   \n",
              "16             0             0             0   \n",
              "17             1             0             0   \n",
              "18             1             0             0   \n",
              "19             1             0             0   \n",
              "\n",
              "    parent_education_associate's degree  parent_education_bachelor's degree  \\\n",
              "0                                     0                                   0   \n",
              "1                                     0                                   0   \n",
              "2                                     0                                   0   \n",
              "3                                     0                                   0   \n",
              "4                                     1                                   0   \n",
              "5                                     0                                   0   \n",
              "6                                     0                                   1   \n",
              "7                                     0                                   0   \n",
              "8                                     0                                   0   \n",
              "9                                     0                                   0   \n",
              "10                                    0                                   0   \n",
              "11                                    0                                   0   \n",
              "12                                    1                                   0   \n",
              "13                                    0                                   0   \n",
              "14                                    0                                   0   \n",
              "15                                    1                                   0   \n",
              "16                                    0                                   0   \n",
              "17                                    1                                   0   \n",
              "18                                    1                                   0   \n",
              "19                                    0                                   0   \n",
              "\n",
              "    parent_education_high school  parent_education_master's degree  \\\n",
              "0                              1                                 0   \n",
              "1                              0                                 0   \n",
              "2                              0                                 0   \n",
              "3                              1                                 0   \n",
              "4                              0                                 0   \n",
              "5                              1                                 0   \n",
              "6                              0                                 0   \n",
              "7                              0                                 0   \n",
              "8                              1                                 0   \n",
              "9                              0                                 0   \n",
              "10                             0                                 0   \n",
              "11                             1                                 0   \n",
              "12                             0                                 0   \n",
              "13                             1                                 0   \n",
              "14                             0                                 0   \n",
              "15                             0                                 0   \n",
              "16                             1                                 0   \n",
              "17                             0                                 0   \n",
              "18                             0                                 0   \n",
              "19                             0                                 0   \n",
              "\n",
              "    parent_education_some college  parent_education_some high school  \\\n",
              "0                               0                                  0   \n",
              "1                               0                                  1   \n",
              "2                               1                                  0   \n",
              "3                               0                                  0   \n",
              "4                               0                                  0   \n",
              "5                               0                                  0   \n",
              "6                               0                                  0   \n",
              "7                               1                                  0   \n",
              "8                               0                                  0   \n",
              "9                               1                                  0   \n",
              "10                              1                                  0   \n",
              "11                              0                                  0   \n",
              "12                              0                                  0   \n",
              "13                              0                                  0   \n",
              "14                              0                                  1   \n",
              "15                              0                                  0   \n",
              "16                              0                                  0   \n",
              "17                              0                                  0   \n",
              "18                              0                                  0   \n",
              "19                              1                                  0   \n",
              "\n",
              "    gender_female  gender_male  lunch_free/reduced  lunch_standard  \n",
              "0               0            1                   0               1  \n",
              "1               1            0                   1               0  \n",
              "2               0            1                   1               0  \n",
              "3               0            1                   0               1  \n",
              "4               0            1                   0               1  \n",
              "5               1            0                   0               1  \n",
              "6               1            0                   0               1  \n",
              "7               0            1                   0               1  \n",
              "8               0            1                   0               1  \n",
              "9               0            1                   1               0  \n",
              "10              0            1                   0               1  \n",
              "11              1            0                   0               1  \n",
              "12              0            1                   0               1  \n",
              "13              0            1                   0               1  \n",
              "14              0            1                   0               1  \n",
              "15              0            1                   1               0  \n",
              "16              0            1                   0               1  \n",
              "17              1            0                   0               1  \n",
              "18              1            0                   1               0  \n",
              "19              0            1                   1               0  "
            ],
            "text/html": [
              "\n",
              "  <div id=\"df-4716268b-aba7-4d90-8206-d291ddbd927a\">\n",
              "    <div class=\"colab-df-container\">\n",
              "      <div>\n",
              "<style scoped>\n",
              "    .dataframe tbody tr th:only-of-type {\n",
              "        vertical-align: middle;\n",
              "    }\n",
              "\n",
              "    .dataframe tbody tr th {\n",
              "        vertical-align: top;\n",
              "    }\n",
              "\n",
              "    .dataframe thead th {\n",
              "        text-align: right;\n",
              "    }\n",
              "</style>\n",
              "<table border=\"1\" class=\"dataframe\">\n",
              "  <thead>\n",
              "    <tr style=\"text-align: right;\">\n",
              "      <th></th>\n",
              "      <th>reading</th>\n",
              "      <th>writing</th>\n",
              "      <th>pre_completed</th>\n",
              "      <th>pre_none</th>\n",
              "      <th>race_group A</th>\n",
              "      <th>race_group B</th>\n",
              "      <th>race_group C</th>\n",
              "      <th>race_group D</th>\n",
              "      <th>race_group E</th>\n",
              "      <th>parent_education_associate's degree</th>\n",
              "      <th>parent_education_bachelor's degree</th>\n",
              "      <th>parent_education_high school</th>\n",
              "      <th>parent_education_master's degree</th>\n",
              "      <th>parent_education_some college</th>\n",
              "      <th>parent_education_some high school</th>\n",
              "      <th>gender_female</th>\n",
              "      <th>gender_male</th>\n",
              "      <th>lunch_free/reduced</th>\n",
              "      <th>lunch_standard</th>\n",
              "    </tr>\n",
              "  </thead>\n",
              "  <tbody>\n",
              "    <tr>\n",
              "      <th>0</th>\n",
              "      <td>moyen</td>\n",
              "      <td>63</td>\n",
              "      <td>1</td>\n",
              "      <td>0</td>\n",
              "      <td>1</td>\n",
              "      <td>0</td>\n",
              "      <td>0</td>\n",
              "      <td>0</td>\n",
              "      <td>0</td>\n",
              "      <td>0</td>\n",
              "      <td>0</td>\n",
              "      <td>1</td>\n",
              "      <td>0</td>\n",
              "      <td>0</td>\n",
              "      <td>0</td>\n",
              "      <td>0</td>\n",
              "      <td>1</td>\n",
              "      <td>0</td>\n",
              "      <td>1</td>\n",
              "    </tr>\n",
              "    <tr>\n",
              "      <th>1</th>\n",
              "      <td>moyen</td>\n",
              "      <td>55</td>\n",
              "      <td>0</td>\n",
              "      <td>1</td>\n",
              "      <td>0</td>\n",
              "      <td>0</td>\n",
              "      <td>0</td>\n",
              "      <td>1</td>\n",
              "      <td>0</td>\n",
              "      <td>0</td>\n",
              "      <td>0</td>\n",
              "      <td>0</td>\n",
              "      <td>0</td>\n",
              "      <td>0</td>\n",
              "      <td>1</td>\n",
              "      <td>1</td>\n",
              "      <td>0</td>\n",
              "      <td>1</td>\n",
              "      <td>0</td>\n",
              "    </tr>\n",
              "    <tr>\n",
              "      <th>2</th>\n",
              "      <td>moyen</td>\n",
              "      <td>50</td>\n",
              "      <td>0</td>\n",
              "      <td>1</td>\n",
              "      <td>0</td>\n",
              "      <td>0</td>\n",
              "      <td>0</td>\n",
              "      <td>0</td>\n",
              "      <td>1</td>\n",
              "      <td>0</td>\n",
              "      <td>0</td>\n",
              "      <td>0</td>\n",
              "      <td>0</td>\n",
              "      <td>1</td>\n",
              "      <td>0</td>\n",
              "      <td>0</td>\n",
              "      <td>1</td>\n",
              "      <td>1</td>\n",
              "      <td>0</td>\n",
              "    </tr>\n",
              "    <tr>\n",
              "      <th>3</th>\n",
              "      <td>bon</td>\n",
              "      <td>68</td>\n",
              "      <td>0</td>\n",
              "      <td>1</td>\n",
              "      <td>0</td>\n",
              "      <td>1</td>\n",
              "      <td>0</td>\n",
              "      <td>0</td>\n",
              "      <td>0</td>\n",
              "      <td>0</td>\n",
              "      <td>0</td>\n",
              "      <td>1</td>\n",
              "      <td>0</td>\n",
              "      <td>0</td>\n",
              "      <td>0</td>\n",
              "      <td>0</td>\n",
              "      <td>1</td>\n",
              "      <td>0</td>\n",
              "      <td>1</td>\n",
              "    </tr>\n",
              "    <tr>\n",
              "      <th>4</th>\n",
              "      <td>bon</td>\n",
              "      <td>68</td>\n",
              "      <td>1</td>\n",
              "      <td>0</td>\n",
              "      <td>0</td>\n",
              "      <td>0</td>\n",
              "      <td>0</td>\n",
              "      <td>0</td>\n",
              "      <td>1</td>\n",
              "      <td>1</td>\n",
              "      <td>0</td>\n",
              "      <td>0</td>\n",
              "      <td>0</td>\n",
              "      <td>0</td>\n",
              "      <td>0</td>\n",
              "      <td>0</td>\n",
              "      <td>1</td>\n",
              "      <td>0</td>\n",
              "      <td>1</td>\n",
              "    </tr>\n",
              "    <tr>\n",
              "      <th>5</th>\n",
              "      <td>bon</td>\n",
              "      <td>76</td>\n",
              "      <td>0</td>\n",
              "      <td>1</td>\n",
              "      <td>0</td>\n",
              "      <td>0</td>\n",
              "      <td>0</td>\n",
              "      <td>1</td>\n",
              "      <td>0</td>\n",
              "      <td>0</td>\n",
              "      <td>0</td>\n",
              "      <td>1</td>\n",
              "      <td>0</td>\n",
              "      <td>0</td>\n",
              "      <td>0</td>\n",
              "      <td>1</td>\n",
              "      <td>0</td>\n",
              "      <td>0</td>\n",
              "      <td>1</td>\n",
              "    </tr>\n",
              "    <tr>\n",
              "      <th>6</th>\n",
              "      <td>moyen</td>\n",
              "      <td>63</td>\n",
              "      <td>0</td>\n",
              "      <td>1</td>\n",
              "      <td>1</td>\n",
              "      <td>0</td>\n",
              "      <td>0</td>\n",
              "      <td>0</td>\n",
              "      <td>0</td>\n",
              "      <td>0</td>\n",
              "      <td>1</td>\n",
              "      <td>0</td>\n",
              "      <td>0</td>\n",
              "      <td>0</td>\n",
              "      <td>0</td>\n",
              "      <td>1</td>\n",
              "      <td>0</td>\n",
              "      <td>0</td>\n",
              "      <td>1</td>\n",
              "    </tr>\n",
              "    <tr>\n",
              "      <th>7</th>\n",
              "      <td>tresBon</td>\n",
              "      <td>84</td>\n",
              "      <td>1</td>\n",
              "      <td>0</td>\n",
              "      <td>0</td>\n",
              "      <td>0</td>\n",
              "      <td>0</td>\n",
              "      <td>0</td>\n",
              "      <td>1</td>\n",
              "      <td>0</td>\n",
              "      <td>0</td>\n",
              "      <td>0</td>\n",
              "      <td>0</td>\n",
              "      <td>1</td>\n",
              "      <td>0</td>\n",
              "      <td>0</td>\n",
              "      <td>1</td>\n",
              "      <td>0</td>\n",
              "      <td>1</td>\n",
              "    </tr>\n",
              "    <tr>\n",
              "      <th>8</th>\n",
              "      <td>moyen</td>\n",
              "      <td>65</td>\n",
              "      <td>0</td>\n",
              "      <td>1</td>\n",
              "      <td>0</td>\n",
              "      <td>0</td>\n",
              "      <td>0</td>\n",
              "      <td>1</td>\n",
              "      <td>0</td>\n",
              "      <td>0</td>\n",
              "      <td>0</td>\n",
              "      <td>1</td>\n",
              "      <td>0</td>\n",
              "      <td>0</td>\n",
              "      <td>0</td>\n",
              "      <td>0</td>\n",
              "      <td>1</td>\n",
              "      <td>0</td>\n",
              "      <td>1</td>\n",
              "    </tr>\n",
              "    <tr>\n",
              "      <th>9</th>\n",
              "      <td>mauvais</td>\n",
              "      <td>45</td>\n",
              "      <td>0</td>\n",
              "      <td>1</td>\n",
              "      <td>0</td>\n",
              "      <td>0</td>\n",
              "      <td>1</td>\n",
              "      <td>0</td>\n",
              "      <td>0</td>\n",
              "      <td>0</td>\n",
              "      <td>0</td>\n",
              "      <td>0</td>\n",
              "      <td>0</td>\n",
              "      <td>1</td>\n",
              "      <td>0</td>\n",
              "      <td>0</td>\n",
              "      <td>1</td>\n",
              "      <td>1</td>\n",
              "      <td>0</td>\n",
              "    </tr>\n",
              "    <tr>\n",
              "      <th>10</th>\n",
              "      <td>tresBon</td>\n",
              "      <td>85</td>\n",
              "      <td>1</td>\n",
              "      <td>0</td>\n",
              "      <td>0</td>\n",
              "      <td>0</td>\n",
              "      <td>0</td>\n",
              "      <td>0</td>\n",
              "      <td>1</td>\n",
              "      <td>0</td>\n",
              "      <td>0</td>\n",
              "      <td>0</td>\n",
              "      <td>0</td>\n",
              "      <td>1</td>\n",
              "      <td>0</td>\n",
              "      <td>0</td>\n",
              "      <td>1</td>\n",
              "      <td>0</td>\n",
              "      <td>1</td>\n",
              "    </tr>\n",
              "    <tr>\n",
              "      <th>11</th>\n",
              "      <td>tresBon</td>\n",
              "      <td>90</td>\n",
              "      <td>1</td>\n",
              "      <td>0</td>\n",
              "      <td>0</td>\n",
              "      <td>0</td>\n",
              "      <td>0</td>\n",
              "      <td>1</td>\n",
              "      <td>0</td>\n",
              "      <td>0</td>\n",
              "      <td>0</td>\n",
              "      <td>1</td>\n",
              "      <td>0</td>\n",
              "      <td>0</td>\n",
              "      <td>0</td>\n",
              "      <td>1</td>\n",
              "      <td>0</td>\n",
              "      <td>0</td>\n",
              "      <td>1</td>\n",
              "    </tr>\n",
              "    <tr>\n",
              "      <th>12</th>\n",
              "      <td>tresBon</td>\n",
              "      <td>85</td>\n",
              "      <td>1</td>\n",
              "      <td>0</td>\n",
              "      <td>0</td>\n",
              "      <td>0</td>\n",
              "      <td>0</td>\n",
              "      <td>1</td>\n",
              "      <td>0</td>\n",
              "      <td>1</td>\n",
              "      <td>0</td>\n",
              "      <td>0</td>\n",
              "      <td>0</td>\n",
              "      <td>0</td>\n",
              "      <td>0</td>\n",
              "      <td>0</td>\n",
              "      <td>1</td>\n",
              "      <td>0</td>\n",
              "      <td>1</td>\n",
              "    </tr>\n",
              "    <tr>\n",
              "      <th>13</th>\n",
              "      <td>bon</td>\n",
              "      <td>73</td>\n",
              "      <td>1</td>\n",
              "      <td>0</td>\n",
              "      <td>0</td>\n",
              "      <td>0</td>\n",
              "      <td>1</td>\n",
              "      <td>0</td>\n",
              "      <td>0</td>\n",
              "      <td>0</td>\n",
              "      <td>0</td>\n",
              "      <td>1</td>\n",
              "      <td>0</td>\n",
              "      <td>0</td>\n",
              "      <td>0</td>\n",
              "      <td>0</td>\n",
              "      <td>1</td>\n",
              "      <td>0</td>\n",
              "      <td>1</td>\n",
              "    </tr>\n",
              "    <tr>\n",
              "      <th>14</th>\n",
              "      <td>tresBon</td>\n",
              "      <td>85</td>\n",
              "      <td>1</td>\n",
              "      <td>0</td>\n",
              "      <td>0</td>\n",
              "      <td>0</td>\n",
              "      <td>0</td>\n",
              "      <td>0</td>\n",
              "      <td>1</td>\n",
              "      <td>0</td>\n",
              "      <td>0</td>\n",
              "      <td>0</td>\n",
              "      <td>0</td>\n",
              "      <td>0</td>\n",
              "      <td>1</td>\n",
              "      <td>0</td>\n",
              "      <td>1</td>\n",
              "      <td>0</td>\n",
              "      <td>1</td>\n",
              "    </tr>\n",
              "    <tr>\n",
              "      <th>15</th>\n",
              "      <td>moyen</td>\n",
              "      <td>57</td>\n",
              "      <td>0</td>\n",
              "      <td>1</td>\n",
              "      <td>0</td>\n",
              "      <td>0</td>\n",
              "      <td>0</td>\n",
              "      <td>0</td>\n",
              "      <td>1</td>\n",
              "      <td>1</td>\n",
              "      <td>0</td>\n",
              "      <td>0</td>\n",
              "      <td>0</td>\n",
              "      <td>0</td>\n",
              "      <td>0</td>\n",
              "      <td>0</td>\n",
              "      <td>1</td>\n",
              "      <td>1</td>\n",
              "      <td>0</td>\n",
              "    </tr>\n",
              "    <tr>\n",
              "      <th>16</th>\n",
              "      <td>mauvais</td>\n",
              "      <td>42</td>\n",
              "      <td>0</td>\n",
              "      <td>1</td>\n",
              "      <td>0</td>\n",
              "      <td>1</td>\n",
              "      <td>0</td>\n",
              "      <td>0</td>\n",
              "      <td>0</td>\n",
              "      <td>0</td>\n",
              "      <td>0</td>\n",
              "      <td>1</td>\n",
              "      <td>0</td>\n",
              "      <td>0</td>\n",
              "      <td>0</td>\n",
              "      <td>0</td>\n",
              "      <td>1</td>\n",
              "      <td>0</td>\n",
              "      <td>1</td>\n",
              "    </tr>\n",
              "    <tr>\n",
              "      <th>17</th>\n",
              "      <td>moyen</td>\n",
              "      <td>65</td>\n",
              "      <td>1</td>\n",
              "      <td>0</td>\n",
              "      <td>0</td>\n",
              "      <td>0</td>\n",
              "      <td>1</td>\n",
              "      <td>0</td>\n",
              "      <td>0</td>\n",
              "      <td>1</td>\n",
              "      <td>0</td>\n",
              "      <td>0</td>\n",
              "      <td>0</td>\n",
              "      <td>0</td>\n",
              "      <td>0</td>\n",
              "      <td>1</td>\n",
              "      <td>0</td>\n",
              "      <td>0</td>\n",
              "      <td>1</td>\n",
              "    </tr>\n",
              "    <tr>\n",
              "      <th>18</th>\n",
              "      <td>mauvais</td>\n",
              "      <td>44</td>\n",
              "      <td>0</td>\n",
              "      <td>1</td>\n",
              "      <td>0</td>\n",
              "      <td>0</td>\n",
              "      <td>1</td>\n",
              "      <td>0</td>\n",
              "      <td>0</td>\n",
              "      <td>1</td>\n",
              "      <td>0</td>\n",
              "      <td>0</td>\n",
              "      <td>0</td>\n",
              "      <td>0</td>\n",
              "      <td>0</td>\n",
              "      <td>1</td>\n",
              "      <td>0</td>\n",
              "      <td>1</td>\n",
              "      <td>0</td>\n",
              "    </tr>\n",
              "    <tr>\n",
              "      <th>19</th>\n",
              "      <td>mauvais</td>\n",
              "      <td>31</td>\n",
              "      <td>0</td>\n",
              "      <td>1</td>\n",
              "      <td>0</td>\n",
              "      <td>0</td>\n",
              "      <td>1</td>\n",
              "      <td>0</td>\n",
              "      <td>0</td>\n",
              "      <td>0</td>\n",
              "      <td>0</td>\n",
              "      <td>0</td>\n",
              "      <td>0</td>\n",
              "      <td>1</td>\n",
              "      <td>0</td>\n",
              "      <td>0</td>\n",
              "      <td>1</td>\n",
              "      <td>1</td>\n",
              "      <td>0</td>\n",
              "    </tr>\n",
              "  </tbody>\n",
              "</table>\n",
              "</div>\n",
              "      <button class=\"colab-df-convert\" onclick=\"convertToInteractive('df-4716268b-aba7-4d90-8206-d291ddbd927a')\"\n",
              "              title=\"Convert this dataframe to an interactive table.\"\n",
              "              style=\"display:none;\">\n",
              "        \n",
              "  <svg xmlns=\"http://www.w3.org/2000/svg\" height=\"24px\"viewBox=\"0 0 24 24\"\n",
              "       width=\"24px\">\n",
              "    <path d=\"M0 0h24v24H0V0z\" fill=\"none\"/>\n",
              "    <path d=\"M18.56 5.44l.94 2.06.94-2.06 2.06-.94-2.06-.94-.94-2.06-.94 2.06-2.06.94zm-11 1L8.5 8.5l.94-2.06 2.06-.94-2.06-.94L8.5 2.5l-.94 2.06-2.06.94zm10 10l.94 2.06.94-2.06 2.06-.94-2.06-.94-.94-2.06-.94 2.06-2.06.94z\"/><path d=\"M17.41 7.96l-1.37-1.37c-.4-.4-.92-.59-1.43-.59-.52 0-1.04.2-1.43.59L10.3 9.45l-7.72 7.72c-.78.78-.78 2.05 0 2.83L4 21.41c.39.39.9.59 1.41.59.51 0 1.02-.2 1.41-.59l7.78-7.78 2.81-2.81c.8-.78.8-2.07 0-2.86zM5.41 20L4 18.59l7.72-7.72 1.47 1.35L5.41 20z\"/>\n",
              "  </svg>\n",
              "      </button>\n",
              "      \n",
              "  <style>\n",
              "    .colab-df-container {\n",
              "      display:flex;\n",
              "      flex-wrap:wrap;\n",
              "      gap: 12px;\n",
              "    }\n",
              "\n",
              "    .colab-df-convert {\n",
              "      background-color: #E8F0FE;\n",
              "      border: none;\n",
              "      border-radius: 50%;\n",
              "      cursor: pointer;\n",
              "      display: none;\n",
              "      fill: #1967D2;\n",
              "      height: 32px;\n",
              "      padding: 0 0 0 0;\n",
              "      width: 32px;\n",
              "    }\n",
              "\n",
              "    .colab-df-convert:hover {\n",
              "      background-color: #E2EBFA;\n",
              "      box-shadow: 0px 1px 2px rgba(60, 64, 67, 0.3), 0px 1px 3px 1px rgba(60, 64, 67, 0.15);\n",
              "      fill: #174EA6;\n",
              "    }\n",
              "\n",
              "    [theme=dark] .colab-df-convert {\n",
              "      background-color: #3B4455;\n",
              "      fill: #D2E3FC;\n",
              "    }\n",
              "\n",
              "    [theme=dark] .colab-df-convert:hover {\n",
              "      background-color: #434B5C;\n",
              "      box-shadow: 0px 1px 3px 1px rgba(0, 0, 0, 0.15);\n",
              "      filter: drop-shadow(0px 1px 2px rgba(0, 0, 0, 0.3));\n",
              "      fill: #FFFFFF;\n",
              "    }\n",
              "  </style>\n",
              "\n",
              "      <script>\n",
              "        const buttonEl =\n",
              "          document.querySelector('#df-4716268b-aba7-4d90-8206-d291ddbd927a button.colab-df-convert');\n",
              "        buttonEl.style.display =\n",
              "          google.colab.kernel.accessAllowed ? 'block' : 'none';\n",
              "\n",
              "        async function convertToInteractive(key) {\n",
              "          const element = document.querySelector('#df-4716268b-aba7-4d90-8206-d291ddbd927a');\n",
              "          const dataTable =\n",
              "            await google.colab.kernel.invokeFunction('convertToInteractive',\n",
              "                                                     [key], {});\n",
              "          if (!dataTable) return;\n",
              "\n",
              "          const docLinkHtml = 'Like what you see? Visit the ' +\n",
              "            '<a target=\"_blank\" href=https://colab.research.google.com/notebooks/data_table.ipynb>data table notebook</a>'\n",
              "            + ' to learn more about interactive tables.';\n",
              "          element.innerHTML = '';\n",
              "          dataTable['output_type'] = 'display_data';\n",
              "          await google.colab.output.renderOutput(dataTable, element);\n",
              "          const docLink = document.createElement('div');\n",
              "          docLink.innerHTML = docLinkHtml;\n",
              "          element.appendChild(docLink);\n",
              "        }\n",
              "      </script>\n",
              "    </div>\n",
              "  </div>\n",
              "  "
            ]
          },
          "metadata": {},
          "execution_count": 18
        }
      ]
    },
    {
      "cell_type": "code",
      "execution_count": null,
      "id": "e3b94e9b",
      "metadata": {
        "id": "e3b94e9b"
      },
      "outputs": [],
      "source": [
        "bins=(0.,50.,70.,80.,100.)\n",
        "group_names=['mauvais', 'moyen', 'bon','tresBon']\n",
        "donnees['writing']=pd.cut(donnees['writing'], bins = bins, labels=group_names)\n"
      ]
    },
    {
      "cell_type": "code",
      "execution_count": null,
      "id": "a29708d6",
      "metadata": {
        "id": "a29708d6",
        "outputId": "b23c2017-7e4c-437e-faec-c1c868523a50",
        "colab": {
          "base_uri": "https://localhost:8080/",
          "height": 758
        }
      },
      "outputs": [
        {
          "output_type": "execute_result",
          "data": {
            "text/plain": [
              "    reading  writing  pre_completed  pre_none  race_group A  race_group B  \\\n",
              "0     moyen    moyen              1         0             1             0   \n",
              "1     moyen    moyen              0         1             0             0   \n",
              "2     moyen  mauvais              0         1             0             0   \n",
              "3       bon    moyen              0         1             0             1   \n",
              "4       bon    moyen              1         0             0             0   \n",
              "5       bon      bon              0         1             0             0   \n",
              "6     moyen    moyen              0         1             1             0   \n",
              "7   tresBon  tresBon              1         0             0             0   \n",
              "8     moyen    moyen              0         1             0             0   \n",
              "9   mauvais  mauvais              0         1             0             0   \n",
              "10  tresBon  tresBon              1         0             0             0   \n",
              "11  tresBon  tresBon              1         0             0             0   \n",
              "12  tresBon  tresBon              1         0             0             0   \n",
              "13      bon      bon              1         0             0             0   \n",
              "14  tresBon  tresBon              1         0             0             0   \n",
              "15    moyen    moyen              0         1             0             0   \n",
              "16  mauvais  mauvais              0         1             0             1   \n",
              "17    moyen    moyen              1         0             0             0   \n",
              "18  mauvais  mauvais              0         1             0             0   \n",
              "19  mauvais  mauvais              0         1             0             0   \n",
              "\n",
              "    race_group C  race_group D  race_group E  \\\n",
              "0              0             0             0   \n",
              "1              0             1             0   \n",
              "2              0             0             1   \n",
              "3              0             0             0   \n",
              "4              0             0             1   \n",
              "5              0             1             0   \n",
              "6              0             0             0   \n",
              "7              0             0             1   \n",
              "8              0             1             0   \n",
              "9              1             0             0   \n",
              "10             0             0             1   \n",
              "11             0             1             0   \n",
              "12             0             1             0   \n",
              "13             1             0             0   \n",
              "14             0             0             1   \n",
              "15             0             0             1   \n",
              "16             0             0             0   \n",
              "17             1             0             0   \n",
              "18             1             0             0   \n",
              "19             1             0             0   \n",
              "\n",
              "    parent_education_associate's degree  parent_education_bachelor's degree  \\\n",
              "0                                     0                                   0   \n",
              "1                                     0                                   0   \n",
              "2                                     0                                   0   \n",
              "3                                     0                                   0   \n",
              "4                                     1                                   0   \n",
              "5                                     0                                   0   \n",
              "6                                     0                                   1   \n",
              "7                                     0                                   0   \n",
              "8                                     0                                   0   \n",
              "9                                     0                                   0   \n",
              "10                                    0                                   0   \n",
              "11                                    0                                   0   \n",
              "12                                    1                                   0   \n",
              "13                                    0                                   0   \n",
              "14                                    0                                   0   \n",
              "15                                    1                                   0   \n",
              "16                                    0                                   0   \n",
              "17                                    1                                   0   \n",
              "18                                    1                                   0   \n",
              "19                                    0                                   0   \n",
              "\n",
              "    parent_education_high school  parent_education_master's degree  \\\n",
              "0                              1                                 0   \n",
              "1                              0                                 0   \n",
              "2                              0                                 0   \n",
              "3                              1                                 0   \n",
              "4                              0                                 0   \n",
              "5                              1                                 0   \n",
              "6                              0                                 0   \n",
              "7                              0                                 0   \n",
              "8                              1                                 0   \n",
              "9                              0                                 0   \n",
              "10                             0                                 0   \n",
              "11                             1                                 0   \n",
              "12                             0                                 0   \n",
              "13                             1                                 0   \n",
              "14                             0                                 0   \n",
              "15                             0                                 0   \n",
              "16                             1                                 0   \n",
              "17                             0                                 0   \n",
              "18                             0                                 0   \n",
              "19                             0                                 0   \n",
              "\n",
              "    parent_education_some college  parent_education_some high school  \\\n",
              "0                               0                                  0   \n",
              "1                               0                                  1   \n",
              "2                               1                                  0   \n",
              "3                               0                                  0   \n",
              "4                               0                                  0   \n",
              "5                               0                                  0   \n",
              "6                               0                                  0   \n",
              "7                               1                                  0   \n",
              "8                               0                                  0   \n",
              "9                               1                                  0   \n",
              "10                              1                                  0   \n",
              "11                              0                                  0   \n",
              "12                              0                                  0   \n",
              "13                              0                                  0   \n",
              "14                              0                                  1   \n",
              "15                              0                                  0   \n",
              "16                              0                                  0   \n",
              "17                              0                                  0   \n",
              "18                              0                                  0   \n",
              "19                              1                                  0   \n",
              "\n",
              "    gender_female  gender_male  lunch_free/reduced  lunch_standard  \n",
              "0               0            1                   0               1  \n",
              "1               1            0                   1               0  \n",
              "2               0            1                   1               0  \n",
              "3               0            1                   0               1  \n",
              "4               0            1                   0               1  \n",
              "5               1            0                   0               1  \n",
              "6               1            0                   0               1  \n",
              "7               0            1                   0               1  \n",
              "8               0            1                   0               1  \n",
              "9               0            1                   1               0  \n",
              "10              0            1                   0               1  \n",
              "11              1            0                   0               1  \n",
              "12              0            1                   0               1  \n",
              "13              0            1                   0               1  \n",
              "14              0            1                   0               1  \n",
              "15              0            1                   1               0  \n",
              "16              0            1                   0               1  \n",
              "17              1            0                   0               1  \n",
              "18              1            0                   1               0  \n",
              "19              0            1                   1               0  "
            ],
            "text/html": [
              "\n",
              "  <div id=\"df-e8ad0570-ee4f-47a9-9e76-0a22f987c565\">\n",
              "    <div class=\"colab-df-container\">\n",
              "      <div>\n",
              "<style scoped>\n",
              "    .dataframe tbody tr th:only-of-type {\n",
              "        vertical-align: middle;\n",
              "    }\n",
              "\n",
              "    .dataframe tbody tr th {\n",
              "        vertical-align: top;\n",
              "    }\n",
              "\n",
              "    .dataframe thead th {\n",
              "        text-align: right;\n",
              "    }\n",
              "</style>\n",
              "<table border=\"1\" class=\"dataframe\">\n",
              "  <thead>\n",
              "    <tr style=\"text-align: right;\">\n",
              "      <th></th>\n",
              "      <th>reading</th>\n",
              "      <th>writing</th>\n",
              "      <th>pre_completed</th>\n",
              "      <th>pre_none</th>\n",
              "      <th>race_group A</th>\n",
              "      <th>race_group B</th>\n",
              "      <th>race_group C</th>\n",
              "      <th>race_group D</th>\n",
              "      <th>race_group E</th>\n",
              "      <th>parent_education_associate's degree</th>\n",
              "      <th>parent_education_bachelor's degree</th>\n",
              "      <th>parent_education_high school</th>\n",
              "      <th>parent_education_master's degree</th>\n",
              "      <th>parent_education_some college</th>\n",
              "      <th>parent_education_some high school</th>\n",
              "      <th>gender_female</th>\n",
              "      <th>gender_male</th>\n",
              "      <th>lunch_free/reduced</th>\n",
              "      <th>lunch_standard</th>\n",
              "    </tr>\n",
              "  </thead>\n",
              "  <tbody>\n",
              "    <tr>\n",
              "      <th>0</th>\n",
              "      <td>moyen</td>\n",
              "      <td>moyen</td>\n",
              "      <td>1</td>\n",
              "      <td>0</td>\n",
              "      <td>1</td>\n",
              "      <td>0</td>\n",
              "      <td>0</td>\n",
              "      <td>0</td>\n",
              "      <td>0</td>\n",
              "      <td>0</td>\n",
              "      <td>0</td>\n",
              "      <td>1</td>\n",
              "      <td>0</td>\n",
              "      <td>0</td>\n",
              "      <td>0</td>\n",
              "      <td>0</td>\n",
              "      <td>1</td>\n",
              "      <td>0</td>\n",
              "      <td>1</td>\n",
              "    </tr>\n",
              "    <tr>\n",
              "      <th>1</th>\n",
              "      <td>moyen</td>\n",
              "      <td>moyen</td>\n",
              "      <td>0</td>\n",
              "      <td>1</td>\n",
              "      <td>0</td>\n",
              "      <td>0</td>\n",
              "      <td>0</td>\n",
              "      <td>1</td>\n",
              "      <td>0</td>\n",
              "      <td>0</td>\n",
              "      <td>0</td>\n",
              "      <td>0</td>\n",
              "      <td>0</td>\n",
              "      <td>0</td>\n",
              "      <td>1</td>\n",
              "      <td>1</td>\n",
              "      <td>0</td>\n",
              "      <td>1</td>\n",
              "      <td>0</td>\n",
              "    </tr>\n",
              "    <tr>\n",
              "      <th>2</th>\n",
              "      <td>moyen</td>\n",
              "      <td>mauvais</td>\n",
              "      <td>0</td>\n",
              "      <td>1</td>\n",
              "      <td>0</td>\n",
              "      <td>0</td>\n",
              "      <td>0</td>\n",
              "      <td>0</td>\n",
              "      <td>1</td>\n",
              "      <td>0</td>\n",
              "      <td>0</td>\n",
              "      <td>0</td>\n",
              "      <td>0</td>\n",
              "      <td>1</td>\n",
              "      <td>0</td>\n",
              "      <td>0</td>\n",
              "      <td>1</td>\n",
              "      <td>1</td>\n",
              "      <td>0</td>\n",
              "    </tr>\n",
              "    <tr>\n",
              "      <th>3</th>\n",
              "      <td>bon</td>\n",
              "      <td>moyen</td>\n",
              "      <td>0</td>\n",
              "      <td>1</td>\n",
              "      <td>0</td>\n",
              "      <td>1</td>\n",
              "      <td>0</td>\n",
              "      <td>0</td>\n",
              "      <td>0</td>\n",
              "      <td>0</td>\n",
              "      <td>0</td>\n",
              "      <td>1</td>\n",
              "      <td>0</td>\n",
              "      <td>0</td>\n",
              "      <td>0</td>\n",
              "      <td>0</td>\n",
              "      <td>1</td>\n",
              "      <td>0</td>\n",
              "      <td>1</td>\n",
              "    </tr>\n",
              "    <tr>\n",
              "      <th>4</th>\n",
              "      <td>bon</td>\n",
              "      <td>moyen</td>\n",
              "      <td>1</td>\n",
              "      <td>0</td>\n",
              "      <td>0</td>\n",
              "      <td>0</td>\n",
              "      <td>0</td>\n",
              "      <td>0</td>\n",
              "      <td>1</td>\n",
              "      <td>1</td>\n",
              "      <td>0</td>\n",
              "      <td>0</td>\n",
              "      <td>0</td>\n",
              "      <td>0</td>\n",
              "      <td>0</td>\n",
              "      <td>0</td>\n",
              "      <td>1</td>\n",
              "      <td>0</td>\n",
              "      <td>1</td>\n",
              "    </tr>\n",
              "    <tr>\n",
              "      <th>5</th>\n",
              "      <td>bon</td>\n",
              "      <td>bon</td>\n",
              "      <td>0</td>\n",
              "      <td>1</td>\n",
              "      <td>0</td>\n",
              "      <td>0</td>\n",
              "      <td>0</td>\n",
              "      <td>1</td>\n",
              "      <td>0</td>\n",
              "      <td>0</td>\n",
              "      <td>0</td>\n",
              "      <td>1</td>\n",
              "      <td>0</td>\n",
              "      <td>0</td>\n",
              "      <td>0</td>\n",
              "      <td>1</td>\n",
              "      <td>0</td>\n",
              "      <td>0</td>\n",
              "      <td>1</td>\n",
              "    </tr>\n",
              "    <tr>\n",
              "      <th>6</th>\n",
              "      <td>moyen</td>\n",
              "      <td>moyen</td>\n",
              "      <td>0</td>\n",
              "      <td>1</td>\n",
              "      <td>1</td>\n",
              "      <td>0</td>\n",
              "      <td>0</td>\n",
              "      <td>0</td>\n",
              "      <td>0</td>\n",
              "      <td>0</td>\n",
              "      <td>1</td>\n",
              "      <td>0</td>\n",
              "      <td>0</td>\n",
              "      <td>0</td>\n",
              "      <td>0</td>\n",
              "      <td>1</td>\n",
              "      <td>0</td>\n",
              "      <td>0</td>\n",
              "      <td>1</td>\n",
              "    </tr>\n",
              "    <tr>\n",
              "      <th>7</th>\n",
              "      <td>tresBon</td>\n",
              "      <td>tresBon</td>\n",
              "      <td>1</td>\n",
              "      <td>0</td>\n",
              "      <td>0</td>\n",
              "      <td>0</td>\n",
              "      <td>0</td>\n",
              "      <td>0</td>\n",
              "      <td>1</td>\n",
              "      <td>0</td>\n",
              "      <td>0</td>\n",
              "      <td>0</td>\n",
              "      <td>0</td>\n",
              "      <td>1</td>\n",
              "      <td>0</td>\n",
              "      <td>0</td>\n",
              "      <td>1</td>\n",
              "      <td>0</td>\n",
              "      <td>1</td>\n",
              "    </tr>\n",
              "    <tr>\n",
              "      <th>8</th>\n",
              "      <td>moyen</td>\n",
              "      <td>moyen</td>\n",
              "      <td>0</td>\n",
              "      <td>1</td>\n",
              "      <td>0</td>\n",
              "      <td>0</td>\n",
              "      <td>0</td>\n",
              "      <td>1</td>\n",
              "      <td>0</td>\n",
              "      <td>0</td>\n",
              "      <td>0</td>\n",
              "      <td>1</td>\n",
              "      <td>0</td>\n",
              "      <td>0</td>\n",
              "      <td>0</td>\n",
              "      <td>0</td>\n",
              "      <td>1</td>\n",
              "      <td>0</td>\n",
              "      <td>1</td>\n",
              "    </tr>\n",
              "    <tr>\n",
              "      <th>9</th>\n",
              "      <td>mauvais</td>\n",
              "      <td>mauvais</td>\n",
              "      <td>0</td>\n",
              "      <td>1</td>\n",
              "      <td>0</td>\n",
              "      <td>0</td>\n",
              "      <td>1</td>\n",
              "      <td>0</td>\n",
              "      <td>0</td>\n",
              "      <td>0</td>\n",
              "      <td>0</td>\n",
              "      <td>0</td>\n",
              "      <td>0</td>\n",
              "      <td>1</td>\n",
              "      <td>0</td>\n",
              "      <td>0</td>\n",
              "      <td>1</td>\n",
              "      <td>1</td>\n",
              "      <td>0</td>\n",
              "    </tr>\n",
              "    <tr>\n",
              "      <th>10</th>\n",
              "      <td>tresBon</td>\n",
              "      <td>tresBon</td>\n",
              "      <td>1</td>\n",
              "      <td>0</td>\n",
              "      <td>0</td>\n",
              "      <td>0</td>\n",
              "      <td>0</td>\n",
              "      <td>0</td>\n",
              "      <td>1</td>\n",
              "      <td>0</td>\n",
              "      <td>0</td>\n",
              "      <td>0</td>\n",
              "      <td>0</td>\n",
              "      <td>1</td>\n",
              "      <td>0</td>\n",
              "      <td>0</td>\n",
              "      <td>1</td>\n",
              "      <td>0</td>\n",
              "      <td>1</td>\n",
              "    </tr>\n",
              "    <tr>\n",
              "      <th>11</th>\n",
              "      <td>tresBon</td>\n",
              "      <td>tresBon</td>\n",
              "      <td>1</td>\n",
              "      <td>0</td>\n",
              "      <td>0</td>\n",
              "      <td>0</td>\n",
              "      <td>0</td>\n",
              "      <td>1</td>\n",
              "      <td>0</td>\n",
              "      <td>0</td>\n",
              "      <td>0</td>\n",
              "      <td>1</td>\n",
              "      <td>0</td>\n",
              "      <td>0</td>\n",
              "      <td>0</td>\n",
              "      <td>1</td>\n",
              "      <td>0</td>\n",
              "      <td>0</td>\n",
              "      <td>1</td>\n",
              "    </tr>\n",
              "    <tr>\n",
              "      <th>12</th>\n",
              "      <td>tresBon</td>\n",
              "      <td>tresBon</td>\n",
              "      <td>1</td>\n",
              "      <td>0</td>\n",
              "      <td>0</td>\n",
              "      <td>0</td>\n",
              "      <td>0</td>\n",
              "      <td>1</td>\n",
              "      <td>0</td>\n",
              "      <td>1</td>\n",
              "      <td>0</td>\n",
              "      <td>0</td>\n",
              "      <td>0</td>\n",
              "      <td>0</td>\n",
              "      <td>0</td>\n",
              "      <td>0</td>\n",
              "      <td>1</td>\n",
              "      <td>0</td>\n",
              "      <td>1</td>\n",
              "    </tr>\n",
              "    <tr>\n",
              "      <th>13</th>\n",
              "      <td>bon</td>\n",
              "      <td>bon</td>\n",
              "      <td>1</td>\n",
              "      <td>0</td>\n",
              "      <td>0</td>\n",
              "      <td>0</td>\n",
              "      <td>1</td>\n",
              "      <td>0</td>\n",
              "      <td>0</td>\n",
              "      <td>0</td>\n",
              "      <td>0</td>\n",
              "      <td>1</td>\n",
              "      <td>0</td>\n",
              "      <td>0</td>\n",
              "      <td>0</td>\n",
              "      <td>0</td>\n",
              "      <td>1</td>\n",
              "      <td>0</td>\n",
              "      <td>1</td>\n",
              "    </tr>\n",
              "    <tr>\n",
              "      <th>14</th>\n",
              "      <td>tresBon</td>\n",
              "      <td>tresBon</td>\n",
              "      <td>1</td>\n",
              "      <td>0</td>\n",
              "      <td>0</td>\n",
              "      <td>0</td>\n",
              "      <td>0</td>\n",
              "      <td>0</td>\n",
              "      <td>1</td>\n",
              "      <td>0</td>\n",
              "      <td>0</td>\n",
              "      <td>0</td>\n",
              "      <td>0</td>\n",
              "      <td>0</td>\n",
              "      <td>1</td>\n",
              "      <td>0</td>\n",
              "      <td>1</td>\n",
              "      <td>0</td>\n",
              "      <td>1</td>\n",
              "    </tr>\n",
              "    <tr>\n",
              "      <th>15</th>\n",
              "      <td>moyen</td>\n",
              "      <td>moyen</td>\n",
              "      <td>0</td>\n",
              "      <td>1</td>\n",
              "      <td>0</td>\n",
              "      <td>0</td>\n",
              "      <td>0</td>\n",
              "      <td>0</td>\n",
              "      <td>1</td>\n",
              "      <td>1</td>\n",
              "      <td>0</td>\n",
              "      <td>0</td>\n",
              "      <td>0</td>\n",
              "      <td>0</td>\n",
              "      <td>0</td>\n",
              "      <td>0</td>\n",
              "      <td>1</td>\n",
              "      <td>1</td>\n",
              "      <td>0</td>\n",
              "    </tr>\n",
              "    <tr>\n",
              "      <th>16</th>\n",
              "      <td>mauvais</td>\n",
              "      <td>mauvais</td>\n",
              "      <td>0</td>\n",
              "      <td>1</td>\n",
              "      <td>0</td>\n",
              "      <td>1</td>\n",
              "      <td>0</td>\n",
              "      <td>0</td>\n",
              "      <td>0</td>\n",
              "      <td>0</td>\n",
              "      <td>0</td>\n",
              "      <td>1</td>\n",
              "      <td>0</td>\n",
              "      <td>0</td>\n",
              "      <td>0</td>\n",
              "      <td>0</td>\n",
              "      <td>1</td>\n",
              "      <td>0</td>\n",
              "      <td>1</td>\n",
              "    </tr>\n",
              "    <tr>\n",
              "      <th>17</th>\n",
              "      <td>moyen</td>\n",
              "      <td>moyen</td>\n",
              "      <td>1</td>\n",
              "      <td>0</td>\n",
              "      <td>0</td>\n",
              "      <td>0</td>\n",
              "      <td>1</td>\n",
              "      <td>0</td>\n",
              "      <td>0</td>\n",
              "      <td>1</td>\n",
              "      <td>0</td>\n",
              "      <td>0</td>\n",
              "      <td>0</td>\n",
              "      <td>0</td>\n",
              "      <td>0</td>\n",
              "      <td>1</td>\n",
              "      <td>0</td>\n",
              "      <td>0</td>\n",
              "      <td>1</td>\n",
              "    </tr>\n",
              "    <tr>\n",
              "      <th>18</th>\n",
              "      <td>mauvais</td>\n",
              "      <td>mauvais</td>\n",
              "      <td>0</td>\n",
              "      <td>1</td>\n",
              "      <td>0</td>\n",
              "      <td>0</td>\n",
              "      <td>1</td>\n",
              "      <td>0</td>\n",
              "      <td>0</td>\n",
              "      <td>1</td>\n",
              "      <td>0</td>\n",
              "      <td>0</td>\n",
              "      <td>0</td>\n",
              "      <td>0</td>\n",
              "      <td>0</td>\n",
              "      <td>1</td>\n",
              "      <td>0</td>\n",
              "      <td>1</td>\n",
              "      <td>0</td>\n",
              "    </tr>\n",
              "    <tr>\n",
              "      <th>19</th>\n",
              "      <td>mauvais</td>\n",
              "      <td>mauvais</td>\n",
              "      <td>0</td>\n",
              "      <td>1</td>\n",
              "      <td>0</td>\n",
              "      <td>0</td>\n",
              "      <td>1</td>\n",
              "      <td>0</td>\n",
              "      <td>0</td>\n",
              "      <td>0</td>\n",
              "      <td>0</td>\n",
              "      <td>0</td>\n",
              "      <td>0</td>\n",
              "      <td>1</td>\n",
              "      <td>0</td>\n",
              "      <td>0</td>\n",
              "      <td>1</td>\n",
              "      <td>1</td>\n",
              "      <td>0</td>\n",
              "    </tr>\n",
              "  </tbody>\n",
              "</table>\n",
              "</div>\n",
              "      <button class=\"colab-df-convert\" onclick=\"convertToInteractive('df-e8ad0570-ee4f-47a9-9e76-0a22f987c565')\"\n",
              "              title=\"Convert this dataframe to an interactive table.\"\n",
              "              style=\"display:none;\">\n",
              "        \n",
              "  <svg xmlns=\"http://www.w3.org/2000/svg\" height=\"24px\"viewBox=\"0 0 24 24\"\n",
              "       width=\"24px\">\n",
              "    <path d=\"M0 0h24v24H0V0z\" fill=\"none\"/>\n",
              "    <path d=\"M18.56 5.44l.94 2.06.94-2.06 2.06-.94-2.06-.94-.94-2.06-.94 2.06-2.06.94zm-11 1L8.5 8.5l.94-2.06 2.06-.94-2.06-.94L8.5 2.5l-.94 2.06-2.06.94zm10 10l.94 2.06.94-2.06 2.06-.94-2.06-.94-.94-2.06-.94 2.06-2.06.94z\"/><path d=\"M17.41 7.96l-1.37-1.37c-.4-.4-.92-.59-1.43-.59-.52 0-1.04.2-1.43.59L10.3 9.45l-7.72 7.72c-.78.78-.78 2.05 0 2.83L4 21.41c.39.39.9.59 1.41.59.51 0 1.02-.2 1.41-.59l7.78-7.78 2.81-2.81c.8-.78.8-2.07 0-2.86zM5.41 20L4 18.59l7.72-7.72 1.47 1.35L5.41 20z\"/>\n",
              "  </svg>\n",
              "      </button>\n",
              "      \n",
              "  <style>\n",
              "    .colab-df-container {\n",
              "      display:flex;\n",
              "      flex-wrap:wrap;\n",
              "      gap: 12px;\n",
              "    }\n",
              "\n",
              "    .colab-df-convert {\n",
              "      background-color: #E8F0FE;\n",
              "      border: none;\n",
              "      border-radius: 50%;\n",
              "      cursor: pointer;\n",
              "      display: none;\n",
              "      fill: #1967D2;\n",
              "      height: 32px;\n",
              "      padding: 0 0 0 0;\n",
              "      width: 32px;\n",
              "    }\n",
              "\n",
              "    .colab-df-convert:hover {\n",
              "      background-color: #E2EBFA;\n",
              "      box-shadow: 0px 1px 2px rgba(60, 64, 67, 0.3), 0px 1px 3px 1px rgba(60, 64, 67, 0.15);\n",
              "      fill: #174EA6;\n",
              "    }\n",
              "\n",
              "    [theme=dark] .colab-df-convert {\n",
              "      background-color: #3B4455;\n",
              "      fill: #D2E3FC;\n",
              "    }\n",
              "\n",
              "    [theme=dark] .colab-df-convert:hover {\n",
              "      background-color: #434B5C;\n",
              "      box-shadow: 0px 1px 3px 1px rgba(0, 0, 0, 0.15);\n",
              "      filter: drop-shadow(0px 1px 2px rgba(0, 0, 0, 0.3));\n",
              "      fill: #FFFFFF;\n",
              "    }\n",
              "  </style>\n",
              "\n",
              "      <script>\n",
              "        const buttonEl =\n",
              "          document.querySelector('#df-e8ad0570-ee4f-47a9-9e76-0a22f987c565 button.colab-df-convert');\n",
              "        buttonEl.style.display =\n",
              "          google.colab.kernel.accessAllowed ? 'block' : 'none';\n",
              "\n",
              "        async function convertToInteractive(key) {\n",
              "          const element = document.querySelector('#df-e8ad0570-ee4f-47a9-9e76-0a22f987c565');\n",
              "          const dataTable =\n",
              "            await google.colab.kernel.invokeFunction('convertToInteractive',\n",
              "                                                     [key], {});\n",
              "          if (!dataTable) return;\n",
              "\n",
              "          const docLinkHtml = 'Like what you see? Visit the ' +\n",
              "            '<a target=\"_blank\" href=https://colab.research.google.com/notebooks/data_table.ipynb>data table notebook</a>'\n",
              "            + ' to learn more about interactive tables.';\n",
              "          element.innerHTML = '';\n",
              "          dataTable['output_type'] = 'display_data';\n",
              "          await google.colab.output.renderOutput(dataTable, element);\n",
              "          const docLink = document.createElement('div');\n",
              "          docLink.innerHTML = docLinkHtml;\n",
              "          element.appendChild(docLink);\n",
              "        }\n",
              "      </script>\n",
              "    </div>\n",
              "  </div>\n",
              "  "
            ]
          },
          "metadata": {},
          "execution_count": 20
        }
      ],
      "source": [
        "donnees.head(20)"
      ]
    },
    {
      "cell_type": "code",
      "execution_count": null,
      "id": "ec239395",
      "metadata": {
        "id": "ec239395",
        "outputId": "fc2f11e2-58a0-4c4f-9c39-04c0ab289cb3",
        "colab": {
          "base_uri": "https://localhost:8080/"
        }
      },
      "outputs": [
        {
          "output_type": "execute_result",
          "data": {
            "text/plain": [
              "moyen      404\n",
              "bon        255\n",
              "tresBon    228\n",
              "mauvais    113\n",
              "Name: reading, dtype: int64"
            ]
          },
          "metadata": {},
          "execution_count": 21
        }
      ],
      "source": [
        "###Repartition de l'effectif en fonction du niveau\n",
        "donnees['reading'].value_counts()"
      ]
    },
    {
      "cell_type": "code",
      "execution_count": null,
      "id": "a2de144d",
      "metadata": {
        "id": "a2de144d",
        "outputId": "b2ff8152-019a-4f35-9bc5-ce8cccc68581",
        "colab": {
          "base_uri": "https://localhost:8080/"
        }
      },
      "outputs": [
        {
          "output_type": "execute_result",
          "data": {
            "text/plain": [
              "moyen      410\n",
              "tresBon    225\n",
              "bon        214\n",
              "mauvais    151\n",
              "Name: writing, dtype: int64"
            ]
          },
          "metadata": {},
          "execution_count": 22
        }
      ],
      "source": [
        "###Repartition de l'effectif en fonction du niveau\n",
        "donnees['writing'].value_counts()"
      ]
    },
    {
      "cell_type": "code",
      "source": [],
      "metadata": {
        "id": "fa-hqm0Fqh0P"
      },
      "id": "fa-hqm0Fqh0P",
      "execution_count": null,
      "outputs": []
    },
    {
      "cell_type": "code",
      "source": [
        "## Histogramme de la repartition de l'effectif en fonction du niveau\n",
        "sns.barplot( x = donnees['reading'].value_counts().index,  y= donnees['reading'].value_counts())"
      ],
      "metadata": {
        "colab": {
          "base_uri": "https://localhost:8080/",
          "height": 282
        },
        "id": "cOY53SzPq-LL",
        "outputId": "d79f55a9-94b2-493d-e23f-100e7b1e9502"
      },
      "id": "cOY53SzPq-LL",
      "execution_count": null,
      "outputs": [
        {
          "output_type": "execute_result",
          "data": {
            "text/plain": [
              "<matplotlib.axes._subplots.AxesSubplot at 0x7f70d0976e10>"
            ]
          },
          "metadata": {},
          "execution_count": 23
        },
        {
          "output_type": "display_data",
          "data": {
            "text/plain": [
              "<Figure size 432x288 with 1 Axes>"
            ],
            "image/png": "[encoded data removed]"
          },
          "metadata": {
            "needs_background": "light"
          }
        }
      ]
    },
    {
      "cell_type": "code",
      "source": [
        "## Histogramme de la repartition de l'effectif en fonction du niveau\n",
        "sns.barplot( x = donnees['writing'].value_counts().index,  y= donnees['writing'].value_counts())"
      ],
      "metadata": {
        "colab": {
          "base_uri": "https://localhost:8080/",
          "height": 282
        },
        "id": "zGiAnCaIOtjV",
        "outputId": "1e1f690a-af2a-4a98-9fbf-26add06f7107"
      },
      "id": "zGiAnCaIOtjV",
      "execution_count": null,
      "outputs": [
        {
          "output_type": "execute_result",
          "data": {
            "text/plain": [
              "<matplotlib.axes._subplots.AxesSubplot at 0x7f70d04a3210>"
            ]
          },
          "metadata": {},
          "execution_count": 24
        },
        {
          "output_type": "display_data",
          "data": {
            "text/plain": [
              "<Figure size 432x288 with 1 Axes>"
            ],
            "image/png": "[encoded data removed]"
          },
          "metadata": {
            "needs_background": "light"
          }
        }
      ]
    },
    {
      "cell_type": "code",
      "source": [
        "le = preprocessing.LabelEncoder()"
      ],
      "metadata": {
        "id": "o2el4jOtrxDW"
      },
      "id": "o2el4jOtrxDW",
      "execution_count": null,
      "outputs": []
    },
    {
      "cell_type": "code",
      "source": [
        "#Label Encoding\n",
        "donnees[\"reading\"] = le.fit_transform(donnees[\"reading\"])\n",
        "donnees[\"writing\"] = le.fit_transform(donnees[\"writing\"])"
      ],
      "metadata": {
        "id": "nuXHbJJXrrY2"
      },
      "id": "nuXHbJJXrrY2",
      "execution_count": null,
      "outputs": []
    },
    {
      "cell_type": "code",
      "source": [
        "donnees[\"reading\"].value_counts()"
      ],
      "metadata": {
        "colab": {
          "base_uri": "https://localhost:8080/"
        },
        "id": "_wIr7zUSr-Zn",
        "outputId": "40f73617-fa8b-4dd0-a0cb-52bf57871e41"
      },
      "id": "_wIr7zUSr-Zn",
      "execution_count": null,
      "outputs": [
        {
          "output_type": "execute_result",
          "data": {
            "text/plain": [
              "2    404\n",
              "0    255\n",
              "3    228\n",
              "1    113\n",
              "Name: reading, dtype: int64"
            ]
          },
          "metadata": {},
          "execution_count": 27
        }
      ]
    },
    {
      "cell_type": "code",
      "source": [
        "donnees[\"writing\"].value_counts()"
      ],
      "metadata": {
        "colab": {
          "base_uri": "https://localhost:8080/"
        },
        "id": "Vohq22gksH05",
        "outputId": "1f9918d6-34a9-4cbe-b290-382828a321c0"
      },
      "id": "Vohq22gksH05",
      "execution_count": null,
      "outputs": [
        {
          "output_type": "execute_result",
          "data": {
            "text/plain": [
              "2    410\n",
              "3    225\n",
              "0    214\n",
              "1    151\n",
              "Name: writing, dtype: int64"
            ]
          },
          "metadata": {},
          "execution_count": 28
        }
      ]
    },
    {
      "cell_type": "code",
      "execution_count": null,
      "id": "dd29a5ff",
      "metadata": {
        "id": "dd29a5ff"
      },
      "outputs": [],
      "source": [
        "X=donnees.drop([\"reading\", \"writing\"] , axis=1)\n",
        "y1=donnees[\"reading\"]\n",
        "y2=donnees[\"writing\"]\n",
        "\n"
      ]
    },
    {
      "cell_type": "markdown",
      "source": [
        "## 5 - Validation croisée"
      ],
      "metadata": {
        "id": "9NA1yAvPACNP"
      },
      "id": "9NA1yAvPACNP"
    },
    {
      "cell_type": "code",
      "execution_count": null,
      "id": "b6a3b9a7",
      "metadata": {
        "id": "b6a3b9a7"
      },
      "outputs": [],
      "source": [
        "#validation croisée avec k = 3\n",
        "\n",
        "kf=KFold(n_splits=3)"
      ]
    },
    {
      "cell_type": "code",
      "execution_count": null,
      "id": "d51e74cf",
      "metadata": {
        "id": "d51e74cf",
        "outputId": "30211e96-b7c0-47db-fd91-ed2602625a23",
        "colab": {
          "base_uri": "https://localhost:8080/"
        }
      },
      "outputs": [
        {
          "output_type": "stream",
          "name": "stdout",
          "text": [
            "KFold(n_splits=3, random_state=None, shuffle=False)\n"
          ]
        }
      ],
      "source": [
        "print(kf)"
      ]
    },
    {
      "cell_type": "code",
      "execution_count": null,
      "id": "64c8fc70",
      "metadata": {
        "id": "64c8fc70"
      },
      "outputs": [],
      "source": [
        "for train_index, test_index in kf.split(X):\n",
        "        X_train_1, X_test_1 = X.iloc[train_index], X.iloc[test_index]\n",
        "        y1_train_1, y1_test_1 = y1.iloc[train_index], y1.iloc[test_index]\n",
        "        y2_train_1, y2_test_1 = y2.iloc[train_index], y2.iloc[test_index]\n",
        "\n"
      ]
    },
    {
      "cell_type": "markdown",
      "source": [
        "## 6 , 7 , 8 , 9 - ENTRAINEMENT ET TESTS, EVALUATION "
      ],
      "metadata": {
        "id": "nLFkTP7XBD9V"
      },
      "id": "nLFkTP7XBD9V"
    },
    {
      "cell_type": "markdown",
      "source": [
        "### TESTS 1"
      ],
      "metadata": {
        "id": "nzYjxoMgiVUq"
      },
      "id": "nzYjxoMgiVUq"
    },
    {
      "cell_type": "markdown",
      "id": "c7fd9c7f",
      "metadata": {
        "id": "c7fd9c7f"
      },
      "source": [
        "\n",
        "#### Entrainement avec Naive Bayes\n"
      ]
    },
    {
      "cell_type": "code",
      "execution_count": null,
      "id": "5fba55db",
      "metadata": {
        "id": "5fba55db",
        "outputId": "7cd43e01-9057-4abe-baf3-9cfafdea1b2c",
        "colab": {
          "base_uri": "https://localhost:8080/"
        }
      },
      "outputs": [
        {
          "output_type": "execute_result",
          "data": {
            "text/plain": [
              "MultinomialNB()"
            ]
          },
          "metadata": {},
          "execution_count": 33
        }
      ],
      "source": [
        "#train and test data pour le y1 (c'est à dire le \"reading\")\n",
        "clf=MultinomialNB()\n",
        "clf.fit(X_train_1,y1_train_1)"
      ]
    },
    {
      "cell_type": "code",
      "execution_count": null,
      "id": "5219fcb2",
      "metadata": {
        "id": "5219fcb2"
      },
      "outputs": [],
      "source": [
        "y1_pred_NB=clf.predict(X_test_1)\n",
        "\n"
      ]
    },
    {
      "cell_type": "code",
      "source": [
        "#Precison,recall and accuracy score  per class for y1\n",
        "print(metrics.classification_report(y1_test_1,y1_pred_NB))"
      ],
      "metadata": {
        "colab": {
          "base_uri": "https://localhost:8080/"
        },
        "id": "tx9VHR2qOTu9",
        "outputId": "ac1e74d8-8a7b-4efd-dcfb-1086864bb778"
      },
      "id": "tx9VHR2qOTu9",
      "execution_count": null,
      "outputs": [
        {
          "output_type": "stream",
          "name": "stdout",
          "text": [
            "              precision    recall  f1-score   support\n",
            "\n",
            "           0       0.24      0.14      0.18        72\n",
            "           1       0.50      0.05      0.09        41\n",
            "           2       0.46      0.74      0.57       141\n",
            "           3       0.52      0.39      0.45        79\n",
            "\n",
            "    accuracy                           0.44       333\n",
            "   macro avg       0.43      0.33      0.32       333\n",
            "weighted avg       0.43      0.44      0.39       333\n",
            "\n"
          ]
        }
      ]
    },
    {
      "cell_type": "code",
      "execution_count": null,
      "id": "8e27c8e9",
      "metadata": {
        "id": "8e27c8e9",
        "outputId": "a325d3b6-38ed-449b-ad6b-1cd47d0c5094",
        "colab": {
          "base_uri": "https://localhost:8080/"
        }
      },
      "outputs": [
        {
          "output_type": "execute_result",
          "data": {
            "text/plain": [
              "MultinomialNB()"
            ]
          },
          "metadata": {},
          "execution_count": 36
        }
      ],
      "source": [
        "#train and test data pour y2 (c'est à dire pour le \"writing\")\n",
        "clf=MultinomialNB()\n",
        "clf.fit(X_train_1,y2_train_1)"
      ]
    },
    {
      "cell_type": "code",
      "execution_count": null,
      "id": "77d88473",
      "metadata": {
        "id": "77d88473"
      },
      "outputs": [],
      "source": [
        "\n",
        "y2_pred_NB=clf.predict(X_test_1)\n"
      ]
    },
    {
      "cell_type": "code",
      "source": [
        "#Precison,recall and accuracy score  per class for y2\n",
        "print(metrics.classification_report(y2_test_1,y2_pred_NB))"
      ],
      "metadata": {
        "colab": {
          "base_uri": "https://localhost:8080/"
        },
        "id": "HFEiZHh5OQAn",
        "outputId": "9563baee-401a-47ed-9f1d-2a088e6e32dc"
      },
      "id": "HFEiZHh5OQAn",
      "execution_count": null,
      "outputs": [
        {
          "output_type": "stream",
          "name": "stdout",
          "text": [
            "              precision    recall  f1-score   support\n",
            "\n",
            "           0       0.26      0.07      0.11        69\n",
            "           1       0.44      0.15      0.22        54\n",
            "           2       0.46      0.75      0.57       139\n",
            "           3       0.51      0.52      0.52        71\n",
            "\n",
            "    accuracy                           0.46       333\n",
            "   macro avg       0.42      0.37      0.36       333\n",
            "weighted avg       0.43      0.46      0.41       333\n",
            "\n"
          ]
        }
      ]
    },
    {
      "cell_type": "markdown",
      "id": "e6c6cfff",
      "metadata": {
        "id": "e6c6cfff"
      },
      "source": [
        "#### Entrainement avec la Régression Logistique\n"
      ]
    },
    {
      "cell_type": "code",
      "execution_count": null,
      "id": "81a6d37e",
      "metadata": {
        "id": "81a6d37e"
      },
      "outputs": [],
      "source": [
        "model = LogisticRegression()"
      ]
    },
    {
      "cell_type": "code",
      "execution_count": null,
      "id": "7681c468",
      "metadata": {
        "id": "7681c468",
        "outputId": "04059e71-d9c6-47e8-9b3c-1e112adf3b20",
        "colab": {
          "base_uri": "https://localhost:8080/"
        }
      },
      "outputs": [
        {
          "output_type": "execute_result",
          "data": {
            "text/plain": [
              "LogisticRegression()"
            ]
          },
          "metadata": {},
          "execution_count": 40
        }
      ],
      "source": [
        "#Train for \"reading\"\n",
        "model.fit(X_train_1, y1_train_1)"
      ]
    },
    {
      "cell_type": "code",
      "execution_count": null,
      "id": "1c987eec",
      "metadata": {
        "id": "1c987eec"
      },
      "outputs": [],
      "source": [
        "#Test for \"reading\"\n",
        "y1_pred_RL=model.predict(X_test_1)"
      ]
    },
    {
      "cell_type": "code",
      "source": [
        "#Precison,recall and accuracy score  per class for y1\n",
        "print(metrics.classification_report(y1_test_1,y1_pred_RL))"
      ],
      "metadata": {
        "colab": {
          "base_uri": "https://localhost:8080/"
        },
        "id": "lI-7hWt_bbiX",
        "outputId": "2c28b996-b211-49fb-f9e5-92ef9cc11234"
      },
      "id": "lI-7hWt_bbiX",
      "execution_count": null,
      "outputs": [
        {
          "output_type": "stream",
          "name": "stdout",
          "text": [
            "              precision    recall  f1-score   support\n",
            "\n",
            "           0       0.23      0.08      0.12        72\n",
            "           1       0.36      0.12      0.18        41\n",
            "           2       0.45      0.72      0.55       141\n",
            "           3       0.48      0.42      0.45        79\n",
            "\n",
            "    accuracy                           0.44       333\n",
            "   macro avg       0.38      0.33      0.33       333\n",
            "weighted avg       0.40      0.44      0.39       333\n",
            "\n"
          ]
        }
      ]
    },
    {
      "cell_type": "code",
      "execution_count": null,
      "id": "bf271d1f",
      "metadata": {
        "id": "bf271d1f",
        "outputId": "de91d137-aaca-4b7d-b0ed-fc8c58cdcab1",
        "colab": {
          "base_uri": "https://localhost:8080/"
        }
      },
      "outputs": [
        {
          "output_type": "execute_result",
          "data": {
            "text/plain": [
              "LogisticRegression()"
            ]
          },
          "metadata": {},
          "execution_count": 43
        }
      ],
      "source": [
        "#Train for \"writing\"\n",
        "model.fit(X_train_1, y2_train_1)"
      ]
    },
    {
      "cell_type": "code",
      "execution_count": null,
      "id": "151f42b6",
      "metadata": {
        "id": "151f42b6"
      },
      "outputs": [],
      "source": [
        "#Test for \"writing\"\n",
        "y2_pred_RL=model.predict(X_test_1)"
      ]
    },
    {
      "cell_type": "code",
      "execution_count": null,
      "id": "26182165",
      "metadata": {
        "id": "26182165",
        "outputId": "de206433-67df-4e9c-c254-5d604253855c",
        "colab": {
          "base_uri": "https://localhost:8080/"
        }
      },
      "outputs": [
        {
          "output_type": "stream",
          "name": "stdout",
          "text": [
            "              precision    recall  f1-score   support\n",
            "\n",
            "           0       0.26      0.09      0.13        69\n",
            "           1       0.44      0.13      0.20        54\n",
            "           2       0.45      0.71      0.55       139\n",
            "           3       0.53      0.56      0.54        71\n",
            "\n",
            "    accuracy                           0.46       333\n",
            "   macro avg       0.42      0.37      0.36       333\n",
            "weighted avg       0.43      0.46      0.41       333\n",
            "\n"
          ]
        }
      ],
      "source": [
        "#Precison,recall and accuracy score  per class for y2\n",
        "print(metrics.classification_report(y2_test_1,y2_pred_RL))"
      ]
    },
    {
      "cell_type": "markdown",
      "id": "8407510e",
      "metadata": {
        "id": "8407510e"
      },
      "source": [
        "#### Multilayer Perceptron"
      ]
    },
    {
      "cell_type": "code",
      "execution_count": null,
      "id": "4f348818",
      "metadata": {
        "id": "4f348818"
      },
      "outputs": [],
      "source": [
        "mlp=MLPClassifier()\n"
      ]
    },
    {
      "cell_type": "code",
      "execution_count": null,
      "id": "578fb365",
      "metadata": {
        "id": "578fb365",
        "outputId": "256b9b91-9c17-4d7d-9445-e7adcb22d63e",
        "colab": {
          "base_uri": "https://localhost:8080/"
        }
      },
      "outputs": [
        {
          "output_type": "stream",
          "name": "stderr",
          "text": [
            "/usr/local/lib/python3.7/dist-packages/sklearn/neural_network/_multilayer_perceptron.py:696: ConvergenceWarning: Stochastic Optimizer: Maximum iterations (200) reached and the optimization hasn't converged yet.\n",
            "  ConvergenceWarning,\n"
          ]
        },
        {
          "output_type": "execute_result",
          "data": {
            "text/plain": [
              "MLPClassifier()"
            ]
          },
          "metadata": {},
          "execution_count": 47
        }
      ],
      "source": [
        "mlp.fit(X_train_1,y1_train_1)"
      ]
    },
    {
      "cell_type": "code",
      "execution_count": null,
      "id": "52f0d732",
      "metadata": {
        "id": "52f0d732"
      },
      "outputs": [],
      "source": [
        "y1_pred_MLP=mlp.predict(X_test_1)\n"
      ]
    },
    {
      "cell_type": "code",
      "source": [
        "#Precison,recall and accuracy score  per class for y1\n",
        "print(metrics.classification_report(y1_test_1,y1_pred_MLP))"
      ],
      "metadata": {
        "colab": {
          "base_uri": "https://localhost:8080/"
        },
        "id": "yHkStuhadHgI",
        "outputId": "2e30ca22-bf1f-42ad-a1ea-6d44befcfa6a"
      },
      "id": "yHkStuhadHgI",
      "execution_count": null,
      "outputs": [
        {
          "output_type": "stream",
          "name": "stdout",
          "text": [
            "              precision    recall  f1-score   support\n",
            "\n",
            "           0       0.11      0.07      0.09        72\n",
            "           1       0.41      0.17      0.24        41\n",
            "           2       0.47      0.64      0.54       141\n",
            "           3       0.46      0.46      0.46        79\n",
            "\n",
            "    accuracy                           0.41       333\n",
            "   macro avg       0.36      0.33      0.33       333\n",
            "weighted avg       0.38      0.41      0.39       333\n",
            "\n"
          ]
        }
      ]
    },
    {
      "cell_type": "code",
      "execution_count": null,
      "id": "f4c16dbe",
      "metadata": {
        "id": "f4c16dbe",
        "outputId": "3f8216ff-836b-4dac-d98a-c90cc0c484d9",
        "colab": {
          "base_uri": "https://localhost:8080/"
        }
      },
      "outputs": [
        {
          "output_type": "stream",
          "name": "stderr",
          "text": [
            "/usr/local/lib/python3.7/dist-packages/sklearn/neural_network/_multilayer_perceptron.py:696: ConvergenceWarning: Stochastic Optimizer: Maximum iterations (200) reached and the optimization hasn't converged yet.\n",
            "  ConvergenceWarning,\n"
          ]
        },
        {
          "output_type": "execute_result",
          "data": {
            "text/plain": [
              "MLPClassifier()"
            ]
          },
          "metadata": {},
          "execution_count": 50
        }
      ],
      "source": [
        "mlp.fit(X_train_1, y2_train_1)"
      ]
    },
    {
      "cell_type": "code",
      "execution_count": null,
      "id": "bd34b612",
      "metadata": {
        "id": "bd34b612"
      },
      "outputs": [],
      "source": [
        "y2_pred_MLP=mlp.predict(X_test_1)"
      ]
    },
    {
      "cell_type": "code",
      "execution_count": null,
      "id": "ec9a3717",
      "metadata": {
        "id": "ec9a3717",
        "colab": {
          "base_uri": "https://localhost:8080/"
        },
        "outputId": "ba1fda4a-b571-432a-df75-6e4bc4b68112"
      },
      "outputs": [
        {
          "output_type": "stream",
          "name": "stdout",
          "text": [
            "              precision    recall  f1-score   support\n",
            "\n",
            "           0       0.31      0.16      0.21        69\n",
            "           1       0.45      0.26      0.33        54\n",
            "           2       0.51      0.65      0.57       139\n",
            "           3       0.45      0.56      0.50        71\n",
            "\n",
            "    accuracy                           0.47       333\n",
            "   macro avg       0.43      0.41      0.40       333\n",
            "weighted avg       0.45      0.47      0.44       333\n",
            "\n"
          ]
        }
      ],
      "source": [
        "#Precison,recall and accuracy score  per class for y2\n",
        "print(metrics.classification_report(y2_test_1,y2_pred_MLP))"
      ]
    },
    {
      "cell_type": "markdown",
      "source": [
        "### TESTS 2"
      ],
      "metadata": {
        "id": "njApDqNseigq"
      },
      "id": "njApDqNseigq"
    },
    {
      "cell_type": "markdown",
      "metadata": {
        "id": "1LQxtuh9gS1e"
      },
      "source": [
        "\n",
        "#### Entrainement avec Naive Bayes\n"
      ],
      "id": "1LQxtuh9gS1e"
    },
    {
      "cell_type": "markdown",
      "source": [
        "**Nous allons modifier le paramètre alpha de la valeur par defaut (1.0) à une valeure de 2.0**"
      ],
      "metadata": {
        "id": "nYpZpbYrrMtX"
      },
      "id": "nYpZpbYrrMtX"
    },
    {
      "cell_type": "code",
      "execution_count": null,
      "metadata": {
        "outputId": "85537b53-531c-44c1-c3be-453dca069bb8",
        "colab": {
          "base_uri": "https://localhost:8080/"
        },
        "id": "rT5dcJPRgS1f"
      },
      "outputs": [
        {
          "output_type": "execute_result",
          "data": {
            "text/plain": [
              "MultinomialNB(alpha=2.0)"
            ]
          },
          "metadata": {},
          "execution_count": 53
        }
      ],
      "source": [
        "#train and test data pour le y1 (c'est à dire le \"reading\") en changeant le alpha de 1.0 à 2.0\n",
        "clf_2=MultinomialNB(alpha=2.0)\n",
        "clf_2.fit(X_train_1,y1_train_1)"
      ],
      "id": "rT5dcJPRgS1f"
    },
    {
      "cell_type": "code",
      "execution_count": null,
      "metadata": {
        "id": "mruVPLgvgS1g"
      },
      "outputs": [],
      "source": [
        "y1_pred_NB_2=clf_2.predict(X_test_1)\n"
      ],
      "id": "mruVPLgvgS1g"
    },
    {
      "cell_type": "code",
      "source": [
        "#Precison,recall and accuracy score  per class for y1\n",
        "print(metrics.classification_report(y1_test_1,y1_pred_NB_2))"
      ],
      "metadata": {
        "colab": {
          "base_uri": "https://localhost:8080/"
        },
        "outputId": "ddc3321d-15ca-4d69-8077-7ecae480aab0",
        "id": "Ds8q8yPvgS1g"
      },
      "execution_count": null,
      "outputs": [
        {
          "output_type": "stream",
          "name": "stdout",
          "text": [
            "              precision    recall  f1-score   support\n",
            "\n",
            "           0       0.24      0.12      0.17        72\n",
            "           1       0.50      0.05      0.09        41\n",
            "           2       0.46      0.77      0.58       141\n",
            "           3       0.53      0.39      0.45        79\n",
            "\n",
            "    accuracy                           0.45       333\n",
            "   macro avg       0.43      0.33      0.32       333\n",
            "weighted avg       0.44      0.45      0.40       333\n",
            "\n"
          ]
        }
      ],
      "id": "Ds8q8yPvgS1g"
    },
    {
      "cell_type": "code",
      "execution_count": null,
      "metadata": {
        "outputId": "303c7679-ac0d-4d04-cbc5-c9cec5c2f85d",
        "colab": {
          "base_uri": "https://localhost:8080/"
        },
        "id": "xHC9l_NZgS1h"
      },
      "outputs": [
        {
          "output_type": "execute_result",
          "data": {
            "text/plain": [
              "MultinomialNB(alpha=2.0)"
            ]
          },
          "metadata": {},
          "execution_count": 56
        }
      ],
      "source": [
        "#train and test data pour y2 (c'est à dire pour le \"writing\")\n",
        "clf_2.fit(X_train_1,y2_train_1)"
      ],
      "id": "xHC9l_NZgS1h"
    },
    {
      "cell_type": "code",
      "execution_count": null,
      "metadata": {
        "id": "RnksLV3OgS1i"
      },
      "outputs": [],
      "source": [
        "y2_pred_NB_2=clf_2.predict(X_test_1)"
      ],
      "id": "RnksLV3OgS1i"
    },
    {
      "cell_type": "code",
      "source": [
        "#Precison,recall and accuracy score  per class for y2\n",
        "print(metrics.classification_report(y2_test_1,y2_pred_NB_2))"
      ],
      "metadata": {
        "colab": {
          "base_uri": "https://localhost:8080/"
        },
        "outputId": "531cd167-bc90-48a8-c650-3be5fd83669b",
        "id": "0UDWa8R1gS1i"
      },
      "execution_count": null,
      "outputs": [
        {
          "output_type": "stream",
          "name": "stdout",
          "text": [
            "              precision    recall  f1-score   support\n",
            "\n",
            "           0       0.33      0.07      0.12        69\n",
            "           1       0.44      0.15      0.22        54\n",
            "           2       0.47      0.77      0.58       139\n",
            "           3       0.51      0.52      0.52        71\n",
            "\n",
            "    accuracy                           0.47       333\n",
            "   macro avg       0.44      0.38      0.36       333\n",
            "weighted avg       0.45      0.47      0.41       333\n",
            "\n"
          ]
        }
      ],
      "id": "0UDWa8R1gS1i"
    },
    {
      "cell_type": "markdown",
      "metadata": {
        "id": "o6FNY6aDjKVu"
      },
      "source": [
        "#### Entrainement avec la Régression Logistique\n"
      ],
      "id": "o6FNY6aDjKVu"
    },
    {
      "cell_type": "markdown",
      "source": [
        "**Nous allons essayer de changer l'algorithme utilisé pour le solver. Nous allons passer à solver = \"liblinear\"**"
      ],
      "metadata": {
        "id": "WRNmFtkbrh2h"
      },
      "id": "WRNmFtkbrh2h"
    },
    {
      "cell_type": "code",
      "execution_count": null,
      "metadata": {
        "id": "APdoHVxajKVv"
      },
      "outputs": [],
      "source": [
        "model_2 = LogisticRegression(solver='liblinear')"
      ],
      "id": "APdoHVxajKVv"
    },
    {
      "cell_type": "code",
      "execution_count": null,
      "metadata": {
        "outputId": "eca13d82-e9f7-442a-86d8-4d78c20572fd",
        "colab": {
          "base_uri": "https://localhost:8080/"
        },
        "id": "2Z40Z8LujKVv"
      },
      "outputs": [
        {
          "output_type": "execute_result",
          "data": {
            "text/plain": [
              "LogisticRegression(solver='liblinear')"
            ]
          },
          "metadata": {},
          "execution_count": 60
        }
      ],
      "source": [
        "#Train for \"reading\"\n",
        "model_2.fit(X_train_1, y1_train_1)"
      ],
      "id": "2Z40Z8LujKVv"
    },
    {
      "cell_type": "code",
      "execution_count": null,
      "metadata": {
        "id": "sTnbBsGzjKVw"
      },
      "outputs": [],
      "source": [
        "#Test for \"reading\"\n",
        "y1_pred_RL_2=model_2.predict(X_test_1)"
      ],
      "id": "sTnbBsGzjKVw"
    },
    {
      "cell_type": "code",
      "source": [
        "#Precison,recall and accuracy score  per class for y1\n",
        "print(metrics.classification_report(y1_test_1,y1_pred_RL_2))"
      ],
      "metadata": {
        "colab": {
          "base_uri": "https://localhost:8080/"
        },
        "outputId": "e3d28c1b-9265-4e4c-d0b9-2b3404667174",
        "id": "SpoH-fxhjKVw"
      },
      "execution_count": null,
      "outputs": [
        {
          "output_type": "stream",
          "name": "stdout",
          "text": [
            "              precision    recall  f1-score   support\n",
            "\n",
            "           0       0.24      0.08      0.12        72\n",
            "           1       0.50      0.05      0.09        41\n",
            "           2       0.46      0.77      0.58       141\n",
            "           3       0.47      0.42      0.44        79\n",
            "\n",
            "    accuracy                           0.45       333\n",
            "   macro avg       0.42      0.33      0.31       333\n",
            "weighted avg       0.42      0.45      0.39       333\n",
            "\n"
          ]
        }
      ],
      "id": "SpoH-fxhjKVw"
    },
    {
      "cell_type": "code",
      "execution_count": null,
      "metadata": {
        "outputId": "11999838-3e7f-4cdc-87a1-56dbe277effd",
        "colab": {
          "base_uri": "https://localhost:8080/"
        },
        "id": "nM5AdlYbjKVw"
      },
      "outputs": [
        {
          "output_type": "execute_result",
          "data": {
            "text/plain": [
              "LogisticRegression(solver='liblinear')"
            ]
          },
          "metadata": {},
          "execution_count": 63
        }
      ],
      "source": [
        "#Train for \"writing\"\n",
        "model_2.fit(X_train_1, y2_train_1)"
      ],
      "id": "nM5AdlYbjKVw"
    },
    {
      "cell_type": "code",
      "execution_count": null,
      "metadata": {
        "id": "Kxu7JpTujKVx"
      },
      "outputs": [],
      "source": [
        "#Test for \"writing\"\n",
        "y2_pred_RL_2=model_2.predict(X_test_1)"
      ],
      "id": "Kxu7JpTujKVx"
    },
    {
      "cell_type": "code",
      "execution_count": null,
      "metadata": {
        "outputId": "eb84ab60-88ee-49cb-825d-89be845a77eb",
        "colab": {
          "base_uri": "https://localhost:8080/"
        },
        "id": "Ox6ctBFzjKVx"
      },
      "outputs": [
        {
          "output_type": "stream",
          "name": "stdout",
          "text": [
            "              precision    recall  f1-score   support\n",
            "\n",
            "           0       0.36      0.07      0.12        69\n",
            "           1       0.50      0.07      0.13        54\n",
            "           2       0.46      0.78      0.58       139\n",
            "           3       0.53      0.56      0.54        71\n",
            "\n",
            "    accuracy                           0.47       333\n",
            "   macro avg       0.46      0.37      0.34       333\n",
            "weighted avg       0.46      0.47      0.41       333\n",
            "\n"
          ]
        }
      ],
      "source": [
        "#Precison,recall and accuracy score  per class for y2\n",
        "print(metrics.classification_report(y2_test_1,y2_pred_RL_2))"
      ],
      "id": "Ox6ctBFzjKVx"
    },
    {
      "cell_type": "markdown",
      "metadata": {
        "id": "_nXxcGBpny5n"
      },
      "source": [
        "#### Multilayer Perceptron"
      ],
      "id": "_nXxcGBpny5n"
    },
    {
      "cell_type": "markdown",
      "source": [
        "**AU NIVEAU DU MLP NOUS ALLONS PLUTÔT MODIFIER LE NOMBRE D'ITERATIONS DE 300 À 1000**"
      ],
      "metadata": {
        "id": "7ZNSdPT2ny5o"
      },
      "id": "7ZNSdPT2ny5o"
    },
    {
      "cell_type": "code",
      "execution_count": null,
      "metadata": {
        "id": "R_Vk0a2Kny5p"
      },
      "outputs": [],
      "source": [
        "mlp_2=MLPClassifier(max_iter=1000)\n"
      ],
      "id": "R_Vk0a2Kny5p"
    },
    {
      "cell_type": "code",
      "execution_count": null,
      "metadata": {
        "outputId": "b6fdf000-1482-46d5-fc05-009b98d9087c",
        "colab": {
          "base_uri": "https://localhost:8080/"
        },
        "id": "LHfQQGcPny5q"
      },
      "outputs": [
        {
          "output_type": "execute_result",
          "data": {
            "text/plain": [
              "MLPClassifier(max_iter=1000)"
            ]
          },
          "metadata": {},
          "execution_count": 67
        }
      ],
      "source": [
        "mlp_2.fit(X_train_1,y1_train_1)"
      ],
      "id": "LHfQQGcPny5q"
    },
    {
      "cell_type": "code",
      "execution_count": null,
      "metadata": {
        "id": "P1rQi704ny5r"
      },
      "outputs": [],
      "source": [
        "y1_pred_MLP_2=mlp_2.predict(X_test_1)\n"
      ],
      "id": "P1rQi704ny5r"
    },
    {
      "cell_type": "code",
      "source": [
        "#Precison,recall and accuracy score  per class for y1\n",
        "print(metrics.classification_report(y1_test_1,y1_pred_MLP_2))"
      ],
      "metadata": {
        "colab": {
          "base_uri": "https://localhost:8080/"
        },
        "outputId": "834e88d3-e935-4bc6-835e-4b744021b952",
        "id": "ad3cGjdeny5s"
      },
      "execution_count": null,
      "outputs": [
        {
          "output_type": "stream",
          "name": "stdout",
          "text": [
            "              precision    recall  f1-score   support\n",
            "\n",
            "           0       0.16      0.15      0.15        72\n",
            "           1       0.47      0.17      0.25        41\n",
            "           2       0.47      0.53      0.50       141\n",
            "           3       0.44      0.48      0.46        79\n",
            "\n",
            "    accuracy                           0.39       333\n",
            "   macro avg       0.38      0.33      0.34       333\n",
            "weighted avg       0.39      0.39      0.38       333\n",
            "\n"
          ]
        }
      ],
      "id": "ad3cGjdeny5s"
    },
    {
      "cell_type": "code",
      "execution_count": null,
      "metadata": {
        "outputId": "f20ca9b8-5b04-40da-ac0b-291f1b60f0dc",
        "colab": {
          "base_uri": "https://localhost:8080/"
        },
        "id": "mCE4LOwdny5t"
      },
      "outputs": [
        {
          "output_type": "execute_result",
          "data": {
            "text/plain": [
              "MLPClassifier(max_iter=1000)"
            ]
          },
          "metadata": {},
          "execution_count": 70
        }
      ],
      "source": [
        "mlp_2.fit(X_train_1, y2_train_1)"
      ],
      "id": "mCE4LOwdny5t"
    },
    {
      "cell_type": "code",
      "execution_count": null,
      "metadata": {
        "id": "3p7LEpknny5t"
      },
      "outputs": [],
      "source": [
        "y2_pred_MLP_2=mlp_2.predict(X_test_1)"
      ],
      "id": "3p7LEpknny5t"
    },
    {
      "cell_type": "code",
      "execution_count": null,
      "metadata": {
        "colab": {
          "base_uri": "https://localhost:8080/"
        },
        "outputId": "b7e825c7-9227-461b-bc44-d95abf928f5a",
        "id": "uo8TR9sjny5u"
      },
      "outputs": [
        {
          "output_type": "stream",
          "name": "stdout",
          "text": [
            "              precision    recall  f1-score   support\n",
            "\n",
            "           0       0.32      0.16      0.21        69\n",
            "           1       0.38      0.33      0.36        54\n",
            "           2       0.48      0.55      0.51       139\n",
            "           3       0.46      0.61      0.52        71\n",
            "\n",
            "    accuracy                           0.44       333\n",
            "   macro avg       0.41      0.41      0.40       333\n",
            "weighted avg       0.43      0.44      0.43       333\n",
            "\n"
          ]
        }
      ],
      "source": [
        "#Precison,recall and accuracy score  per class for y2\n",
        "print(metrics.classification_report(y2_test_1,y2_pred_MLP_2))"
      ],
      "id": "uo8TR9sjny5u"
    },
    {
      "cell_type": "markdown",
      "source": [
        "### TESTS 3"
      ],
      "metadata": {
        "id": "JGnaR28ztS0E"
      },
      "id": "JGnaR28ztS0E"
    },
    {
      "cell_type": "markdown",
      "metadata": {
        "id": "V3vqeXOetS0F"
      },
      "source": [
        "\n",
        "#### Entrainement avec Naive Bayes\n"
      ],
      "id": "V3vqeXOetS0F"
    },
    {
      "cell_type": "markdown",
      "source": [
        "**Nous allons modifier le paramètre alpha de la valeur par defaut (1.0) à une valeure de 5.0**"
      ],
      "metadata": {
        "id": "vbUuq6TytS0G"
      },
      "id": "vbUuq6TytS0G"
    },
    {
      "cell_type": "code",
      "execution_count": null,
      "metadata": {
        "outputId": "ef1f4fc3-f3e5-41fe-e0ad-8f232803e056",
        "colab": {
          "base_uri": "https://localhost:8080/"
        },
        "id": "pUmkG620tS0G"
      },
      "outputs": [
        {
          "output_type": "execute_result",
          "data": {
            "text/plain": [
              "MultinomialNB(alpha=5.0)"
            ]
          },
          "metadata": {},
          "execution_count": 73
        }
      ],
      "source": [
        "#train and test data pour le y1 (c'est à dire le \"reading\")\n",
        "clf_3=MultinomialNB(alpha=5.0)\n",
        "clf_3.fit(X_train_1,y1_train_1)"
      ],
      "id": "pUmkG620tS0G"
    },
    {
      "cell_type": "code",
      "execution_count": null,
      "metadata": {
        "id": "cpYujglltS0G"
      },
      "outputs": [],
      "source": [
        "y1_pred_NB_3=clf_3.predict(X_test_1)\n"
      ],
      "id": "cpYujglltS0G"
    },
    {
      "cell_type": "code",
      "source": [
        "#Precison,recall and accuracy score  per class for y1\n",
        "print(metrics.classification_report(y1_test_1,y1_pred_NB_3))"
      ],
      "metadata": {
        "colab": {
          "base_uri": "https://localhost:8080/"
        },
        "outputId": "a9e1097c-e77f-4551-97aa-56cf9fce4591",
        "id": "5VIY7WEItS0H"
      },
      "execution_count": null,
      "outputs": [
        {
          "output_type": "stream",
          "name": "stdout",
          "text": [
            "              precision    recall  f1-score   support\n",
            "\n",
            "           0       0.26      0.12      0.17        72\n",
            "           1       0.50      0.05      0.09        41\n",
            "           2       0.47      0.78      0.58       141\n",
            "           3       0.53      0.39      0.45        79\n",
            "\n",
            "    accuracy                           0.46       333\n",
            "   macro avg       0.44      0.34      0.32       333\n",
            "weighted avg       0.44      0.46      0.40       333\n",
            "\n"
          ]
        }
      ],
      "id": "5VIY7WEItS0H"
    },
    {
      "cell_type": "code",
      "execution_count": null,
      "metadata": {
        "outputId": "84e6e9c9-6f41-4f65-a657-5ac3092c4a2a",
        "colab": {
          "base_uri": "https://localhost:8080/"
        },
        "id": "lIZFoyLotS0I"
      },
      "outputs": [
        {
          "output_type": "execute_result",
          "data": {
            "text/plain": [
              "MultinomialNB(alpha=5.0)"
            ]
          },
          "metadata": {},
          "execution_count": 76
        }
      ],
      "source": [
        "#train and test data pour y2 (c'est à dire pour le \"writing\")\n",
        "clf_3.fit(X_train_1,y2_train_1)"
      ],
      "id": "lIZFoyLotS0I"
    },
    {
      "cell_type": "code",
      "execution_count": null,
      "metadata": {
        "id": "7wJc-F15tS0I"
      },
      "outputs": [],
      "source": [
        "y2_pred_NB_3=clf_3.predict(X_test_1)"
      ],
      "id": "7wJc-F15tS0I"
    },
    {
      "cell_type": "code",
      "source": [
        "#Precison,recall and accuracy score  per class for y2\n",
        "print(metrics.classification_report(y2_test_1,y2_pred_NB_3))"
      ],
      "metadata": {
        "colab": {
          "base_uri": "https://localhost:8080/"
        },
        "outputId": "a77a63c1-f82c-42da-d716-9baa3b40ea2b",
        "id": "jQgP_JA2tS0J"
      },
      "execution_count": null,
      "outputs": [
        {
          "output_type": "stream",
          "name": "stdout",
          "text": [
            "              precision    recall  f1-score   support\n",
            "\n",
            "           0       0.42      0.07      0.12        69\n",
            "           1       0.56      0.09      0.16        54\n",
            "           2       0.47      0.83      0.60       139\n",
            "           3       0.52      0.51      0.51        71\n",
            "\n",
            "    accuracy                           0.48       333\n",
            "   macro avg       0.49      0.37      0.35       333\n",
            "weighted avg       0.49      0.48      0.41       333\n",
            "\n"
          ]
        }
      ],
      "id": "jQgP_JA2tS0J"
    },
    {
      "cell_type": "markdown",
      "metadata": {
        "id": "FrfNmmXGtS0K"
      },
      "source": [
        "#### Entrainement avec la Régression Logistique\n"
      ],
      "id": "FrfNmmXGtS0K"
    },
    {
      "cell_type": "markdown",
      "source": [
        "**Nous allons changer le type d'erreur de l2 à l1 et nous utiliserons comme solver = \"saga\"**"
      ],
      "metadata": {
        "id": "Zya46gAbtS0K"
      },
      "id": "Zya46gAbtS0K"
    },
    {
      "cell_type": "code",
      "execution_count": null,
      "metadata": {
        "id": "aFdP_ArjtS0K"
      },
      "outputs": [],
      "source": [
        "model_3 = LogisticRegression(penalty='l1', solver = 'saga')"
      ],
      "id": "aFdP_ArjtS0K"
    },
    {
      "cell_type": "code",
      "execution_count": null,
      "metadata": {
        "outputId": "1c177013-cb16-4825-8f39-5e0b6609e386",
        "colab": {
          "base_uri": "https://localhost:8080/"
        },
        "id": "ldZaOFH6tS0K"
      },
      "outputs": [
        {
          "output_type": "execute_result",
          "data": {
            "text/plain": [
              "LogisticRegression(penalty='l1', solver='saga')"
            ]
          },
          "metadata": {},
          "execution_count": 80
        }
      ],
      "source": [
        "#Train for \"reading\"\n",
        "model_3.fit(X_train_1, y1_train_1)"
      ],
      "id": "ldZaOFH6tS0K"
    },
    {
      "cell_type": "code",
      "execution_count": null,
      "metadata": {
        "id": "tFsNIHmYtS0L"
      },
      "outputs": [],
      "source": [
        "#Test for \"reading\"\n",
        "y1_pred_RL_3=model_3.predict(X_test_1)"
      ],
      "id": "tFsNIHmYtS0L"
    },
    {
      "cell_type": "code",
      "source": [
        "#Precison,recall and accuracy score  per class for y1\n",
        "print(metrics.classification_report(y1_test_1,y1_pred_RL_3))"
      ],
      "metadata": {
        "colab": {
          "base_uri": "https://localhost:8080/"
        },
        "outputId": "daa81648-ca7b-42cd-bd1c-df757a4668c2",
        "id": "64dE15MbtS0L"
      },
      "execution_count": null,
      "outputs": [
        {
          "output_type": "stream",
          "name": "stdout",
          "text": [
            "              precision    recall  f1-score   support\n",
            "\n",
            "           0       0.29      0.08      0.13        72\n",
            "           1       0.36      0.12      0.18        41\n",
            "           2       0.46      0.74      0.57       141\n",
            "           3       0.49      0.42      0.45        79\n",
            "\n",
            "    accuracy                           0.45       333\n",
            "   macro avg       0.40      0.34      0.33       333\n",
            "weighted avg       0.41      0.45      0.40       333\n",
            "\n"
          ]
        }
      ],
      "id": "64dE15MbtS0L"
    },
    {
      "cell_type": "code",
      "execution_count": null,
      "metadata": {
        "outputId": "5e9efe76-c1c3-4509-e107-458297260ee7",
        "colab": {
          "base_uri": "https://localhost:8080/"
        },
        "id": "UUkuya89tS0L"
      },
      "outputs": [
        {
          "output_type": "execute_result",
          "data": {
            "text/plain": [
              "LogisticRegression(penalty='l1', solver='saga')"
            ]
          },
          "metadata": {},
          "execution_count": 83
        }
      ],
      "source": [
        "#Train for \"writing\"\n",
        "model_3.fit(X_train_1, y2_train_1)"
      ],
      "id": "UUkuya89tS0L"
    },
    {
      "cell_type": "code",
      "execution_count": null,
      "metadata": {
        "id": "NAapp7XktS0L"
      },
      "outputs": [],
      "source": [
        "#Test for \"writing\"\n",
        "y2_pred_RL_3=model_3.predict(X_test_1)"
      ],
      "id": "NAapp7XktS0L"
    },
    {
      "cell_type": "code",
      "execution_count": null,
      "metadata": {
        "outputId": "a6c9ab03-c44c-463c-86e5-b1ef975f71b1",
        "colab": {
          "base_uri": "https://localhost:8080/"
        },
        "id": "59BUHmiYtS0M"
      },
      "outputs": [
        {
          "output_type": "stream",
          "name": "stdout",
          "text": [
            "              precision    recall  f1-score   support\n",
            "\n",
            "           0       0.33      0.09      0.14        69\n",
            "           1       0.44      0.13      0.20        54\n",
            "           2       0.46      0.74      0.57       139\n",
            "           3       0.53      0.56      0.54        71\n",
            "\n",
            "    accuracy                           0.47       333\n",
            "   macro avg       0.44      0.38      0.36       333\n",
            "weighted avg       0.45      0.47      0.41       333\n",
            "\n"
          ]
        }
      ],
      "source": [
        "#Precison,recall and accuracy score  per class for y2\n",
        "print(metrics.classification_report(y2_test_1,y2_pred_RL_3))"
      ],
      "id": "59BUHmiYtS0M"
    },
    {
      "cell_type": "markdown",
      "metadata": {
        "id": "Aux4MOYetS0M"
      },
      "source": [
        "#### Multilayer Perceptron"
      ],
      "id": "Aux4MOYetS0M"
    },
    {
      "cell_type": "markdown",
      "source": [
        "**AU NIVEAU DU MLP NOUS ALLONS MODIFIER LE NOMBRE D'ITERATIONS DE 300 À 1000 TOUT EN MODIFIANT LA VALEUR DE ALPHA À 0.0005**"
      ],
      "metadata": {
        "id": "jFjRZVoutS0M"
      },
      "id": "jFjRZVoutS0M"
    },
    {
      "cell_type": "code",
      "execution_count": null,
      "metadata": {
        "id": "2lfEzbR9tS0N"
      },
      "outputs": [],
      "source": [
        "mlp_3=MLPClassifier(alpha = 0.0005,max_iter=1000)\n"
      ],
      "id": "2lfEzbR9tS0N"
    },
    {
      "cell_type": "code",
      "execution_count": null,
      "metadata": {
        "outputId": "acde56d2-4050-491e-95c4-6bc3d67b6634",
        "colab": {
          "base_uri": "https://localhost:8080/"
        },
        "id": "Q-fAghgZtS0N"
      },
      "outputs": [
        {
          "output_type": "stream",
          "name": "stderr",
          "text": [
            "/usr/local/lib/python3.7/dist-packages/sklearn/neural_network/_multilayer_perceptron.py:696: ConvergenceWarning: Stochastic Optimizer: Maximum iterations (1000) reached and the optimization hasn't converged yet.\n",
            "  ConvergenceWarning,\n"
          ]
        },
        {
          "output_type": "execute_result",
          "data": {
            "text/plain": [
              "MLPClassifier(alpha=0.0005, max_iter=1000)"
            ]
          },
          "metadata": {},
          "execution_count": 87
        }
      ],
      "source": [
        "mlp_3.fit(X_train_1,y1_train_1)"
      ],
      "id": "Q-fAghgZtS0N"
    },
    {
      "cell_type": "code",
      "execution_count": null,
      "metadata": {
        "id": "EEaMUl2ltS0N"
      },
      "outputs": [],
      "source": [
        "y1_pred_MLP_3=mlp_3.predict(X_test_1)\n"
      ],
      "id": "EEaMUl2ltS0N"
    },
    {
      "cell_type": "code",
      "source": [
        "#Precison,recall and accuracy score  per class for y1\n",
        "print(metrics.classification_report(y1_test_1,y1_pred_MLP_3))"
      ],
      "metadata": {
        "colab": {
          "base_uri": "https://localhost:8080/"
        },
        "outputId": "eee7de1f-8844-4ce9-ce02-a60d22ef0f1d",
        "id": "E44WnIXItS0N"
      },
      "execution_count": null,
      "outputs": [
        {
          "output_type": "stream",
          "name": "stdout",
          "text": [
            "              precision    recall  f1-score   support\n",
            "\n",
            "           0       0.18      0.18      0.18        72\n",
            "           1       0.31      0.27      0.29        41\n",
            "           2       0.46      0.50      0.48       141\n",
            "           3       0.47      0.46      0.46        79\n",
            "\n",
            "    accuracy                           0.39       333\n",
            "   macro avg       0.36      0.35      0.35       333\n",
            "weighted avg       0.39      0.39      0.39       333\n",
            "\n"
          ]
        }
      ],
      "id": "E44WnIXItS0N"
    },
    {
      "cell_type": "code",
      "execution_count": null,
      "metadata": {
        "outputId": "6ba1eadb-068e-4636-fef2-687418bd0290",
        "colab": {
          "base_uri": "https://localhost:8080/"
        },
        "id": "qIJChYzmtS0O"
      },
      "outputs": [
        {
          "output_type": "stream",
          "name": "stderr",
          "text": [
            "/usr/local/lib/python3.7/dist-packages/sklearn/neural_network/_multilayer_perceptron.py:696: ConvergenceWarning: Stochastic Optimizer: Maximum iterations (1000) reached and the optimization hasn't converged yet.\n",
            "  ConvergenceWarning,\n"
          ]
        },
        {
          "output_type": "execute_result",
          "data": {
            "text/plain": [
              "MLPClassifier(alpha=0.0005, max_iter=1000)"
            ]
          },
          "metadata": {},
          "execution_count": 90
        }
      ],
      "source": [
        "mlp_3.fit(X_train_1, y2_train_1)"
      ],
      "id": "qIJChYzmtS0O"
    },
    {
      "cell_type": "code",
      "execution_count": null,
      "metadata": {
        "id": "kkrt1OZwtS0O"
      },
      "outputs": [],
      "source": [
        "y2_pred_MLP_3=mlp_3.predict(X_test_1)"
      ],
      "id": "kkrt1OZwtS0O"
    },
    {
      "cell_type": "code",
      "execution_count": null,
      "metadata": {
        "colab": {
          "base_uri": "https://localhost:8080/"
        },
        "outputId": "8639372f-4d65-4bed-9042-77357043c7a8",
        "id": "30T_QiNctS0O"
      },
      "outputs": [
        {
          "output_type": "stream",
          "name": "stdout",
          "text": [
            "              precision    recall  f1-score   support\n",
            "\n",
            "           0       0.33      0.19      0.24        69\n",
            "           1       0.34      0.22      0.27        54\n",
            "           2       0.51      0.62      0.56       139\n",
            "           3       0.47      0.58      0.52        71\n",
            "\n",
            "    accuracy                           0.46       333\n",
            "   macro avg       0.41      0.40      0.40       333\n",
            "weighted avg       0.43      0.46      0.44       333\n",
            "\n"
          ]
        }
      ],
      "source": [
        "#Precison,recall and accuracy score  per class for y2\n",
        "print(metrics.classification_report(y2_test_1,y2_pred_MLP_3))"
      ],
      "id": "30T_QiNctS0O"
    },
    {
      "cell_type": "markdown",
      "source": [
        "## 10 - COMPARAISON DES RÉSULTATS ET EXEMPLES DE FAUX  NÉGATIFS"
      ],
      "metadata": {
        "id": "7agbFlfIxbRf"
      },
      "id": "7agbFlfIxbRf"
    },
    {
      "cell_type": "markdown",
      "source": [
        "### Comparaison des résultats"
      ],
      "metadata": {
        "id": "5GnhK60O3ZRk"
      },
      "id": "5GnhK60O3ZRk"
    },
    {
      "cell_type": "code",
      "source": [
        "#precision\n",
        "def precision_genNB (test,NB_1,NB_2,NB_3) :\n",
        "  dataNB = []\n",
        "  dataNB.append(precision_score(test,NB_1,average = \"macro\"))\n",
        "  dataNB.append(precision_score(test,NB_2,average = \"macro\"))\n",
        "  dataNB.append(precision_score(test,NB_3,average = \"macro\"))\n",
        "\n",
        "  return dataNB\n",
        "\n",
        "def precision_genRL (test,RL_1,RL_2,RL_3) :\n",
        "\n",
        "  dataRL = []\n",
        "  dataRL.append(precision_score(test,RL_1,average = \"macro\"))\n",
        "  dataRL.append(precision_score(test,RL_2,average = \"macro\"))\n",
        "  dataRL.append(precision_score(test,RL_3,average = \"macro\"))\n",
        "\n",
        "  return dataRL\n",
        "\n",
        "def precision_genMLP (test,MLP_1,MLP_2,MLP_3) :\n",
        "\n",
        "  dataMLP = []\n",
        "  dataMLP.append(precision_score(test,MLP_1,average = \"macro\"))\n",
        "  dataMLP.append(precision_score(test,MLP_2,average = \"macro\"))\n",
        "  dataMLP.append(precision_score(test,MLP_3,average = \"macro\"))\n",
        "\n",
        "  return dataMLP\n",
        "\n",
        "#recall\n",
        "def recall_genNB (test,NB_1,NB_2,NB_3) :\n",
        "  dataNB = []\n",
        "  dataNB.append(recall_score(test,NB_1,average = \"macro\"))\n",
        "  dataNB.append(recall_score(test,NB_2,average = \"macro\"))\n",
        "  dataNB.append(recall_score(test,NB_3,average = \"macro\"))\n",
        "\n",
        "  return dataNB\n",
        "\n",
        "def recall_genRL (test,RL_1,RL_2,RL_3) :\n",
        "\n",
        "  dataRL = []\n",
        "  dataRL.append(recall_score(test,RL_1,average = \"macro\"))\n",
        "  dataRL.append(recall_score(test,RL_2,average = \"macro\"))\n",
        "  dataRL.append(recall_score(test,RL_3,average = \"macro\"))\n",
        "\n",
        "  return dataRL\n",
        "\n",
        "def recall_genMLP (test,MLP_1,MLP_2,MLP_3) :\n",
        "\n",
        "  dataMLP = []\n",
        "  dataMLP.append(recall_score(test,MLP_1,average = \"macro\"))\n",
        "  dataMLP.append(recall_score(test,MLP_2,average = \"macro\"))\n",
        "  dataMLP.append(recall_score(test,MLP_3,average = \"macro\"))\n",
        "\n",
        "  return dataMLP\n"
      ],
      "metadata": {
        "id": "Uk8eCt8txnUK"
      },
      "id": "Uk8eCt8txnUK",
      "execution_count": null,
      "outputs": []
    },
    {
      "cell_type": "markdown",
      "source": [
        "#### Score de précision"
      ],
      "metadata": {
        "id": "YNFyJPnb5nlB"
      },
      "id": "YNFyJPnb5nlB"
    },
    {
      "cell_type": "code",
      "source": [
        "#Y1 (\"Reading\") precision and recall score comparaison\n",
        "y1_t = {\"precisionNB\":precision_genNB(y1_test_1,y1_pred_NB,y1_pred_NB_2,y1_pred_NB_3),\n",
        "                      \"precisionRL\" :precision_genRL(y1_test_1,y1_pred_RL,y1_pred_RL_2,y1_pred_RL_3),\n",
        "         \"precisionMLP\":precision_genMLP(y1_test_1,y1_pred_MLP,y1_pred_MLP_2,y1_pred_MLP_3)}\n",
        "index = [\"Test 1\",\"Test 2\",\"Test 3\"]\n",
        "df_y1_t = pd.DataFrame(y1_t,index=index)\n",
        "\n",
        "df_y1_t.plot.bar(figsize=(12,12),rot = 15 ,title = \"Score de precision et de rappel en fonction du model\")\n",
        "plt.show(block=True);"
      ],
      "metadata": {
        "colab": {
          "base_uri": "https://localhost:8080/",
          "height": 723
        },
        "id": "WAdn4e2dzzhx",
        "outputId": "69861b3d-5ff0-4797-de53-6729e9c0365f"
      },
      "id": "WAdn4e2dzzhx",
      "execution_count": null,
      "outputs": [
        {
          "output_type": "display_data",
          "data": {
            "text/plain": [
              "<Figure size 864x864 with 1 Axes>"
            ],
            "image/png": "[encoded data removed]"
          },
          "metadata": {
            "needs_background": "light"
          }
        }
      ]
    },
    {
      "cell_type": "markdown",
      "source": [
        "**Conclusion**\n",
        "\n",
        "On constate que dans tous les 3 test le score de précison du Naïve Bayes est le plus elevé des 3 modèles.\n",
        "En modifiant certains paramètres au niveau du percepron multicouche(nombre d'itérations on se retrouve avec de meilleurs résultats de précision.\n",
        "\n",
        "Néanmoins tous nos scores de précisions sont inférieurs à 0.5, ce qui implique que nous avons beaucoup de faux positifs en général dans avec nos modèles"
      ],
      "metadata": {
        "id": "3SUfQll14boY"
      },
      "id": "3SUfQll14boY"
    },
    {
      "cell_type": "code",
      "source": [
        "#Y2 (\"Writing\") precision and recall score comparaison\n",
        "y2_t = {\"precisionNB\":precision_genNB(y2_test_1,y2_pred_NB,y2_pred_NB_2,y2_pred_NB_3),\n",
        "                      \"precisionRL\" :precision_genRL(y2_test_1,y2_pred_RL,y2_pred_RL_2,y2_pred_RL_3),\n",
        "         \"precisionMLP\":precision_genMLP(y2_test_1,y2_pred_MLP,y2_pred_MLP_2,y2_pred_MLP_3)}\n",
        "index = [\"Test 1\",\"Test 2\",\"Test 3\"]\n",
        "df_y2_t = pd.DataFrame(y2_t,index=index)\n",
        "\n",
        "df_y2_t.plot.bar(figsize=(12,12),rot = 15 ,title = \"Score de precision et de rappel en fonction du model\")\n",
        "plt.show(block=True);"
      ],
      "metadata": {
        "colab": {
          "base_uri": "https://localhost:8080/"
        },
        "id": "R5_QEykG01sk",
        "outputId": "9acae714-3953-4191-aa44-a1069a7ed13e"
      },
      "id": "R5_QEykG01sk",
      "execution_count": null,
      "outputs": [
        {
          "output_type": "display_data",
          "data": {
            "text/plain": [
              "<Figure size 864x864 with 1 Axes>"
            ],
            "image/png": "[encoded data removed]"
          },
          "metadata": {
            "needs_background": "light"
          }
        }
      ]
    },
    {
      "cell_type": "markdown",
      "source": [
        "**Conclusion**\n",
        "\n",
        "Pour la classification du niveau d'écriture, on se rend compte que le naïves bayes a toujours ke plus haut score surtout au niveau de la série de test 3 où nous avons modifié la valeur de alpha de 1.0 à 5.0\n",
        "\n",
        "Nos valeurs ici sont toujours inférieurs à 0.5, ce qui nous montre que nous avons beaucoup de faux positifs également"
      ],
      "metadata": {
        "id": "CuhveBnI5GRF"
      },
      "id": "CuhveBnI5GRF"
    },
    {
      "cell_type": "markdown",
      "source": [
        "#### Score de rappel"
      ],
      "metadata": {
        "id": "XqNOfocF5s-v"
      },
      "id": "XqNOfocF5s-v"
    },
    {
      "cell_type": "code",
      "source": [
        "#Y1 (\"Reading\")  recall score comparaison\n",
        "y1_t1 = {\"recallNB\":recall_genNB(y1_test_1,y1_pred_NB,y1_pred_NB_2,y1_pred_NB_3),\n",
        "                      \"recallRL\" :recall_genRL(y1_test_1,y1_pred_RL,y1_pred_RL_2,y1_pred_RL_3),\n",
        "         \"recallMLP\":recall_genMLP(y1_test_1,y1_pred_MLP,y1_pred_MLP_2,y1_pred_MLP_3)}\n",
        "index = [\"Test 1\",\"Test 2\",\"Test 3\"]\n",
        "df_y1_t1 = pd.DataFrame(y1_t1,index=index)\n",
        "\n",
        "df_y1_t1.plot.bar(figsize=(12,12),rot = 15 ,title = \"Score de precision et de rappel en fonction du model\")\n",
        "plt.show(block=True);"
      ],
      "metadata": {
        "colab": {
          "base_uri": "https://localhost:8080/",
          "height": 723
        },
        "id": "VOSNnWg95vp-",
        "outputId": "3446d6fc-72fa-434c-a050-b874f4231203"
      },
      "id": "VOSNnWg95vp-",
      "execution_count": null,
      "outputs": [
        {
          "output_type": "display_data",
          "data": {
            "text/plain": [
              "<Figure size 864x864 with 1 Axes>"
            ],
            "image/png": "[encoded data removed]"
          },
          "metadata": {
            "needs_background": "light"
          }
        }
      ]
    },
    {
      "cell_type": "markdown",
      "source": [
        "**Conclusion**\n",
        "\n",
        "Le score  de rappel du MLP est le meilleur dans chacun de nos test. Les scores de rappel du Naive Bayes et de a Regression Logistique sont très proches et les différences sont minimes.\n",
        "\n",
        "Nos scores de rappel sont inférieurs à 0.5, ce qui montre que nous avons beaucoup de faux négatifs dans les 3 cas. Mais nous en avons moins que les autres avec le perceptron multicouche"
      ],
      "metadata": {
        "id": "A6ficMoW6ILX"
      },
      "id": "A6ficMoW6ILX"
    },
    {
      "cell_type": "markdown",
      "source": [
        "### Exemples de faux négatifs"
      ],
      "metadata": {
        "id": "jP-1V82ojfMu"
      },
      "id": "jP-1V82ojfMu"
    },
    {
      "cell_type": "code",
      "source": [
        "def gold_standard_prediction(gold_standard,predicted) :\n",
        "  gold_s = np.array(gold_standard)\n",
        "  data = []\n",
        "  for i in range(0,len(gold_standard)):\n",
        "    data.append([gold_s[i],predicted[i]])\n",
        "  \n",
        "  df = pd.DataFrame(data=data, columns=[\"Gold Standard\",\"Predicted\"])\n",
        "  return df"
      ],
      "metadata": {
        "id": "wl1rmo6_zyS7"
      },
      "id": "wl1rmo6_zyS7",
      "execution_count": null,
      "outputs": []
    },
    {
      "cell_type": "markdown",
      "source": [
        "###### **Exemple pour le Naives Bayes du test 1**"
      ],
      "metadata": {
        "id": "TRLXHkHrBJEz"
      },
      "id": "TRLXHkHrBJEz"
    },
    {
      "cell_type": "code",
      "source": [
        "display(gold_standard_prediction(y1_test_1,y1_pred_NB))"
      ],
      "metadata": {
        "colab": {
          "base_uri": "https://localhost:8080/",
          "height": 424
        },
        "id": "QA5MccTMIl5S",
        "outputId": "e6a65634-71e8-42cf-f315-58d6b837edc8"
      },
      "id": "QA5MccTMIl5S",
      "execution_count": null,
      "outputs": [
        {
          "output_type": "display_data",
          "data": {
            "text/plain": [
              "     Gold Standard  Predicted\n",
              "0                2          2\n",
              "1                2          2\n",
              "2                1          2\n",
              "3                1          2\n",
              "4                3          3\n",
              "..             ...        ...\n",
              "328              2          2\n",
              "329              3          2\n",
              "330              1          2\n",
              "331              0          2\n",
              "332              2          0\n",
              "\n",
              "[333 rows x 2 columns]"
            ],
            "text/html": [
              "\n",
              "  <div id=\"df-29bf3434-17aa-46db-a705-69c08b4e2d82\">\n",
              "    <div class=\"colab-df-container\">\n",
              "      <div>\n",
              "<style scoped>\n",
              "    .dataframe tbody tr th:only-of-type {\n",
              "        vertical-align: middle;\n",
              "    }\n",
              "\n",
              "    .dataframe tbody tr th {\n",
              "        vertical-align: top;\n",
              "    }\n",
              "\n",
              "    .dataframe thead th {\n",
              "        text-align: right;\n",
              "    }\n",
              "</style>\n",
              "<table border=\"1\" class=\"dataframe\">\n",
              "  <thead>\n",
              "    <tr style=\"text-align: right;\">\n",
              "      <th></th>\n",
              "      <th>Gold Standard</th>\n",
              "      <th>Predicted</th>\n",
              "    </tr>\n",
              "  </thead>\n",
              "  <tbody>\n",
              "    <tr>\n",
              "      <th>0</th>\n",
              "      <td>2</td>\n",
              "      <td>2</td>\n",
              "    </tr>\n",
              "    <tr>\n",
              "      <th>1</th>\n",
              "      <td>2</td>\n",
              "      <td>2</td>\n",
              "    </tr>\n",
              "    <tr>\n",
              "      <th>2</th>\n",
              "      <td>1</td>\n",
              "      <td>2</td>\n",
              "    </tr>\n",
              "    <tr>\n",
              "      <th>3</th>\n",
              "      <td>1</td>\n",
              "      <td>2</td>\n",
              "    </tr>\n",
              "    <tr>\n",
              "      <th>4</th>\n",
              "      <td>3</td>\n",
              "      <td>3</td>\n",
              "    </tr>\n",
              "    <tr>\n",
              "      <th>...</th>\n",
              "      <td>...</td>\n",
              "      <td>...</td>\n",
              "    </tr>\n",
              "    <tr>\n",
              "      <th>328</th>\n",
              "      <td>2</td>\n",
              "      <td>2</td>\n",
              "    </tr>\n",
              "    <tr>\n",
              "      <th>329</th>\n",
              "      <td>3</td>\n",
              "      <td>2</td>\n",
              "    </tr>\n",
              "    <tr>\n",
              "      <th>330</th>\n",
              "      <td>1</td>\n",
              "      <td>2</td>\n",
              "    </tr>\n",
              "    <tr>\n",
              "      <th>331</th>\n",
              "      <td>0</td>\n",
              "      <td>2</td>\n",
              "    </tr>\n",
              "    <tr>\n",
              "      <th>332</th>\n",
              "      <td>2</td>\n",
              "      <td>0</td>\n",
              "    </tr>\n",
              "  </tbody>\n",
              "</table>\n",
              "<p>333 rows × 2 columns</p>\n",
              "</div>\n",
              "      <button class=\"colab-df-convert\" onclick=\"convertToInteractive('df-29bf3434-17aa-46db-a705-69c08b4e2d82')\"\n",
              "              title=\"Convert this dataframe to an interactive table.\"\n",
              "              style=\"display:none;\">\n",
              "        \n",
              "  <svg xmlns=\"http://www.w3.org/2000/svg\" height=\"24px\"viewBox=\"0 0 24 24\"\n",
              "       width=\"24px\">\n",
              "    <path d=\"M0 0h24v24H0V0z\" fill=\"none\"/>\n",
              "    <path d=\"M18.56 5.44l.94 2.06.94-2.06 2.06-.94-2.06-.94-.94-2.06-.94 2.06-2.06.94zm-11 1L8.5 8.5l.94-2.06 2.06-.94-2.06-.94L8.5 2.5l-.94 2.06-2.06.94zm10 10l.94 2.06.94-2.06 2.06-.94-2.06-.94-.94-2.06-.94 2.06-2.06.94z\"/><path d=\"M17.41 7.96l-1.37-1.37c-.4-.4-.92-.59-1.43-.59-.52 0-1.04.2-1.43.59L10.3 9.45l-7.72 7.72c-.78.78-.78 2.05 0 2.83L4 21.41c.39.39.9.59 1.41.59.51 0 1.02-.2 1.41-.59l7.78-7.78 2.81-2.81c.8-.78.8-2.07 0-2.86zM5.41 20L4 18.59l7.72-7.72 1.47 1.35L5.41 20z\"/>\n",
              "  </svg>\n",
              "      </button>\n",
              "      \n",
              "  <style>\n",
              "    .colab-df-container {\n",
              "      display:flex;\n",
              "      flex-wrap:wrap;\n",
              "      gap: 12px;\n",
              "    }\n",
              "\n",
              "    .colab-df-convert {\n",
              "      background-color: #E8F0FE;\n",
              "      border: none;\n",
              "      border-radius: 50%;\n",
              "      cursor: pointer;\n",
              "      display: none;\n",
              "      fill: #1967D2;\n",
              "      height: 32px;\n",
              "      padding: 0 0 0 0;\n",
              "      width: 32px;\n",
              "    }\n",
              "\n",
              "    .colab-df-convert:hover {\n",
              "      background-color: #E2EBFA;\n",
              "      box-shadow: 0px 1px 2px rgba(60, 64, 67, 0.3), 0px 1px 3px 1px rgba(60, 64, 67, 0.15);\n",
              "      fill: #174EA6;\n",
              "    }\n",
              "\n",
              "    [theme=dark] .colab-df-convert {\n",
              "      background-color: #3B4455;\n",
              "      fill: #D2E3FC;\n",
              "    }\n",
              "\n",
              "    [theme=dark] .colab-df-convert:hover {\n",
              "      background-color: #434B5C;\n",
              "      box-shadow: 0px 1px 3px 1px rgba(0, 0, 0, 0.15);\n",
              "      filter: drop-shadow(0px 1px 2px rgba(0, 0, 0, 0.3));\n",
              "      fill: #FFFFFF;\n",
              "    }\n",
              "  </style>\n",
              "\n",
              "      <script>\n",
              "        const buttonEl =\n",
              "          document.querySelector('#df-29bf3434-17aa-46db-a705-69c08b4e2d82 button.colab-df-convert');\n",
              "        buttonEl.style.display =\n",
              "          google.colab.kernel.accessAllowed ? 'block' : 'none';\n",
              "\n",
              "        async function convertToInteractive(key) {\n",
              "          const element = document.querySelector('#df-29bf3434-17aa-46db-a705-69c08b4e2d82');\n",
              "          const dataTable =\n",
              "            await google.colab.kernel.invokeFunction('convertToInteractive',\n",
              "                                                     [key], {});\n",
              "          if (!dataTable) return;\n",
              "\n",
              "          const docLinkHtml = 'Like what you see? Visit the ' +\n",
              "            '<a target=\"_blank\" href=https://colab.research.google.com/notebooks/data_table.ipynb>data table notebook</a>'\n",
              "            + ' to learn more about interactive tables.';\n",
              "          element.innerHTML = '';\n",
              "          dataTable['output_type'] = 'display_data';\n",
              "          await google.colab.output.renderOutput(dataTable, element);\n",
              "          const docLink = document.createElement('div');\n",
              "          docLink.innerHTML = docLinkHtml;\n",
              "          element.appendChild(docLink);\n",
              "        }\n",
              "      </script>\n",
              "    </div>\n",
              "  </div>\n",
              "  "
            ]
          },
          "metadata": {}
        }
      ]
    },
    {
      "cell_type": "markdown",
      "source": [
        "* Quelques exemples de faux positifs sur la classe 0 : Faux positif indexe 34 dans le tableau ci-dessus \n",
        "\n",
        "* Quelques exemples de faux négatifs sur la classe 0 : Faux négatif a l'indexe 23 du tableau ci-dessus"
      ],
      "metadata": {
        "id": "NcE_e9Sc_dnw"
      },
      "id": "NcE_e9Sc_dnw"
    },
    {
      "cell_type": "markdown",
      "source": [
        "###### **Exemple pour la Regression Logistique du test 1**"
      ],
      "metadata": {
        "id": "GEXNrII7BZD_"
      },
      "id": "GEXNrII7BZD_"
    },
    {
      "cell_type": "code",
      "source": [
        "display(gold_standard_prediction(y1_test_1,y1_pred_RL))"
      ],
      "metadata": {
        "colab": {
          "base_uri": "https://localhost:8080/",
          "height": 424
        },
        "id": "Eu3fizPlJBJv",
        "outputId": "0a1ad431-bd93-42d7-8d06-1739977a0ada"
      },
      "id": "Eu3fizPlJBJv",
      "execution_count": null,
      "outputs": [
        {
          "output_type": "display_data",
          "data": {
            "text/plain": [
              "     Gold Standard  Predicted\n",
              "0                2          1\n",
              "1                2          2\n",
              "2                1          2\n",
              "3                1          2\n",
              "4                3          3\n",
              "..             ...        ...\n",
              "328              2          2\n",
              "329              3          2\n",
              "330              1          2\n",
              "331              0          2\n",
              "332              2          3\n",
              "\n",
              "[333 rows x 2 columns]"
            ],
            "text/html": [
              "\n",
              "  <div id=\"df-88b9426b-0013-4d0a-bc95-a7f9cb51e131\">\n",
              "    <div class=\"colab-df-container\">\n",
              "      <div>\n",
              "<style scoped>\n",
              "    .dataframe tbody tr th:only-of-type {\n",
              "        vertical-align: middle;\n",
              "    }\n",
              "\n",
              "    .dataframe tbody tr th {\n",
              "        vertical-align: top;\n",
              "    }\n",
              "\n",
              "    .dataframe thead th {\n",
              "        text-align: right;\n",
              "    }\n",
              "</style>\n",
              "<table border=\"1\" class=\"dataframe\">\n",
              "  <thead>\n",
              "    <tr style=\"text-align: right;\">\n",
              "      <th></th>\n",
              "      <th>Gold Standard</th>\n",
              "      <th>Predicted</th>\n",
              "    </tr>\n",
              "  </thead>\n",
              "  <tbody>\n",
              "    <tr>\n",
              "      <th>0</th>\n",
              "      <td>2</td>\n",
              "      <td>1</td>\n",
              "    </tr>\n",
              "    <tr>\n",
              "      <th>1</th>\n",
              "      <td>2</td>\n",
              "      <td>2</td>\n",
              "    </tr>\n",
              "    <tr>\n",
              "      <th>2</th>\n",
              "      <td>1</td>\n",
              "      <td>2</td>\n",
              "    </tr>\n",
              "    <tr>\n",
              "      <th>3</th>\n",
              "      <td>1</td>\n",
              "      <td>2</td>\n",
              "    </tr>\n",
              "    <tr>\n",
              "      <th>4</th>\n",
              "      <td>3</td>\n",
              "      <td>3</td>\n",
              "    </tr>\n",
              "    <tr>\n",
              "      <th>...</th>\n",
              "      <td>...</td>\n",
              "      <td>...</td>\n",
              "    </tr>\n",
              "    <tr>\n",
              "      <th>328</th>\n",
              "      <td>2</td>\n",
              "      <td>2</td>\n",
              "    </tr>\n",
              "    <tr>\n",
              "      <th>329</th>\n",
              "      <td>3</td>\n",
              "      <td>2</td>\n",
              "    </tr>\n",
              "    <tr>\n",
              "      <th>330</th>\n",
              "      <td>1</td>\n",
              "      <td>2</td>\n",
              "    </tr>\n",
              "    <tr>\n",
              "      <th>331</th>\n",
              "      <td>0</td>\n",
              "      <td>2</td>\n",
              "    </tr>\n",
              "    <tr>\n",
              "      <th>332</th>\n",
              "      <td>2</td>\n",
              "      <td>3</td>\n",
              "    </tr>\n",
              "  </tbody>\n",
              "</table>\n",
              "<p>333 rows × 2 columns</p>\n",
              "</div>\n",
              "      <button class=\"colab-df-convert\" onclick=\"convertToInteractive('df-88b9426b-0013-4d0a-bc95-a7f9cb51e131')\"\n",
              "              title=\"Convert this dataframe to an interactive table.\"\n",
              "              style=\"display:none;\">\n",
              "        \n",
              "  <svg xmlns=\"http://www.w3.org/2000/svg\" height=\"24px\"viewBox=\"0 0 24 24\"\n",
              "       width=\"24px\">\n",
              "    <path d=\"M0 0h24v24H0V0z\" fill=\"none\"/>\n",
              "    <path d=\"M18.56 5.44l.94 2.06.94-2.06 2.06-.94-2.06-.94-.94-2.06-.94 2.06-2.06.94zm-11 1L8.5 8.5l.94-2.06 2.06-.94-2.06-.94L8.5 2.5l-.94 2.06-2.06.94zm10 10l.94 2.06.94-2.06 2.06-.94-2.06-.94-.94-2.06-.94 2.06-2.06.94z\"/><path d=\"M17.41 7.96l-1.37-1.37c-.4-.4-.92-.59-1.43-.59-.52 0-1.04.2-1.43.59L10.3 9.45l-7.72 7.72c-.78.78-.78 2.05 0 2.83L4 21.41c.39.39.9.59 1.41.59.51 0 1.02-.2 1.41-.59l7.78-7.78 2.81-2.81c.8-.78.8-2.07 0-2.86zM5.41 20L4 18.59l7.72-7.72 1.47 1.35L5.41 20z\"/>\n",
              "  </svg>\n",
              "      </button>\n",
              "      \n",
              "  <style>\n",
              "    .colab-df-container {\n",
              "      display:flex;\n",
              "      flex-wrap:wrap;\n",
              "      gap: 12px;\n",
              "    }\n",
              "\n",
              "    .colab-df-convert {\n",
              "      background-color: #E8F0FE;\n",
              "      border: none;\n",
              "      border-radius: 50%;\n",
              "      cursor: pointer;\n",
              "      display: none;\n",
              "      fill: #1967D2;\n",
              "      height: 32px;\n",
              "      padding: 0 0 0 0;\n",
              "      width: 32px;\n",
              "    }\n",
              "\n",
              "    .colab-df-convert:hover {\n",
              "      background-color: #E2EBFA;\n",
              "      box-shadow: 0px 1px 2px rgba(60, 64, 67, 0.3), 0px 1px 3px 1px rgba(60, 64, 67, 0.15);\n",
              "      fill: #174EA6;\n",
              "    }\n",
              "\n",
              "    [theme=dark] .colab-df-convert {\n",
              "      background-color: #3B4455;\n",
              "      fill: #D2E3FC;\n",
              "    }\n",
              "\n",
              "    [theme=dark] .colab-df-convert:hover {\n",
              "      background-color: #434B5C;\n",
              "      box-shadow: 0px 1px 3px 1px rgba(0, 0, 0, 0.15);\n",
              "      filter: drop-shadow(0px 1px 2px rgba(0, 0, 0, 0.3));\n",
              "      fill: #FFFFFF;\n",
              "    }\n",
              "  </style>\n",
              "\n",
              "      <script>\n",
              "        const buttonEl =\n",
              "          document.querySelector('#df-88b9426b-0013-4d0a-bc95-a7f9cb51e131 button.colab-df-convert');\n",
              "        buttonEl.style.display =\n",
              "          google.colab.kernel.accessAllowed ? 'block' : 'none';\n",
              "\n",
              "        async function convertToInteractive(key) {\n",
              "          const element = document.querySelector('#df-88b9426b-0013-4d0a-bc95-a7f9cb51e131');\n",
              "          const dataTable =\n",
              "            await google.colab.kernel.invokeFunction('convertToInteractive',\n",
              "                                                     [key], {});\n",
              "          if (!dataTable) return;\n",
              "\n",
              "          const docLinkHtml = 'Like what you see? Visit the ' +\n",
              "            '<a target=\"_blank\" href=https://colab.research.google.com/notebooks/data_table.ipynb>data table notebook</a>'\n",
              "            + ' to learn more about interactive tables.';\n",
              "          element.innerHTML = '';\n",
              "          dataTable['output_type'] = 'display_data';\n",
              "          await google.colab.output.renderOutput(dataTable, element);\n",
              "          const docLink = document.createElement('div');\n",
              "          docLink.innerHTML = docLinkHtml;\n",
              "          element.appendChild(docLink);\n",
              "        }\n",
              "      </script>\n",
              "    </div>\n",
              "  </div>\n",
              "  "
            ]
          },
          "metadata": {}
        }
      ]
    },
    {
      "cell_type": "markdown",
      "source": [
        "\n",
        "* Quelques exemples de faux positifs sur la classe 3: Index 20\n",
        "\n",
        "* Quelques exemples de faux négatif sur la classe 3 : Index 23 et 24."
      ],
      "metadata": {
        "id": "wWe-a25iIzO3"
      },
      "id": "wWe-a25iIzO3"
    },
    {
      "cell_type": "markdown",
      "source": [
        "###### **Exemple pour le Perceptron Multicouche du test 1**\n"
      ],
      "metadata": {
        "id": "P3uNDg_xCXC4"
      },
      "id": "P3uNDg_xCXC4"
    },
    {
      "cell_type": "code",
      "source": [
        "display(gold_standard_prediction(y1_test_1,y1_pred_MLP))"
      ],
      "metadata": {
        "colab": {
          "base_uri": "https://localhost:8080/",
          "height": 424
        },
        "id": "AoEscpKJJUEK",
        "outputId": "8e0d9194-6972-4219-a00a-07601abc89c9"
      },
      "id": "AoEscpKJJUEK",
      "execution_count": null,
      "outputs": [
        {
          "output_type": "display_data",
          "data": {
            "text/plain": [
              "     Gold Standard  Predicted\n",
              "0                2          2\n",
              "1                2          0\n",
              "2                1          2\n",
              "3                1          2\n",
              "4                3          3\n",
              "..             ...        ...\n",
              "328              2          2\n",
              "329              3          0\n",
              "330              1          2\n",
              "331              0          2\n",
              "332              2          3\n",
              "\n",
              "[333 rows x 2 columns]"
            ],
            "text/html": [
              "\n",
              "  <div id=\"df-54461f29-794c-418f-9d40-2aff9f730694\">\n",
              "    <div class=\"colab-df-container\">\n",
              "      <div>\n",
              "<style scoped>\n",
              "    .dataframe tbody tr th:only-of-type {\n",
              "        vertical-align: middle;\n",
              "    }\n",
              "\n",
              "    .dataframe tbody tr th {\n",
              "        vertical-align: top;\n",
              "    }\n",
              "\n",
              "    .dataframe thead th {\n",
              "        text-align: right;\n",
              "    }\n",
              "</style>\n",
              "<table border=\"1\" class=\"dataframe\">\n",
              "  <thead>\n",
              "    <tr style=\"text-align: right;\">\n",
              "      <th></th>\n",
              "      <th>Gold Standard</th>\n",
              "      <th>Predicted</th>\n",
              "    </tr>\n",
              "  </thead>\n",
              "  <tbody>\n",
              "    <tr>\n",
              "      <th>0</th>\n",
              "      <td>2</td>\n",
              "      <td>2</td>\n",
              "    </tr>\n",
              "    <tr>\n",
              "      <th>1</th>\n",
              "      <td>2</td>\n",
              "      <td>0</td>\n",
              "    </tr>\n",
              "    <tr>\n",
              "      <th>2</th>\n",
              "      <td>1</td>\n",
              "      <td>2</td>\n",
              "    </tr>\n",
              "    <tr>\n",
              "      <th>3</th>\n",
              "      <td>1</td>\n",
              "      <td>2</td>\n",
              "    </tr>\n",
              "    <tr>\n",
              "      <th>4</th>\n",
              "      <td>3</td>\n",
              "      <td>3</td>\n",
              "    </tr>\n",
              "    <tr>\n",
              "      <th>...</th>\n",
              "      <td>...</td>\n",
              "      <td>...</td>\n",
              "    </tr>\n",
              "    <tr>\n",
              "      <th>328</th>\n",
              "      <td>2</td>\n",
              "      <td>2</td>\n",
              "    </tr>\n",
              "    <tr>\n",
              "      <th>329</th>\n",
              "      <td>3</td>\n",
              "      <td>0</td>\n",
              "    </tr>\n",
              "    <tr>\n",
              "      <th>330</th>\n",
              "      <td>1</td>\n",
              "      <td>2</td>\n",
              "    </tr>\n",
              "    <tr>\n",
              "      <th>331</th>\n",
              "      <td>0</td>\n",
              "      <td>2</td>\n",
              "    </tr>\n",
              "    <tr>\n",
              "      <th>332</th>\n",
              "      <td>2</td>\n",
              "      <td>3</td>\n",
              "    </tr>\n",
              "  </tbody>\n",
              "</table>\n",
              "<p>333 rows × 2 columns</p>\n",
              "</div>\n",
              "      <button class=\"colab-df-convert\" onclick=\"convertToInteractive('df-54461f29-794c-418f-9d40-2aff9f730694')\"\n",
              "              title=\"Convert this dataframe to an interactive table.\"\n",
              "              style=\"display:none;\">\n",
              "        \n",
              "  <svg xmlns=\"http://www.w3.org/2000/svg\" height=\"24px\"viewBox=\"0 0 24 24\"\n",
              "       width=\"24px\">\n",
              "    <path d=\"M0 0h24v24H0V0z\" fill=\"none\"/>\n",
              "    <path d=\"M18.56 5.44l.94 2.06.94-2.06 2.06-.94-2.06-.94-.94-2.06-.94 2.06-2.06.94zm-11 1L8.5 8.5l.94-2.06 2.06-.94-2.06-.94L8.5 2.5l-.94 2.06-2.06.94zm10 10l.94 2.06.94-2.06 2.06-.94-2.06-.94-.94-2.06-.94 2.06-2.06.94z\"/><path d=\"M17.41 7.96l-1.37-1.37c-.4-.4-.92-.59-1.43-.59-.52 0-1.04.2-1.43.59L10.3 9.45l-7.72 7.72c-.78.78-.78 2.05 0 2.83L4 21.41c.39.39.9.59 1.41.59.51 0 1.02-.2 1.41-.59l7.78-7.78 2.81-2.81c.8-.78.8-2.07 0-2.86zM5.41 20L4 18.59l7.72-7.72 1.47 1.35L5.41 20z\"/>\n",
              "  </svg>\n",
              "      </button>\n",
              "      \n",
              "  <style>\n",
              "    .colab-df-container {\n",
              "      display:flex;\n",
              "      flex-wrap:wrap;\n",
              "      gap: 12px;\n",
              "    }\n",
              "\n",
              "    .colab-df-convert {\n",
              "      background-color: #E8F0FE;\n",
              "      border: none;\n",
              "      border-radius: 50%;\n",
              "      cursor: pointer;\n",
              "      display: none;\n",
              "      fill: #1967D2;\n",
              "      height: 32px;\n",
              "      padding: 0 0 0 0;\n",
              "      width: 32px;\n",
              "    }\n",
              "\n",
              "    .colab-df-convert:hover {\n",
              "      background-color: #E2EBFA;\n",
              "      box-shadow: 0px 1px 2px rgba(60, 64, 67, 0.3), 0px 1px 3px 1px rgba(60, 64, 67, 0.15);\n",
              "      fill: #174EA6;\n",
              "    }\n",
              "\n",
              "    [theme=dark] .colab-df-convert {\n",
              "      background-color: #3B4455;\n",
              "      fill: #D2E3FC;\n",
              "    }\n",
              "\n",
              "    [theme=dark] .colab-df-convert:hover {\n",
              "      background-color: #434B5C;\n",
              "      box-shadow: 0px 1px 3px 1px rgba(0, 0, 0, 0.15);\n",
              "      filter: drop-shadow(0px 1px 2px rgba(0, 0, 0, 0.3));\n",
              "      fill: #FFFFFF;\n",
              "    }\n",
              "  </style>\n",
              "\n",
              "      <script>\n",
              "        const buttonEl =\n",
              "          document.querySelector('#df-54461f29-794c-418f-9d40-2aff9f730694 button.colab-df-convert');\n",
              "        buttonEl.style.display =\n",
              "          google.colab.kernel.accessAllowed ? 'block' : 'none';\n",
              "\n",
              "        async function convertToInteractive(key) {\n",
              "          const element = document.querySelector('#df-54461f29-794c-418f-9d40-2aff9f730694');\n",
              "          const dataTable =\n",
              "            await google.colab.kernel.invokeFunction('convertToInteractive',\n",
              "                                                     [key], {});\n",
              "          if (!dataTable) return;\n",
              "\n",
              "          const docLinkHtml = 'Like what you see? Visit the ' +\n",
              "            '<a target=\"_blank\" href=https://colab.research.google.com/notebooks/data_table.ipynb>data table notebook</a>'\n",
              "            + ' to learn more about interactive tables.';\n",
              "          element.innerHTML = '';\n",
              "          dataTable['output_type'] = 'display_data';\n",
              "          await google.colab.output.renderOutput(dataTable, element);\n",
              "          const docLink = document.createElement('div');\n",
              "          docLink.innerHTML = docLinkHtml;\n",
              "          element.appendChild(docLink);\n",
              "        }\n",
              "      </script>\n",
              "    </div>\n",
              "  </div>\n",
              "  "
            ]
          },
          "metadata": {}
        }
      ]
    },
    {
      "cell_type": "markdown",
      "source": [
        " * Quelques exemples de faux positif sur la classe 2 : Index 17\n",
        "\n",
        " * Quelques exemples de faux négatif sur la classe 2: Index 0"
      ],
      "metadata": {
        "id": "knqPJKeXJTVo"
      },
      "id": "knqPJKeXJTVo"
    },
    {
      "cell_type": "markdown",
      "source": [
        "###### **Exemple pour le Naive Bayes du test 2**"
      ],
      "metadata": {
        "id": "XWd0R139LL4N"
      },
      "id": "XWd0R139LL4N"
    },
    {
      "cell_type": "code",
      "source": [
        "display(gold_standard_prediction(y1_test_1,y2_pred_NB_2))"
      ],
      "metadata": {
        "colab": {
          "base_uri": "https://localhost:8080/",
          "height": 424
        },
        "id": "My1m35o8DmGc",
        "outputId": "47377652-fa30-4fe8-eb61-f2244d488509"
      },
      "id": "My1m35o8DmGc",
      "execution_count": null,
      "outputs": [
        {
          "output_type": "display_data",
          "data": {
            "text/plain": [
              "     Gold Standard  Predicted\n",
              "0                2          1\n",
              "1                2          2\n",
              "2                1          2\n",
              "3                1          2\n",
              "4                3          3\n",
              "..             ...        ...\n",
              "328              2          2\n",
              "329              3          2\n",
              "330              1          2\n",
              "331              0          2\n",
              "332              2          0\n",
              "\n",
              "[333 rows x 2 columns]"
            ],
            "text/html": [
              "\n",
              "  <div id=\"df-a2edeaf4-4210-4c5a-b816-db1a3df4015a\">\n",
              "    <div class=\"colab-df-container\">\n",
              "      <div>\n",
              "<style scoped>\n",
              "    .dataframe tbody tr th:only-of-type {\n",
              "        vertical-align: middle;\n",
              "    }\n",
              "\n",
              "    .dataframe tbody tr th {\n",
              "        vertical-align: top;\n",
              "    }\n",
              "\n",
              "    .dataframe thead th {\n",
              "        text-align: right;\n",
              "    }\n",
              "</style>\n",
              "<table border=\"1\" class=\"dataframe\">\n",
              "  <thead>\n",
              "    <tr style=\"text-align: right;\">\n",
              "      <th></th>\n",
              "      <th>Gold Standard</th>\n",
              "      <th>Predicted</th>\n",
              "    </tr>\n",
              "  </thead>\n",
              "  <tbody>\n",
              "    <tr>\n",
              "      <th>0</th>\n",
              "      <td>2</td>\n",
              "      <td>1</td>\n",
              "    </tr>\n",
              "    <tr>\n",
              "      <th>1</th>\n",
              "      <td>2</td>\n",
              "      <td>2</td>\n",
              "    </tr>\n",
              "    <tr>\n",
              "      <th>2</th>\n",
              "      <td>1</td>\n",
              "      <td>2</td>\n",
              "    </tr>\n",
              "    <tr>\n",
              "      <th>3</th>\n",
              "      <td>1</td>\n",
              "      <td>2</td>\n",
              "    </tr>\n",
              "    <tr>\n",
              "      <th>4</th>\n",
              "      <td>3</td>\n",
              "      <td>3</td>\n",
              "    </tr>\n",
              "    <tr>\n",
              "      <th>...</th>\n",
              "      <td>...</td>\n",
              "      <td>...</td>\n",
              "    </tr>\n",
              "    <tr>\n",
              "      <th>328</th>\n",
              "      <td>2</td>\n",
              "      <td>2</td>\n",
              "    </tr>\n",
              "    <tr>\n",
              "      <th>329</th>\n",
              "      <td>3</td>\n",
              "      <td>2</td>\n",
              "    </tr>\n",
              "    <tr>\n",
              "      <th>330</th>\n",
              "      <td>1</td>\n",
              "      <td>2</td>\n",
              "    </tr>\n",
              "    <tr>\n",
              "      <th>331</th>\n",
              "      <td>0</td>\n",
              "      <td>2</td>\n",
              "    </tr>\n",
              "    <tr>\n",
              "      <th>332</th>\n",
              "      <td>2</td>\n",
              "      <td>0</td>\n",
              "    </tr>\n",
              "  </tbody>\n",
              "</table>\n",
              "<p>333 rows × 2 columns</p>\n",
              "</div>\n",
              "      <button class=\"colab-df-convert\" onclick=\"convertToInteractive('df-a2edeaf4-4210-4c5a-b816-db1a3df4015a')\"\n",
              "              title=\"Convert this dataframe to an interactive table.\"\n",
              "              style=\"display:none;\">\n",
              "        \n",
              "  <svg xmlns=\"http://www.w3.org/2000/svg\" height=\"24px\"viewBox=\"0 0 24 24\"\n",
              "       width=\"24px\">\n",
              "    <path d=\"M0 0h24v24H0V0z\" fill=\"none\"/>\n",
              "    <path d=\"M18.56 5.44l.94 2.06.94-2.06 2.06-.94-2.06-.94-.94-2.06-.94 2.06-2.06.94zm-11 1L8.5 8.5l.94-2.06 2.06-.94-2.06-.94L8.5 2.5l-.94 2.06-2.06.94zm10 10l.94 2.06.94-2.06 2.06-.94-2.06-.94-.94-2.06-.94 2.06-2.06.94z\"/><path d=\"M17.41 7.96l-1.37-1.37c-.4-.4-.92-.59-1.43-.59-.52 0-1.04.2-1.43.59L10.3 9.45l-7.72 7.72c-.78.78-.78 2.05 0 2.83L4 21.41c.39.39.9.59 1.41.59.51 0 1.02-.2 1.41-.59l7.78-7.78 2.81-2.81c.8-.78.8-2.07 0-2.86zM5.41 20L4 18.59l7.72-7.72 1.47 1.35L5.41 20z\"/>\n",
              "  </svg>\n",
              "      </button>\n",
              "      \n",
              "  <style>\n",
              "    .colab-df-container {\n",
              "      display:flex;\n",
              "      flex-wrap:wrap;\n",
              "      gap: 12px;\n",
              "    }\n",
              "\n",
              "    .colab-df-convert {\n",
              "      background-color: #E8F0FE;\n",
              "      border: none;\n",
              "      border-radius: 50%;\n",
              "      cursor: pointer;\n",
              "      display: none;\n",
              "      fill: #1967D2;\n",
              "      height: 32px;\n",
              "      padding: 0 0 0 0;\n",
              "      width: 32px;\n",
              "    }\n",
              "\n",
              "    .colab-df-convert:hover {\n",
              "      background-color: #E2EBFA;\n",
              "      box-shadow: 0px 1px 2px rgba(60, 64, 67, 0.3), 0px 1px 3px 1px rgba(60, 64, 67, 0.15);\n",
              "      fill: #174EA6;\n",
              "    }\n",
              "\n",
              "    [theme=dark] .colab-df-convert {\n",
              "      background-color: #3B4455;\n",
              "      fill: #D2E3FC;\n",
              "    }\n",
              "\n",
              "    [theme=dark] .colab-df-convert:hover {\n",
              "      background-color: #434B5C;\n",
              "      box-shadow: 0px 1px 3px 1px rgba(0, 0, 0, 0.15);\n",
              "      filter: drop-shadow(0px 1px 2px rgba(0, 0, 0, 0.3));\n",
              "      fill: #FFFFFF;\n",
              "    }\n",
              "  </style>\n",
              "\n",
              "      <script>\n",
              "        const buttonEl =\n",
              "          document.querySelector('#df-a2edeaf4-4210-4c5a-b816-db1a3df4015a button.colab-df-convert');\n",
              "        buttonEl.style.display =\n",
              "          google.colab.kernel.accessAllowed ? 'block' : 'none';\n",
              "\n",
              "        async function convertToInteractive(key) {\n",
              "          const element = document.querySelector('#df-a2edeaf4-4210-4c5a-b816-db1a3df4015a');\n",
              "          const dataTable =\n",
              "            await google.colab.kernel.invokeFunction('convertToInteractive',\n",
              "                                                     [key], {});\n",
              "          if (!dataTable) return;\n",
              "\n",
              "          const docLinkHtml = 'Like what you see? Visit the ' +\n",
              "            '<a target=\"_blank\" href=https://colab.research.google.com/notebooks/data_table.ipynb>data table notebook</a>'\n",
              "            + ' to learn more about interactive tables.';\n",
              "          element.innerHTML = '';\n",
              "          dataTable['output_type'] = 'display_data';\n",
              "          await google.colab.output.renderOutput(dataTable, element);\n",
              "          const docLink = document.createElement('div');\n",
              "          docLink.innerHTML = docLinkHtml;\n",
              "          element.appendChild(docLink);\n",
              "        }\n",
              "      </script>\n",
              "    </div>\n",
              "  </div>\n",
              "  "
            ]
          },
          "metadata": {}
        }
      ]
    },
    {
      "cell_type": "markdown",
      "source": [
        "\n",
        "\n",
        "\n",
        "*   Exemples de faux positifs sur la classe 3  : Index 7\n",
        "*   Exemples de faux négatifs sur la classe 3 : Index 16\n",
        "\n"
      ],
      "metadata": {
        "id": "UWtxNdzuDrdy"
      },
      "id": "UWtxNdzuDrdy"
    },
    {
      "cell_type": "markdown",
      "source": [
        "###### **Exemple pour le perceptron multicouche du test 2**"
      ],
      "metadata": {
        "id": "JhijIzxIGLkj"
      },
      "id": "JhijIzxIGLkj"
    },
    {
      "cell_type": "code",
      "source": [
        "display(gold_standard_prediction(y1_test_1,y1_pred_MLP_2))"
      ],
      "metadata": {
        "colab": {
          "base_uri": "https://localhost:8080/",
          "height": 424
        },
        "id": "KCoDfiXuGItZ",
        "outputId": "c744cf99-3b57-49f1-eb09-410d32a38553"
      },
      "id": "KCoDfiXuGItZ",
      "execution_count": null,
      "outputs": [
        {
          "output_type": "display_data",
          "data": {
            "text/plain": [
              "     Gold Standard  Predicted\n",
              "0                2          2\n",
              "1                2          0\n",
              "2                1          2\n",
              "3                1          2\n",
              "4                3          3\n",
              "..             ...        ...\n",
              "328              2          0\n",
              "329              3          0\n",
              "330              1          2\n",
              "331              0          2\n",
              "332              2          3\n",
              "\n",
              "[333 rows x 2 columns]"
            ],
            "text/html": [
              "\n",
              "  <div id=\"df-1abf32b4-280c-45ef-8c5d-ab4affd2ef4b\">\n",
              "    <div class=\"colab-df-container\">\n",
              "      <div>\n",
              "<style scoped>\n",
              "    .dataframe tbody tr th:only-of-type {\n",
              "        vertical-align: middle;\n",
              "    }\n",
              "\n",
              "    .dataframe tbody tr th {\n",
              "        vertical-align: top;\n",
              "    }\n",
              "\n",
              "    .dataframe thead th {\n",
              "        text-align: right;\n",
              "    }\n",
              "</style>\n",
              "<table border=\"1\" class=\"dataframe\">\n",
              "  <thead>\n",
              "    <tr style=\"text-align: right;\">\n",
              "      <th></th>\n",
              "      <th>Gold Standard</th>\n",
              "      <th>Predicted</th>\n",
              "    </tr>\n",
              "  </thead>\n",
              "  <tbody>\n",
              "    <tr>\n",
              "      <th>0</th>\n",
              "      <td>2</td>\n",
              "      <td>2</td>\n",
              "    </tr>\n",
              "    <tr>\n",
              "      <th>1</th>\n",
              "      <td>2</td>\n",
              "      <td>0</td>\n",
              "    </tr>\n",
              "    <tr>\n",
              "      <th>2</th>\n",
              "      <td>1</td>\n",
              "      <td>2</td>\n",
              "    </tr>\n",
              "    <tr>\n",
              "      <th>3</th>\n",
              "      <td>1</td>\n",
              "      <td>2</td>\n",
              "    </tr>\n",
              "    <tr>\n",
              "      <th>4</th>\n",
              "      <td>3</td>\n",
              "      <td>3</td>\n",
              "    </tr>\n",
              "    <tr>\n",
              "      <th>...</th>\n",
              "      <td>...</td>\n",
              "      <td>...</td>\n",
              "    </tr>\n",
              "    <tr>\n",
              "      <th>328</th>\n",
              "      <td>2</td>\n",
              "      <td>0</td>\n",
              "    </tr>\n",
              "    <tr>\n",
              "      <th>329</th>\n",
              "      <td>3</td>\n",
              "      <td>0</td>\n",
              "    </tr>\n",
              "    <tr>\n",
              "      <th>330</th>\n",
              "      <td>1</td>\n",
              "      <td>2</td>\n",
              "    </tr>\n",
              "    <tr>\n",
              "      <th>331</th>\n",
              "      <td>0</td>\n",
              "      <td>2</td>\n",
              "    </tr>\n",
              "    <tr>\n",
              "      <th>332</th>\n",
              "      <td>2</td>\n",
              "      <td>3</td>\n",
              "    </tr>\n",
              "  </tbody>\n",
              "</table>\n",
              "<p>333 rows × 2 columns</p>\n",
              "</div>\n",
              "      <button class=\"colab-df-convert\" onclick=\"convertToInteractive('df-1abf32b4-280c-45ef-8c5d-ab4affd2ef4b')\"\n",
              "              title=\"Convert this dataframe to an interactive table.\"\n",
              "              style=\"display:none;\">\n",
              "        \n",
              "  <svg xmlns=\"http://www.w3.org/2000/svg\" height=\"24px\"viewBox=\"0 0 24 24\"\n",
              "       width=\"24px\">\n",
              "    <path d=\"M0 0h24v24H0V0z\" fill=\"none\"/>\n",
              "    <path d=\"M18.56 5.44l.94 2.06.94-2.06 2.06-.94-2.06-.94-.94-2.06-.94 2.06-2.06.94zm-11 1L8.5 8.5l.94-2.06 2.06-.94-2.06-.94L8.5 2.5l-.94 2.06-2.06.94zm10 10l.94 2.06.94-2.06 2.06-.94-2.06-.94-.94-2.06-.94 2.06-2.06.94z\"/><path d=\"M17.41 7.96l-1.37-1.37c-.4-.4-.92-.59-1.43-.59-.52 0-1.04.2-1.43.59L10.3 9.45l-7.72 7.72c-.78.78-.78 2.05 0 2.83L4 21.41c.39.39.9.59 1.41.59.51 0 1.02-.2 1.41-.59l7.78-7.78 2.81-2.81c.8-.78.8-2.07 0-2.86zM5.41 20L4 18.59l7.72-7.72 1.47 1.35L5.41 20z\"/>\n",
              "  </svg>\n",
              "      </button>\n",
              "      \n",
              "  <style>\n",
              "    .colab-df-container {\n",
              "      display:flex;\n",
              "      flex-wrap:wrap;\n",
              "      gap: 12px;\n",
              "    }\n",
              "\n",
              "    .colab-df-convert {\n",
              "      background-color: #E8F0FE;\n",
              "      border: none;\n",
              "      border-radius: 50%;\n",
              "      cursor: pointer;\n",
              "      display: none;\n",
              "      fill: #1967D2;\n",
              "      height: 32px;\n",
              "      padding: 0 0 0 0;\n",
              "      width: 32px;\n",
              "    }\n",
              "\n",
              "    .colab-df-convert:hover {\n",
              "      background-color: #E2EBFA;\n",
              "      box-shadow: 0px 1px 2px rgba(60, 64, 67, 0.3), 0px 1px 3px 1px rgba(60, 64, 67, 0.15);\n",
              "      fill: #174EA6;\n",
              "    }\n",
              "\n",
              "    [theme=dark] .colab-df-convert {\n",
              "      background-color: #3B4455;\n",
              "      fill: #D2E3FC;\n",
              "    }\n",
              "\n",
              "    [theme=dark] .colab-df-convert:hover {\n",
              "      background-color: #434B5C;\n",
              "      box-shadow: 0px 1px 3px 1px rgba(0, 0, 0, 0.15);\n",
              "      filter: drop-shadow(0px 1px 2px rgba(0, 0, 0, 0.3));\n",
              "      fill: #FFFFFF;\n",
              "    }\n",
              "  </style>\n",
              "\n",
              "      <script>\n",
              "        const buttonEl =\n",
              "          document.querySelector('#df-1abf32b4-280c-45ef-8c5d-ab4affd2ef4b button.colab-df-convert');\n",
              "        buttonEl.style.display =\n",
              "          google.colab.kernel.accessAllowed ? 'block' : 'none';\n",
              "\n",
              "        async function convertToInteractive(key) {\n",
              "          const element = document.querySelector('#df-1abf32b4-280c-45ef-8c5d-ab4affd2ef4b');\n",
              "          const dataTable =\n",
              "            await google.colab.kernel.invokeFunction('convertToInteractive',\n",
              "                                                     [key], {});\n",
              "          if (!dataTable) return;\n",
              "\n",
              "          const docLinkHtml = 'Like what you see? Visit the ' +\n",
              "            '<a target=\"_blank\" href=https://colab.research.google.com/notebooks/data_table.ipynb>data table notebook</a>'\n",
              "            + ' to learn more about interactive tables.';\n",
              "          element.innerHTML = '';\n",
              "          dataTable['output_type'] = 'display_data';\n",
              "          await google.colab.output.renderOutput(dataTable, element);\n",
              "          const docLink = document.createElement('div');\n",
              "          docLink.innerHTML = docLinkHtml;\n",
              "          element.appendChild(docLink);\n",
              "        }\n",
              "      </script>\n",
              "    </div>\n",
              "  </div>\n",
              "  "
            ]
          },
          "metadata": {}
        }
      ]
    },
    {
      "cell_type": "markdown",
      "source": [
        "\n",
        "\n",
        "*   Exemple de faux positifs sur la classe 0 : Index 5, 11\n",
        "*   Exemple de faux négatifs sur la classe 0 : Index 6, 7, 9\n",
        "\n"
      ],
      "metadata": {
        "id": "5BxZX8asGUCS"
      },
      "id": "5BxZX8asGUCS"
    },
    {
      "cell_type": "markdown",
      "source": [
        "###### **Exemple pour la regression logistique du test 2**"
      ],
      "metadata": {
        "id": "iSoTEp-CFOnB"
      },
      "id": "iSoTEp-CFOnB"
    },
    {
      "cell_type": "code",
      "source": [
        "display(gold_standard_prediction(y1_test_1,y1_pred_RL_2))"
      ],
      "metadata": {
        "colab": {
          "base_uri": "https://localhost:8080/",
          "height": 424
        },
        "id": "tNaLeyiKE8wF",
        "outputId": "7004d8b1-bf9b-4919-97ef-04ff4249456e"
      },
      "id": "tNaLeyiKE8wF",
      "execution_count": null,
      "outputs": [
        {
          "output_type": "display_data",
          "data": {
            "text/plain": [
              "     Gold Standard  Predicted\n",
              "0                2          2\n",
              "1                2          2\n",
              "2                1          2\n",
              "3                1          2\n",
              "4                3          3\n",
              "..             ...        ...\n",
              "328              2          2\n",
              "329              3          2\n",
              "330              1          2\n",
              "331              0          2\n",
              "332              2          3\n",
              "\n",
              "[333 rows x 2 columns]"
            ],
            "text/html": [
              "\n",
              "  <div id=\"df-d7d2876b-c5e0-4a7a-82b2-742836cf247e\">\n",
              "    <div class=\"colab-df-container\">\n",
              "      <div>\n",
              "<style scoped>\n",
              "    .dataframe tbody tr th:only-of-type {\n",
              "        vertical-align: middle;\n",
              "    }\n",
              "\n",
              "    .dataframe tbody tr th {\n",
              "        vertical-align: top;\n",
              "    }\n",
              "\n",
              "    .dataframe thead th {\n",
              "        text-align: right;\n",
              "    }\n",
              "</style>\n",
              "<table border=\"1\" class=\"dataframe\">\n",
              "  <thead>\n",
              "    <tr style=\"text-align: right;\">\n",
              "      <th></th>\n",
              "      <th>Gold Standard</th>\n",
              "      <th>Predicted</th>\n",
              "    </tr>\n",
              "  </thead>\n",
              "  <tbody>\n",
              "    <tr>\n",
              "      <th>0</th>\n",
              "      <td>2</td>\n",
              "      <td>2</td>\n",
              "    </tr>\n",
              "    <tr>\n",
              "      <th>1</th>\n",
              "      <td>2</td>\n",
              "      <td>2</td>\n",
              "    </tr>\n",
              "    <tr>\n",
              "      <th>2</th>\n",
              "      <td>1</td>\n",
              "      <td>2</td>\n",
              "    </tr>\n",
              "    <tr>\n",
              "      <th>3</th>\n",
              "      <td>1</td>\n",
              "      <td>2</td>\n",
              "    </tr>\n",
              "    <tr>\n",
              "      <th>4</th>\n",
              "      <td>3</td>\n",
              "      <td>3</td>\n",
              "    </tr>\n",
              "    <tr>\n",
              "      <th>...</th>\n",
              "      <td>...</td>\n",
              "      <td>...</td>\n",
              "    </tr>\n",
              "    <tr>\n",
              "      <th>328</th>\n",
              "      <td>2</td>\n",
              "      <td>2</td>\n",
              "    </tr>\n",
              "    <tr>\n",
              "      <th>329</th>\n",
              "      <td>3</td>\n",
              "      <td>2</td>\n",
              "    </tr>\n",
              "    <tr>\n",
              "      <th>330</th>\n",
              "      <td>1</td>\n",
              "      <td>2</td>\n",
              "    </tr>\n",
              "    <tr>\n",
              "      <th>331</th>\n",
              "      <td>0</td>\n",
              "      <td>2</td>\n",
              "    </tr>\n",
              "    <tr>\n",
              "      <th>332</th>\n",
              "      <td>2</td>\n",
              "      <td>3</td>\n",
              "    </tr>\n",
              "  </tbody>\n",
              "</table>\n",
              "<p>333 rows × 2 columns</p>\n",
              "</div>\n",
              "      <button class=\"colab-df-convert\" onclick=\"convertToInteractive('df-d7d2876b-c5e0-4a7a-82b2-742836cf247e')\"\n",
              "              title=\"Convert this dataframe to an interactive table.\"\n",
              "              style=\"display:none;\">\n",
              "        \n",
              "  <svg xmlns=\"http://www.w3.org/2000/svg\" height=\"24px\"viewBox=\"0 0 24 24\"\n",
              "       width=\"24px\">\n",
              "    <path d=\"M0 0h24v24H0V0z\" fill=\"none\"/>\n",
              "    <path d=\"M18.56 5.44l.94 2.06.94-2.06 2.06-.94-2.06-.94-.94-2.06-.94 2.06-2.06.94zm-11 1L8.5 8.5l.94-2.06 2.06-.94-2.06-.94L8.5 2.5l-.94 2.06-2.06.94zm10 10l.94 2.06.94-2.06 2.06-.94-2.06-.94-.94-2.06-.94 2.06-2.06.94z\"/><path d=\"M17.41 7.96l-1.37-1.37c-.4-.4-.92-.59-1.43-.59-.52 0-1.04.2-1.43.59L10.3 9.45l-7.72 7.72c-.78.78-.78 2.05 0 2.83L4 21.41c.39.39.9.59 1.41.59.51 0 1.02-.2 1.41-.59l7.78-7.78 2.81-2.81c.8-.78.8-2.07 0-2.86zM5.41 20L4 18.59l7.72-7.72 1.47 1.35L5.41 20z\"/>\n",
              "  </svg>\n",
              "      </button>\n",
              "      \n",
              "  <style>\n",
              "    .colab-df-container {\n",
              "      display:flex;\n",
              "      flex-wrap:wrap;\n",
              "      gap: 12px;\n",
              "    }\n",
              "\n",
              "    .colab-df-convert {\n",
              "      background-color: #E8F0FE;\n",
              "      border: none;\n",
              "      border-radius: 50%;\n",
              "      cursor: pointer;\n",
              "      display: none;\n",
              "      fill: #1967D2;\n",
              "      height: 32px;\n",
              "      padding: 0 0 0 0;\n",
              "      width: 32px;\n",
              "    }\n",
              "\n",
              "    .colab-df-convert:hover {\n",
              "      background-color: #E2EBFA;\n",
              "      box-shadow: 0px 1px 2px rgba(60, 64, 67, 0.3), 0px 1px 3px 1px rgba(60, 64, 67, 0.15);\n",
              "      fill: #174EA6;\n",
              "    }\n",
              "\n",
              "    [theme=dark] .colab-df-convert {\n",
              "      background-color: #3B4455;\n",
              "      fill: #D2E3FC;\n",
              "    }\n",
              "\n",
              "    [theme=dark] .colab-df-convert:hover {\n",
              "      background-color: #434B5C;\n",
              "      box-shadow: 0px 1px 3px 1px rgba(0, 0, 0, 0.15);\n",
              "      filter: drop-shadow(0px 1px 2px rgba(0, 0, 0, 0.3));\n",
              "      fill: #FFFFFF;\n",
              "    }\n",
              "  </style>\n",
              "\n",
              "      <script>\n",
              "        const buttonEl =\n",
              "          document.querySelector('#df-d7d2876b-c5e0-4a7a-82b2-742836cf247e button.colab-df-convert');\n",
              "        buttonEl.style.display =\n",
              "          google.colab.kernel.accessAllowed ? 'block' : 'none';\n",
              "\n",
              "        async function convertToInteractive(key) {\n",
              "          const element = document.querySelector('#df-d7d2876b-c5e0-4a7a-82b2-742836cf247e');\n",
              "          const dataTable =\n",
              "            await google.colab.kernel.invokeFunction('convertToInteractive',\n",
              "                                                     [key], {});\n",
              "          if (!dataTable) return;\n",
              "\n",
              "          const docLinkHtml = 'Like what you see? Visit the ' +\n",
              "            '<a target=\"_blank\" href=https://colab.research.google.com/notebooks/data_table.ipynb>data table notebook</a>'\n",
              "            + ' to learn more about interactive tables.';\n",
              "          element.innerHTML = '';\n",
              "          dataTable['output_type'] = 'display_data';\n",
              "          await google.colab.output.renderOutput(dataTable, element);\n",
              "          const docLink = document.createElement('div');\n",
              "          docLink.innerHTML = docLinkHtml;\n",
              "          element.appendChild(docLink);\n",
              "        }\n",
              "      </script>\n",
              "    </div>\n",
              "  </div>\n",
              "  "
            ]
          },
          "metadata": {}
        }
      ]
    },
    {
      "cell_type": "markdown",
      "source": [
        "\n",
        "\n",
        "*   Exemple de faux positif sur la classe 1: Index 87\n",
        "*   Exemple de faux négatif sur la classe 1: Index 8, 17\n",
        "\n"
      ],
      "metadata": {
        "id": "qE0nWw86FYMC"
      },
      "id": "qE0nWw86FYMC"
    },
    {
      "cell_type": "markdown",
      "source": [
        "###### **Exemple sur le Perceptron Multicouche du test 3**\n",
        "\n"
      ],
      "metadata": {
        "id": "i2LKmxobIVJy"
      },
      "id": "i2LKmxobIVJy"
    },
    {
      "cell_type": "code",
      "source": [
        "display(gold_standard_prediction(y1_test_1,y1_pred_MLP_3))"
      ],
      "metadata": {
        "colab": {
          "base_uri": "https://localhost:8080/",
          "height": 424
        },
        "id": "eu3XCAE2IgkI",
        "outputId": "6475301e-ef8f-4cc5-93f9-bc687e9a99e7"
      },
      "id": "eu3XCAE2IgkI",
      "execution_count": null,
      "outputs": [
        {
          "output_type": "display_data",
          "data": {
            "text/plain": [
              "     Gold Standard  Predicted\n",
              "0                2          1\n",
              "1                2          0\n",
              "2                1          2\n",
              "3                1          2\n",
              "4                3          3\n",
              "..             ...        ...\n",
              "328              2          0\n",
              "329              3          0\n",
              "330              1          0\n",
              "331              0          2\n",
              "332              2          3\n",
              "\n",
              "[333 rows x 2 columns]"
            ],
            "text/html": [
              "\n",
              "  <div id=\"df-0a4db9b1-db88-4c88-b8f4-3f19d9ae36b4\">\n",
              "    <div class=\"colab-df-container\">\n",
              "      <div>\n",
              "<style scoped>\n",
              "    .dataframe tbody tr th:only-of-type {\n",
              "        vertical-align: middle;\n",
              "    }\n",
              "\n",
              "    .dataframe tbody tr th {\n",
              "        vertical-align: top;\n",
              "    }\n",
              "\n",
              "    .dataframe thead th {\n",
              "        text-align: right;\n",
              "    }\n",
              "</style>\n",
              "<table border=\"1\" class=\"dataframe\">\n",
              "  <thead>\n",
              "    <tr style=\"text-align: right;\">\n",
              "      <th></th>\n",
              "      <th>Gold Standard</th>\n",
              "      <th>Predicted</th>\n",
              "    </tr>\n",
              "  </thead>\n",
              "  <tbody>\n",
              "    <tr>\n",
              "      <th>0</th>\n",
              "      <td>2</td>\n",
              "      <td>1</td>\n",
              "    </tr>\n",
              "    <tr>\n",
              "      <th>1</th>\n",
              "      <td>2</td>\n",
              "      <td>0</td>\n",
              "    </tr>\n",
              "    <tr>\n",
              "      <th>2</th>\n",
              "      <td>1</td>\n",
              "      <td>2</td>\n",
              "    </tr>\n",
              "    <tr>\n",
              "      <th>3</th>\n",
              "      <td>1</td>\n",
              "      <td>2</td>\n",
              "    </tr>\n",
              "    <tr>\n",
              "      <th>4</th>\n",
              "      <td>3</td>\n",
              "      <td>3</td>\n",
              "    </tr>\n",
              "    <tr>\n",
              "      <th>...</th>\n",
              "      <td>...</td>\n",
              "      <td>...</td>\n",
              "    </tr>\n",
              "    <tr>\n",
              "      <th>328</th>\n",
              "      <td>2</td>\n",
              "      <td>0</td>\n",
              "    </tr>\n",
              "    <tr>\n",
              "      <th>329</th>\n",
              "      <td>3</td>\n",
              "      <td>0</td>\n",
              "    </tr>\n",
              "    <tr>\n",
              "      <th>330</th>\n",
              "      <td>1</td>\n",
              "      <td>0</td>\n",
              "    </tr>\n",
              "    <tr>\n",
              "      <th>331</th>\n",
              "      <td>0</td>\n",
              "      <td>2</td>\n",
              "    </tr>\n",
              "    <tr>\n",
              "      <th>332</th>\n",
              "      <td>2</td>\n",
              "      <td>3</td>\n",
              "    </tr>\n",
              "  </tbody>\n",
              "</table>\n",
              "<p>333 rows × 2 columns</p>\n",
              "</div>\n",
              "      <button class=\"colab-df-convert\" onclick=\"convertToInteractive('df-0a4db9b1-db88-4c88-b8f4-3f19d9ae36b4')\"\n",
              "              title=\"Convert this dataframe to an interactive table.\"\n",
              "              style=\"display:none;\">\n",
              "        \n",
              "  <svg xmlns=\"http://www.w3.org/2000/svg\" height=\"24px\"viewBox=\"0 0 24 24\"\n",
              "       width=\"24px\">\n",
              "    <path d=\"M0 0h24v24H0V0z\" fill=\"none\"/>\n",
              "    <path d=\"M18.56 5.44l.94 2.06.94-2.06 2.06-.94-2.06-.94-.94-2.06-.94 2.06-2.06.94zm-11 1L8.5 8.5l.94-2.06 2.06-.94-2.06-.94L8.5 2.5l-.94 2.06-2.06.94zm10 10l.94 2.06.94-2.06 2.06-.94-2.06-.94-.94-2.06-.94 2.06-2.06.94z\"/><path d=\"M17.41 7.96l-1.37-1.37c-.4-.4-.92-.59-1.43-.59-.52 0-1.04.2-1.43.59L10.3 9.45l-7.72 7.72c-.78.78-.78 2.05 0 2.83L4 21.41c.39.39.9.59 1.41.59.51 0 1.02-.2 1.41-.59l7.78-7.78 2.81-2.81c.8-.78.8-2.07 0-2.86zM5.41 20L4 18.59l7.72-7.72 1.47 1.35L5.41 20z\"/>\n",
              "  </svg>\n",
              "      </button>\n",
              "      \n",
              "  <style>\n",
              "    .colab-df-container {\n",
              "      display:flex;\n",
              "      flex-wrap:wrap;\n",
              "      gap: 12px;\n",
              "    }\n",
              "\n",
              "    .colab-df-convert {\n",
              "      background-color: #E8F0FE;\n",
              "      border: none;\n",
              "      border-radius: 50%;\n",
              "      cursor: pointer;\n",
              "      display: none;\n",
              "      fill: #1967D2;\n",
              "      height: 32px;\n",
              "      padding: 0 0 0 0;\n",
              "      width: 32px;\n",
              "    }\n",
              "\n",
              "    .colab-df-convert:hover {\n",
              "      background-color: #E2EBFA;\n",
              "      box-shadow: 0px 1px 2px rgba(60, 64, 67, 0.3), 0px 1px 3px 1px rgba(60, 64, 67, 0.15);\n",
              "      fill: #174EA6;\n",
              "    }\n",
              "\n",
              "    [theme=dark] .colab-df-convert {\n",
              "      background-color: #3B4455;\n",
              "      fill: #D2E3FC;\n",
              "    }\n",
              "\n",
              "    [theme=dark] .colab-df-convert:hover {\n",
              "      background-color: #434B5C;\n",
              "      box-shadow: 0px 1px 3px 1px rgba(0, 0, 0, 0.15);\n",
              "      filter: drop-shadow(0px 1px 2px rgba(0, 0, 0, 0.3));\n",
              "      fill: #FFFFFF;\n",
              "    }\n",
              "  </style>\n",
              "\n",
              "      <script>\n",
              "        const buttonEl =\n",
              "          document.querySelector('#df-0a4db9b1-db88-4c88-b8f4-3f19d9ae36b4 button.colab-df-convert');\n",
              "        buttonEl.style.display =\n",
              "          google.colab.kernel.accessAllowed ? 'block' : 'none';\n",
              "\n",
              "        async function convertToInteractive(key) {\n",
              "          const element = document.querySelector('#df-0a4db9b1-db88-4c88-b8f4-3f19d9ae36b4');\n",
              "          const dataTable =\n",
              "            await google.colab.kernel.invokeFunction('convertToInteractive',\n",
              "                                                     [key], {});\n",
              "          if (!dataTable) return;\n",
              "\n",
              "          const docLinkHtml = 'Like what you see? Visit the ' +\n",
              "            '<a target=\"_blank\" href=https://colab.research.google.com/notebooks/data_table.ipynb>data table notebook</a>'\n",
              "            + ' to learn more about interactive tables.';\n",
              "          element.innerHTML = '';\n",
              "          dataTable['output_type'] = 'display_data';\n",
              "          await google.colab.output.renderOutput(dataTable, element);\n",
              "          const docLink = document.createElement('div');\n",
              "          docLink.innerHTML = docLinkHtml;\n",
              "          element.appendChild(docLink);\n",
              "        }\n",
              "      </script>\n",
              "    </div>\n",
              "  </div>\n",
              "  "
            ]
          },
          "metadata": {}
        }
      ]
    },
    {
      "cell_type": "markdown",
      "source": [
        "\n",
        "\n",
        "*   Exemple de faux positifs sur la classe 0 : Index 5 et 11.\n",
        "*  Exemple de faux négatif sur la classe 0 : Index 0, 6 et 7.\n",
        "\n"
      ],
      "metadata": {
        "id": "c54LEykxIxhw"
      },
      "id": "c54LEykxIxhw"
    },
    {
      "cell_type": "markdown",
      "source": [
        "\n",
        "\n",
        "# **RÉORIENTATION DE LA CLASSIFICATION**\n",
        "\n",
        "EN ÉTUDIANT DIFFÉRENTS MODELS ET EN CHANGEANT LES PARAMETRES, NOUS NOUS SOMMES RENDUS COMPTE QU'IL EST DIFFICILE POUR NOS MODÈLES DE POUVOIR FAIRE DE BONNE DE PRÉDICTIONS SUR LE NIVEAU DES ÉTUDIANTS, QUE CE SOIT POUR LA LECTURE OU POUR L'ÉCRITURE.\n",
        "\n",
        "NOUS ALLONS RÉORIENTER NOTRE ANALYSE, SUR UN SYSTÈME BINAIRE VISANT À SAVOIR SI L'ÉLÈVE A PASSÉ LE TEST OU NON (S'IL A PLUS DE 50% OU NON)"
      ],
      "metadata": {
        "id": "-QDv0Eai70nj"
      },
      "id": "-QDv0Eai70nj"
    },
    {
      "cell_type": "markdown",
      "source": [
        "## DATA PREPROCESSING\n",
        "\n",
        "\n"
      ],
      "metadata": {
        "id": "9y1LKPc0PwzR"
      },
      "id": "9y1LKPc0PwzR"
    },
    {
      "cell_type": "code",
      "source": [
        "#reloading dataset\n",
        "donnees_1 = donnees=pd.read_csv('exams.csv', sep=';')\n",
        "donnees_1.rename(columns={\"race/ethnicity\":\"race\",\"parental level of education\":\"parent_education\"\n",
        "                    ,\"reading score\":\"reading\",\"writing score\":\"writing\",\n",
        "                    \"test preparation course\":\"pre\"},inplace=True)\n",
        "\n",
        "donnees_1.head(10)"
      ],
      "metadata": {
        "colab": {
          "base_uri": "https://localhost:8080/",
          "height": 363
        },
        "id": "Q0mS_nkFRndK",
        "outputId": "448d97ef-8ace-45e3-cddf-f4da6690aa26"
      },
      "id": "Q0mS_nkFRndK",
      "execution_count": null,
      "outputs": [
        {
          "output_type": "execute_result",
          "data": {
            "text/plain": [
              "   gender     race    parent_education         lunch        pre  reading  \\\n",
              "0    male  group A         high school      standard  completed       67   \n",
              "1  female  group D    some high school  free/reduced       none       59   \n",
              "2    male  group E        some college  free/reduced       none       60   \n",
              "3    male  group B         high school      standard       none       78   \n",
              "4    male  group E  associate's degree      standard  completed       73   \n",
              "5  female  group D         high school      standard       none       77   \n",
              "6  female  group A   bachelor's degree      standard       none       59   \n",
              "7    male  group E        some college      standard  completed       88   \n",
              "8    male  group D         high school      standard       none       56   \n",
              "9    male  group C        some college  free/reduced       none       42   \n",
              "\n",
              "   writing  \n",
              "0       63  \n",
              "1       55  \n",
              "2       50  \n",
              "3       68  \n",
              "4       68  \n",
              "5       76  \n",
              "6       63  \n",
              "7       84  \n",
              "8       65  \n",
              "9       45  "
            ],
            "text/html": [
              "\n",
              "  <div id=\"df-df301977-7fd1-4139-8b7d-0e4443de34d0\">\n",
              "    <div class=\"colab-df-container\">\n",
              "      <div>\n",
              "<style scoped>\n",
              "    .dataframe tbody tr th:only-of-type {\n",
              "        vertical-align: middle;\n",
              "    }\n",
              "\n",
              "    .dataframe tbody tr th {\n",
              "        vertical-align: top;\n",
              "    }\n",
              "\n",
              "    .dataframe thead th {\n",
              "        text-align: right;\n",
              "    }\n",
              "</style>\n",
              "<table border=\"1\" class=\"dataframe\">\n",
              "  <thead>\n",
              "    <tr style=\"text-align: right;\">\n",
              "      <th></th>\n",
              "      <th>gender</th>\n",
              "      <th>race</th>\n",
              "      <th>parent_education</th>\n",
              "      <th>lunch</th>\n",
              "      <th>pre</th>\n",
              "      <th>reading</th>\n",
              "      <th>writing</th>\n",
              "    </tr>\n",
              "  </thead>\n",
              "  <tbody>\n",
              "    <tr>\n",
              "      <th>0</th>\n",
              "      <td>male</td>\n",
              "      <td>group A</td>\n",
              "      <td>high school</td>\n",
              "      <td>standard</td>\n",
              "      <td>completed</td>\n",
              "      <td>67</td>\n",
              "      <td>63</td>\n",
              "    </tr>\n",
              "    <tr>\n",
              "      <th>1</th>\n",
              "      <td>female</td>\n",
              "      <td>group D</td>\n",
              "      <td>some high school</td>\n",
              "      <td>free/reduced</td>\n",
              "      <td>none</td>\n",
              "      <td>59</td>\n",
              "      <td>55</td>\n",
              "    </tr>\n",
              "    <tr>\n",
              "      <th>2</th>\n",
              "      <td>male</td>\n",
              "      <td>group E</td>\n",
              "      <td>some college</td>\n",
              "      <td>free/reduced</td>\n",
              "      <td>none</td>\n",
              "      <td>60</td>\n",
              "      <td>50</td>\n",
              "    </tr>\n",
              "    <tr>\n",
              "      <th>3</th>\n",
              "      <td>male</td>\n",
              "      <td>group B</td>\n",
              "      <td>high school</td>\n",
              "      <td>standard</td>\n",
              "      <td>none</td>\n",
              "      <td>78</td>\n",
              "      <td>68</td>\n",
              "    </tr>\n",
              "    <tr>\n",
              "      <th>4</th>\n",
              "      <td>male</td>\n",
              "      <td>group E</td>\n",
              "      <td>associate's degree</td>\n",
              "      <td>standard</td>\n",
              "      <td>completed</td>\n",
              "      <td>73</td>\n",
              "      <td>68</td>\n",
              "    </tr>\n",
              "    <tr>\n",
              "      <th>5</th>\n",
              "      <td>female</td>\n",
              "      <td>group D</td>\n",
              "      <td>high school</td>\n",
              "      <td>standard</td>\n",
              "      <td>none</td>\n",
              "      <td>77</td>\n",
              "      <td>76</td>\n",
              "    </tr>\n",
              "    <tr>\n",
              "      <th>6</th>\n",
              "      <td>female</td>\n",
              "      <td>group A</td>\n",
              "      <td>bachelor's degree</td>\n",
              "      <td>standard</td>\n",
              "      <td>none</td>\n",
              "      <td>59</td>\n",
              "      <td>63</td>\n",
              "    </tr>\n",
              "    <tr>\n",
              "      <th>7</th>\n",
              "      <td>male</td>\n",
              "      <td>group E</td>\n",
              "      <td>some college</td>\n",
              "      <td>standard</td>\n",
              "      <td>completed</td>\n",
              "      <td>88</td>\n",
              "      <td>84</td>\n",
              "    </tr>\n",
              "    <tr>\n",
              "      <th>8</th>\n",
              "      <td>male</td>\n",
              "      <td>group D</td>\n",
              "      <td>high school</td>\n",
              "      <td>standard</td>\n",
              "      <td>none</td>\n",
              "      <td>56</td>\n",
              "      <td>65</td>\n",
              "    </tr>\n",
              "    <tr>\n",
              "      <th>9</th>\n",
              "      <td>male</td>\n",
              "      <td>group C</td>\n",
              "      <td>some college</td>\n",
              "      <td>free/reduced</td>\n",
              "      <td>none</td>\n",
              "      <td>42</td>\n",
              "      <td>45</td>\n",
              "    </tr>\n",
              "  </tbody>\n",
              "</table>\n",
              "</div>\n",
              "      <button class=\"colab-df-convert\" onclick=\"convertToInteractive('df-df301977-7fd1-4139-8b7d-0e4443de34d0')\"\n",
              "              title=\"Convert this dataframe to an interactive table.\"\n",
              "              style=\"display:none;\">\n",
              "        \n",
              "  <svg xmlns=\"http://www.w3.org/2000/svg\" height=\"24px\"viewBox=\"0 0 24 24\"\n",
              "       width=\"24px\">\n",
              "    <path d=\"M0 0h24v24H0V0z\" fill=\"none\"/>\n",
              "    <path d=\"M18.56 5.44l.94 2.06.94-2.06 2.06-.94-2.06-.94-.94-2.06-.94 2.06-2.06.94zm-11 1L8.5 8.5l.94-2.06 2.06-.94-2.06-.94L8.5 2.5l-.94 2.06-2.06.94zm10 10l.94 2.06.94-2.06 2.06-.94-2.06-.94-.94-2.06-.94 2.06-2.06.94z\"/><path d=\"M17.41 7.96l-1.37-1.37c-.4-.4-.92-.59-1.43-.59-.52 0-1.04.2-1.43.59L10.3 9.45l-7.72 7.72c-.78.78-.78 2.05 0 2.83L4 21.41c.39.39.9.59 1.41.59.51 0 1.02-.2 1.41-.59l7.78-7.78 2.81-2.81c.8-.78.8-2.07 0-2.86zM5.41 20L4 18.59l7.72-7.72 1.47 1.35L5.41 20z\"/>\n",
              "  </svg>\n",
              "      </button>\n",
              "      \n",
              "  <style>\n",
              "    .colab-df-container {\n",
              "      display:flex;\n",
              "      flex-wrap:wrap;\n",
              "      gap: 12px;\n",
              "    }\n",
              "\n",
              "    .colab-df-convert {\n",
              "      background-color: #E8F0FE;\n",
              "      border: none;\n",
              "      border-radius: 50%;\n",
              "      cursor: pointer;\n",
              "      display: none;\n",
              "      fill: #1967D2;\n",
              "      height: 32px;\n",
              "      padding: 0 0 0 0;\n",
              "      width: 32px;\n",
              "    }\n",
              "\n",
              "    .colab-df-convert:hover {\n",
              "      background-color: #E2EBFA;\n",
              "      box-shadow: 0px 1px 2px rgba(60, 64, 67, 0.3), 0px 1px 3px 1px rgba(60, 64, 67, 0.15);\n",
              "      fill: #174EA6;\n",
              "    }\n",
              "\n",
              "    [theme=dark] .colab-df-convert {\n",
              "      background-color: #3B4455;\n",
              "      fill: #D2E3FC;\n",
              "    }\n",
              "\n",
              "    [theme=dark] .colab-df-convert:hover {\n",
              "      background-color: #434B5C;\n",
              "      box-shadow: 0px 1px 3px 1px rgba(0, 0, 0, 0.15);\n",
              "      filter: drop-shadow(0px 1px 2px rgba(0, 0, 0, 0.3));\n",
              "      fill: #FFFFFF;\n",
              "    }\n",
              "  </style>\n",
              "\n",
              "      <script>\n",
              "        const buttonEl =\n",
              "          document.querySelector('#df-df301977-7fd1-4139-8b7d-0e4443de34d0 button.colab-df-convert');\n",
              "        buttonEl.style.display =\n",
              "          google.colab.kernel.accessAllowed ? 'block' : 'none';\n",
              "\n",
              "        async function convertToInteractive(key) {\n",
              "          const element = document.querySelector('#df-df301977-7fd1-4139-8b7d-0e4443de34d0');\n",
              "          const dataTable =\n",
              "            await google.colab.kernel.invokeFunction('convertToInteractive',\n",
              "                                                     [key], {});\n",
              "          if (!dataTable) return;\n",
              "\n",
              "          const docLinkHtml = 'Like what you see? Visit the ' +\n",
              "            '<a target=\"_blank\" href=https://colab.research.google.com/notebooks/data_table.ipynb>data table notebook</a>'\n",
              "            + ' to learn more about interactive tables.';\n",
              "          element.innerHTML = '';\n",
              "          dataTable['output_type'] = 'display_data';\n",
              "          await google.colab.output.renderOutput(dataTable, element);\n",
              "          const docLink = document.createElement('div');\n",
              "          docLink.innerHTML = docLinkHtml;\n",
              "          element.appendChild(docLink);\n",
              "        }\n",
              "      </script>\n",
              "    </div>\n",
              "  </div>\n",
              "  "
            ]
          },
          "metadata": {},
          "execution_count": 105
        }
      ]
    },
    {
      "cell_type": "code",
      "source": [
        "features=['gender','race','parent_education','pre',' lunch']\n",
        "label = ['reading ', 'writing ']\n",
        "\n",
        "\n",
        "# Categorical values need to be transformed into numeric.\n",
        "donnees_1['gender'] = donnees_1['gender'].replace([\"female\", \"male\"], [0, 1])\n",
        "donnees_1['lunch'] = donnees_1['lunch'].replace([\"standard\", \"free/reduced\"], [1, 0])\n",
        "donnees_1['race'] = donnees_1['race'].replace(['group A', 'group B', 'group C','group D','group E'], [1, 2, 3, 4, 5])\n",
        "\n",
        "donnees_1['parent_education'] = donnees_1['parent_education'].replace([\"master's degree\", \"bachelor's degree\", \"some high school\",'high school','some college',\"associate's degree\"], [1, 2, 3, 4, 5, 6])\n",
        "donnees_1['pre'] = donnees_1['pre'].replace(['completed', 'none'], [1, 0])\n",
        "\n",
        "#One hot encoding\n",
        "donnees_1=pd.get_dummies(data=donnees_1, columns=[\"pre\",\"race\", \"parent_education\", \"gender\", \"lunch\"])"
      ],
      "metadata": {
        "id": "AGH7i34qVnfd"
      },
      "id": "AGH7i34qVnfd",
      "execution_count": null,
      "outputs": []
    },
    {
      "cell_type": "code",
      "source": [
        "#preprocessing Data reading score\n",
        "bins_1 =(0,50,100)\n",
        "group_names_1=['echec','succes']\n",
        "donnees_1['reading']=pd.cut(donnees_1['reading'], bins = bins_1, labels=group_names_1)\n",
        "donnees_1['reading'].unique()"
      ],
      "metadata": {
        "colab": {
          "base_uri": "https://localhost:8080/"
        },
        "id": "vKl7BqoU9aSH",
        "outputId": "92e08a9c-1cce-462d-e99a-cc2c2222a13a"
      },
      "id": "vKl7BqoU9aSH",
      "execution_count": null,
      "outputs": [
        {
          "output_type": "execute_result",
          "data": {
            "text/plain": [
              "['succes', 'echec']\n",
              "Categories (2, object): ['echec' < 'succes']"
            ]
          },
          "metadata": {},
          "execution_count": 107
        }
      ]
    },
    {
      "cell_type": "code",
      "source": [
        "label_quality = LabelEncoder()\n",
        "donnees_1['reading']= label_quality.fit_transform(donnees_1['reading'])"
      ],
      "metadata": {
        "id": "AjXeQnGV90Fm"
      },
      "id": "AjXeQnGV90Fm",
      "execution_count": null,
      "outputs": []
    },
    {
      "cell_type": "code",
      "source": [
        "donnees_1['reading'].value_counts()"
      ],
      "metadata": {
        "colab": {
          "base_uri": "https://localhost:8080/"
        },
        "id": "cnLY8RpYWaB4",
        "outputId": "78c6aa80-f30e-4590-bd4e-f534365cb87b"
      },
      "id": "cnLY8RpYWaB4",
      "execution_count": null,
      "outputs": [
        {
          "output_type": "execute_result",
          "data": {
            "text/plain": [
              "1    887\n",
              "0    113\n",
              "Name: reading, dtype: int64"
            ]
          },
          "metadata": {},
          "execution_count": 109
        }
      ]
    },
    {
      "cell_type": "code",
      "source": [
        "bins=(0,50,100)\n",
        "group_names=['echec','succes']\n",
        "donnees_1['writing']=pd.cut(donnees_1['writing'], bins = bins, labels=group_names)\n",
        "donnees_1['writing'].unique()"
      ],
      "metadata": {
        "colab": {
          "base_uri": "https://localhost:8080/"
        },
        "id": "gYMneYuV-bMX",
        "outputId": "1f5714df-5458-45fc-87d5-c7fa5fa6ba21"
      },
      "id": "gYMneYuV-bMX",
      "execution_count": null,
      "outputs": [
        {
          "output_type": "execute_result",
          "data": {
            "text/plain": [
              "['succes', 'echec']\n",
              "Categories (2, object): ['echec' < 'succes']"
            ]
          },
          "metadata": {},
          "execution_count": 110
        }
      ]
    },
    {
      "cell_type": "code",
      "source": [
        "donnees_1['writing']= label_quality.fit_transform(donnees_1['writing'])"
      ],
      "metadata": {
        "id": "RQHWPLzc-pOe"
      },
      "id": "RQHWPLzc-pOe",
      "execution_count": null,
      "outputs": []
    },
    {
      "cell_type": "code",
      "source": [
        "donnees_1['writing'].value_counts()"
      ],
      "metadata": {
        "colab": {
          "base_uri": "https://localhost:8080/"
        },
        "id": "JEOwwfBI_LOQ",
        "outputId": "e2843c06-0a75-46e6-eccf-1510361ab4fb"
      },
      "id": "JEOwwfBI_LOQ",
      "execution_count": null,
      "outputs": [
        {
          "output_type": "execute_result",
          "data": {
            "text/plain": [
              "1    849\n",
              "0    151\n",
              "Name: writing, dtype: int64"
            ]
          },
          "metadata": {},
          "execution_count": 112
        }
      ]
    },
    {
      "cell_type": "code",
      "source": [
        "##HISTOGRAMME DE MONTRANT LE NOMBRE DE PERSONNES AYANT ECHOUÉ OU RÉUSSI LE TEST DE LECTURE\n",
        "\n",
        "sns.barplot( x = donnees_1['reading'].value_counts().index,  y= donnees_1['reading'].value_counts())"
      ],
      "metadata": {
        "colab": {
          "base_uri": "https://localhost:8080/",
          "height": 282
        },
        "id": "sUR2CckP-r_F",
        "outputId": "ba3bf8f4-c322-44dd-e464-d0efc3876944"
      },
      "id": "sUR2CckP-r_F",
      "execution_count": null,
      "outputs": [
        {
          "output_type": "execute_result",
          "data": {
            "text/plain": [
              "<matplotlib.axes._subplots.AxesSubplot at 0x7f70cd6cd5d0>"
            ]
          },
          "metadata": {},
          "execution_count": 113
        },
        {
          "output_type": "display_data",
          "data": {
            "text/plain": [
              "<Figure size 432x288 with 1 Axes>"
            ],
            "image/png": "[encoded data removed]"
          },
          "metadata": {
            "needs_background": "light"
          }
        }
      ]
    },
    {
      "cell_type": "code",
      "source": [
        "sns.barplot( x = donnees_1['writing'].value_counts().index,  y= donnees_1['writing'].value_counts())"
      ],
      "metadata": {
        "colab": {
          "base_uri": "https://localhost:8080/",
          "height": 282
        },
        "id": "EIRi7rqT_pSv",
        "outputId": "3e2a2c46-5eaa-4190-cd93-f4eccb39241d"
      },
      "id": "EIRi7rqT_pSv",
      "execution_count": null,
      "outputs": [
        {
          "output_type": "execute_result",
          "data": {
            "text/plain": [
              "<matplotlib.axes._subplots.AxesSubplot at 0x7f70cd637e50>"
            ]
          },
          "metadata": {},
          "execution_count": 114
        },
        {
          "output_type": "display_data",
          "data": {
            "text/plain": [
              "<Figure size 432x288 with 1 Axes>"
            ],
            "image/png": "[encoded data removed]"
          },
          "metadata": {
            "needs_background": "light"
          }
        }
      ]
    },
    {
      "cell_type": "code",
      "source": [
        "X_1=donnees_1.drop([\"reading\", \"writing\"] , axis=1)\n",
        "y1_1=donnees_1[\"reading\"]\n",
        "y2_1=donnees_1[\"writing\"]"
      ],
      "metadata": {
        "id": "3AoAvghdANEQ"
      },
      "id": "3AoAvghdANEQ",
      "execution_count": null,
      "outputs": []
    },
    {
      "cell_type": "code",
      "source": [
        "#validation croisée avec k = 3\n",
        "\n",
        "kf_1=KFold(n_splits=3)"
      ],
      "metadata": {
        "id": "aVe2kZjuAXNS"
      },
      "id": "aVe2kZjuAXNS",
      "execution_count": null,
      "outputs": []
    },
    {
      "cell_type": "code",
      "source": [
        "for train_index, test_index in kf_1.split(X):\n",
        "        X_train_2, X_test_2 = X_1.iloc[train_index], X_1.iloc[test_index]\n",
        "        y1_train_2, y1_test_2 = y1_1.iloc[train_index], y1_1.iloc[test_index]\n",
        "        y2_train_2, y2_test_2 = y2_1.iloc[train_index], y2_1.iloc[test_index]"
      ],
      "metadata": {
        "id": "0qy9fXzpAYct"
      },
      "id": "0qy9fXzpAYct",
      "execution_count": null,
      "outputs": []
    },
    {
      "cell_type": "markdown",
      "source": [
        "## TRAIN AND TEST"
      ],
      "metadata": {
        "id": "rZ_oAutWAp1d"
      },
      "id": "rZ_oAutWAp1d"
    },
    {
      "cell_type": "markdown",
      "source": [
        "### NAIVE BAYES"
      ],
      "metadata": {
        "id": "jurMdxiTAt0g"
      },
      "id": "jurMdxiTAt0g"
    },
    {
      "cell_type": "code",
      "source": [
        "NB = GaussianNB()"
      ],
      "metadata": {
        "id": "CwzaxGlwAx-1"
      },
      "id": "CwzaxGlwAx-1",
      "execution_count": null,
      "outputs": []
    },
    {
      "cell_type": "code",
      "source": [
        "#train\n",
        "NB.fit(X_train_2,y1_train_2)"
      ],
      "metadata": {
        "colab": {
          "base_uri": "https://localhost:8080/"
        },
        "id": "HVPjTmghBSBz",
        "outputId": "b080ab4f-6cbb-473c-e9ad-1d57ca40f189"
      },
      "id": "HVPjTmghBSBz",
      "execution_count": null,
      "outputs": [
        {
          "output_type": "execute_result",
          "data": {
            "text/plain": [
              "GaussianNB()"
            ]
          },
          "metadata": {},
          "execution_count": 119
        }
      ]
    },
    {
      "cell_type": "code",
      "source": [
        "y1_pred_GNB = NB.predict(X_test_2)"
      ],
      "metadata": {
        "id": "JU8FH550Bj2Q"
      },
      "id": "JU8FH550Bj2Q",
      "execution_count": null,
      "outputs": []
    },
    {
      "cell_type": "code",
      "source": [
        "#Precison,recall and accuracy score  per class for y1\n",
        "print(metrics.classification_report(y1_test_2,y1_pred_GNB))"
      ],
      "metadata": {
        "colab": {
          "base_uri": "https://localhost:8080/"
        },
        "id": "SIzXIL31B614",
        "outputId": "33395a56-6922-4b88-e8ba-8344d9d8c250"
      },
      "id": "SIzXIL31B614",
      "execution_count": null,
      "outputs": [
        {
          "output_type": "stream",
          "name": "stdout",
          "text": [
            "              precision    recall  f1-score   support\n",
            "\n",
            "           0       0.31      0.54      0.39        41\n",
            "           1       0.93      0.83      0.88       292\n",
            "\n",
            "    accuracy                           0.80       333\n",
            "   macro avg       0.62      0.68      0.64       333\n",
            "weighted avg       0.85      0.80      0.82       333\n",
            "\n"
          ]
        }
      ]
    },
    {
      "cell_type": "code",
      "source": [
        "# train \n",
        "NB.fit(X_train_2,y2_train_2)"
      ],
      "metadata": {
        "colab": {
          "base_uri": "https://localhost:8080/"
        },
        "id": "NiQk3fHjDwdG",
        "outputId": "f0c46666-4712-4b25-fec0-b6176246d3f3"
      },
      "id": "NiQk3fHjDwdG",
      "execution_count": null,
      "outputs": [
        {
          "output_type": "execute_result",
          "data": {
            "text/plain": [
              "GaussianNB()"
            ]
          },
          "metadata": {},
          "execution_count": 122
        }
      ]
    },
    {
      "cell_type": "code",
      "source": [
        "y2_pred_GNB = NB.predict(X_test_2)"
      ],
      "metadata": {
        "id": "HVfwGAy-D59W"
      },
      "id": "HVfwGAy-D59W",
      "execution_count": null,
      "outputs": []
    },
    {
      "cell_type": "code",
      "source": [
        "#Precison,recall and accuracy score  per class for y1\n",
        "print(metrics.classification_report(y2_test_2,y2_pred_GNB))"
      ],
      "metadata": {
        "colab": {
          "base_uri": "https://localhost:8080/"
        },
        "id": "4EHsGaY2ECMa",
        "outputId": "4059cac8-a0dc-41ee-c382-01736fa3678e"
      },
      "id": "4EHsGaY2ECMa",
      "execution_count": null,
      "outputs": [
        {
          "output_type": "stream",
          "name": "stdout",
          "text": [
            "              precision    recall  f1-score   support\n",
            "\n",
            "           0       0.38      0.65      0.48        54\n",
            "           1       0.92      0.79      0.85       279\n",
            "\n",
            "    accuracy                           0.77       333\n",
            "   macro avg       0.65      0.72      0.66       333\n",
            "weighted avg       0.83      0.77      0.79       333\n",
            "\n"
          ]
        }
      ]
    },
    {
      "cell_type": "markdown",
      "source": [
        "### LOGISTIC REGRESSION"
      ],
      "metadata": {
        "id": "0I2t6e0qCIOz"
      },
      "id": "0I2t6e0qCIOz"
    },
    {
      "cell_type": "code",
      "source": [
        "#train and test\n",
        "model = LogisticRegression()\n",
        "model.fit(X_train_2,y1_train_2)\n",
        "y1_pred_RL_11 = model.predict(X_test_2)\n",
        "\n",
        "#Precison,recall and accuracy score  per class for y1\n",
        "print(metrics.classification_report(y1_test_2,y1_pred_RL_11))"
      ],
      "metadata": {
        "colab": {
          "base_uri": "https://localhost:8080/"
        },
        "id": "dscsSMQHCLYO",
        "outputId": "5b18805a-a311-4bc5-ebe1-a11f32ac919b"
      },
      "id": "dscsSMQHCLYO",
      "execution_count": null,
      "outputs": [
        {
          "output_type": "stream",
          "name": "stdout",
          "text": [
            "              precision    recall  f1-score   support\n",
            "\n",
            "           0       0.36      0.12      0.18        41\n",
            "           1       0.89      0.97      0.93       292\n",
            "\n",
            "    accuracy                           0.86       333\n",
            "   macro avg       0.62      0.55      0.55       333\n",
            "weighted avg       0.82      0.86      0.83       333\n",
            "\n"
          ]
        }
      ]
    },
    {
      "cell_type": "code",
      "source": [
        "model.fit(X_train_2,y2_train_2)"
      ],
      "metadata": {
        "id": "fE75a7PQC3Hh",
        "colab": {
          "base_uri": "https://localhost:8080/"
        },
        "outputId": "2f3b8f3b-691c-4863-9818-1cda1614daea"
      },
      "id": "fE75a7PQC3Hh",
      "execution_count": null,
      "outputs": [
        {
          "output_type": "execute_result",
          "data": {
            "text/plain": [
              "LogisticRegression()"
            ]
          },
          "metadata": {},
          "execution_count": 126
        }
      ]
    },
    {
      "cell_type": "code",
      "source": [
        "y2_pred_RL_11 = model.predict(X_test_2)"
      ],
      "metadata": {
        "id": "Zt8_6jcCENjP"
      },
      "id": "Zt8_6jcCENjP",
      "execution_count": null,
      "outputs": []
    },
    {
      "cell_type": "code",
      "source": [
        "#Precison,recall and accuracy score  per class for y1\n",
        "print(metrics.classification_report(y2_test_2,y2_pred_RL_11))"
      ],
      "metadata": {
        "id": "SzFLhMdUETmW",
        "colab": {
          "base_uri": "https://localhost:8080/"
        },
        "outputId": "bc91225b-956e-40bc-c664-4136c364d389"
      },
      "id": "SzFLhMdUETmW",
      "execution_count": null,
      "outputs": [
        {
          "output_type": "stream",
          "name": "stdout",
          "text": [
            "              precision    recall  f1-score   support\n",
            "\n",
            "           0       0.50      0.17      0.25        54\n",
            "           1       0.86      0.97      0.91       279\n",
            "\n",
            "    accuracy                           0.84       333\n",
            "   macro avg       0.68      0.57      0.58       333\n",
            "weighted avg       0.80      0.84      0.80       333\n",
            "\n"
          ]
        }
      ]
    },
    {
      "cell_type": "markdown",
      "source": [
        "### PERCEPTRON MULTICOUCHE"
      ],
      "metadata": {
        "id": "4oW5ynpcEroY"
      },
      "id": "4oW5ynpcEroY"
    },
    {
      "cell_type": "code",
      "source": [
        "#train and test\n",
        "mlp = MLPClassifier()\n",
        "mlp.fit(X_train_2,y1_train_2)\n",
        "y1_pred_mlp_11 = model.predict(X_test_2)\n",
        "\n",
        "#Precison,recall and accuracy score  per class for y1\n",
        "print(metrics.classification_report(y1_test_2,y1_pred_mlp_11))"
      ],
      "metadata": {
        "colab": {
          "base_uri": "https://localhost:8080/"
        },
        "id": "ydGQlFxhFpOi",
        "outputId": "ae6f7474-a72a-4b4b-e03a-d6219e148a05"
      },
      "id": "ydGQlFxhFpOi",
      "execution_count": null,
      "outputs": [
        {
          "output_type": "stream",
          "name": "stdout",
          "text": [
            "              precision    recall  f1-score   support\n",
            "\n",
            "           0       0.39      0.17      0.24        41\n",
            "           1       0.89      0.96      0.93       292\n",
            "\n",
            "    accuracy                           0.86       333\n",
            "   macro avg       0.64      0.57      0.58       333\n",
            "weighted avg       0.83      0.86      0.84       333\n",
            "\n"
          ]
        },
        {
          "output_type": "stream",
          "name": "stderr",
          "text": [
            "/usr/local/lib/python3.7/dist-packages/sklearn/neural_network/_multilayer_perceptron.py:696: ConvergenceWarning: Stochastic Optimizer: Maximum iterations (200) reached and the optimization hasn't converged yet.\n",
            "  ConvergenceWarning,\n"
          ]
        }
      ]
    },
    {
      "cell_type": "code",
      "source": [
        "mlp.fit(X_train_2,y2_train_2)\n",
        "y2_pred_mlp_11 = model.predict(X_test_2)\n",
        "\n",
        "#Precison,recall and accuracy score  per class for y1\n",
        "print(metrics.classification_report(y2_test_2,y2_pred_mlp_11))"
      ],
      "metadata": {
        "colab": {
          "base_uri": "https://localhost:8080/"
        },
        "id": "oW4pJph-GLRL",
        "outputId": "9695258c-46b7-4442-bc10-9defeb2a2301"
      },
      "id": "oW4pJph-GLRL",
      "execution_count": null,
      "outputs": [
        {
          "output_type": "stream",
          "name": "stdout",
          "text": [
            "              precision    recall  f1-score   support\n",
            "\n",
            "           0       0.50      0.17      0.25        54\n",
            "           1       0.86      0.97      0.91       279\n",
            "\n",
            "    accuracy                           0.84       333\n",
            "   macro avg       0.68      0.57      0.58       333\n",
            "weighted avg       0.80      0.84      0.80       333\n",
            "\n"
          ]
        },
        {
          "output_type": "stream",
          "name": "stderr",
          "text": [
            "/usr/local/lib/python3.7/dist-packages/sklearn/neural_network/_multilayer_perceptron.py:696: ConvergenceWarning: Stochastic Optimizer: Maximum iterations (200) reached and the optimization hasn't converged yet.\n",
            "  ConvergenceWarning,\n"
          ]
        }
      ]
    },
    {
      "cell_type": "markdown",
      "source": [
        "### SVM"
      ],
      "metadata": {
        "id": "ktO9OZoyN2LU"
      },
      "id": "ktO9OZoyN2LU"
    },
    {
      "cell_type": "code",
      "source": [
        "# Train and test\n",
        "svm = svm.SVC()\n",
        "svm.fit(X_train_2,y1_train_2)\n",
        "y1_pred_svm_11 = model.predict(X_test_2)"
      ],
      "metadata": {
        "id": "uNqPJke0N4fn"
      },
      "id": "uNqPJke0N4fn",
      "execution_count": null,
      "outputs": []
    },
    {
      "cell_type": "code",
      "source": [
        "#Precison,recall and accuracy score  per class for y1\n",
        "print(metrics.classification_report(y1_test_2,y1_pred_svm_11))"
      ],
      "metadata": {
        "id": "fj694_4kOa9f",
        "colab": {
          "base_uri": "https://localhost:8080/"
        },
        "outputId": "73446e01-4fa4-44b5-85d1-6fe696d5566e"
      },
      "id": "fj694_4kOa9f",
      "execution_count": null,
      "outputs": [
        {
          "output_type": "stream",
          "name": "stdout",
          "text": [
            "              precision    recall  f1-score   support\n",
            "\n",
            "           0       0.39      0.17      0.24        41\n",
            "           1       0.89      0.96      0.93       292\n",
            "\n",
            "    accuracy                           0.86       333\n",
            "   macro avg       0.64      0.57      0.58       333\n",
            "weighted avg       0.83      0.86      0.84       333\n",
            "\n"
          ]
        }
      ]
    },
    {
      "cell_type": "code",
      "source": [
        "# Train and test\n",
        "svm.fit(X_train_2,y2_train_2)\n",
        "y2_pred_svm_11 = model.predict(X_test_2)\n",
        "\n",
        "#Precison,recall and accuracy score  per class for y1\n",
        "print(metrics.classification_report(y2_test_2,y2_pred_svm_11))"
      ],
      "metadata": {
        "id": "EqpGZWvOOz_h",
        "colab": {
          "base_uri": "https://localhost:8080/"
        },
        "outputId": "c5de14c9-1139-4f10-eb61-ac795e754d5a"
      },
      "id": "EqpGZWvOOz_h",
      "execution_count": null,
      "outputs": [
        {
          "output_type": "stream",
          "name": "stdout",
          "text": [
            "              precision    recall  f1-score   support\n",
            "\n",
            "           0       0.50      0.17      0.25        54\n",
            "           1       0.86      0.97      0.91       279\n",
            "\n",
            "    accuracy                           0.84       333\n",
            "   macro avg       0.68      0.57      0.58       333\n",
            "weighted avg       0.80      0.84      0.80       333\n",
            "\n"
          ]
        }
      ]
    },
    {
      "cell_type": "markdown",
      "source": [],
      "metadata": {
        "id": "SUZIcXwoQFks"
      },
      "id": "SUZIcXwoQFks"
    },
    {
      "cell_type": "markdown",
      "source": [
        "### ANALYSE DES SORTIES DES TESTS"
      ],
      "metadata": {
        "id": "8osaH_tZQGHq"
      },
      "id": "8osaH_tZQGHq"
    },
    {
      "cell_type": "code",
      "source": [
        "def precision_gen (test,NB,RL,MLP,SVM) :\n",
        "  data = []\n",
        "  data.append(precision_score(test,NB,average = \"macro\"))\n",
        "  data.append(precision_score(test,RL,average = \"macro\"))\n",
        "  data.append(precision_score(test,MLP,average = \"macro\"))\n",
        "  data.append(precision_score(test,SVM,average = \"macro\"))\n",
        "  return data\n",
        "\n",
        "def recall_gen (test,NB,RL,MLP,SVM) :\n",
        "  data = []\n",
        "  data.append(recall_score(test,NB,average = \"macro\"))\n",
        "  data.append(recall_score(test,RL,average = \"macro\"))\n",
        "  data.append(recall_score(test,MLP,average = \"macro\"))\n",
        "  data.append(recall_score(test,SVM,average = \"macro\"))\n",
        "  return data \n"
      ],
      "metadata": {
        "id": "r8NvUUZRQGHr"
      },
      "execution_count": null,
      "outputs": [],
      "id": "r8NvUUZRQGHr"
    },
    {
      "cell_type": "markdown",
      "source": [
        "##### 1- Comparaison des mesures précision/rapel du test 1"
      ],
      "metadata": {
        "id": "GLonDoiRQGHs"
      },
      "id": "GLonDoiRQGHs"
    },
    {
      "cell_type": "code",
      "source": [
        "#Y1 (\"Reading\") precision and recall score comparaison\n",
        "y1_t1_12 = {\"precision\":precision_gen(y1_test_2,y1_pred_GNB,y1_pred_RL_11,y1_pred_mlp_11,y1_pred_svm_11),\n",
        "                      \"recall\" :recall_gen(y1_test_2,y1_pred_GNB,y1_pred_RL_11,y1_pred_mlp_11,y1_pred_svm_11)}\n",
        "index = [\"NB\",\"RL\",\"MLP\",\"SVM\"]\n",
        "df_y1_t1_12 = pd.DataFrame(y1_t1_12,index=index)"
      ],
      "metadata": {
        "id": "nvGqBZR_QGHs"
      },
      "execution_count": null,
      "outputs": [],
      "id": "nvGqBZR_QGHs"
    },
    {
      "cell_type": "code",
      "source": [
        "df_y1_t1_12.plot.bar(figsize=(6,9),rot = 15 ,title = \"Score de precision et de rappel en fonction du model\")\n",
        "plt.show(block=True);"
      ],
      "metadata": {
        "colab": {
          "base_uri": "https://localhost:8080/",
          "height": 558
        },
        "outputId": "422aa9f5-d804-4583-907f-a344d2895999",
        "id": "JQUlrxP9QGHt"
      },
      "execution_count": null,
      "outputs": [
        {
          "output_type": "display_data",
          "data": {
            "text/plain": [
              "<Figure size 432x648 with 1 Axes>"
            ],
            "image/png": "[encoded data removed]"
          },
          "metadata": {
            "needs_background": "light"
          }
        }
      ],
      "id": "JQUlrxP9QGHt"
    },
    {
      "cell_type": "code",
      "source": [
        "#Y2 (\"Writing\") precision and recall score comparaison\n",
        "y2_t1_12 = {\"precision\":precision_gen(y2_test_2,y2_pred_GNB,y2_pred_RL_11,y2_pred_mlp_11,y2_pred_svm_11),\n",
        "                      \"recall\" :recall_gen(y2_test_2,y2_pred_GNB,y2_pred_RL_11,y2_pred_mlp_11,y2_pred_svm_11)}\n",
        "index = [\"NB\",\"RL\",\"MLP\",\"SVM\"]\n",
        "df_y2_t1_12 = pd.DataFrame(y2_t12_1,index=index)"
      ],
      "metadata": {
        "id": "0VwRGJXBQGHu",
        "colab": {
          "base_uri": "https://localhost:8080/",
          "height": 200
        },
        "outputId": "a3baeba4-e906-4fec-d75b-c176ebdb705f"
      },
      "execution_count": null,
      "outputs": [
        {
          "output_type": "error",
          "ename": "NameError",
          "evalue": "ignored",
          "traceback": [
            "\u001b[0;31m---------------------------------------------------------------------------\u001b[0m",
            "\u001b[0;31mNameError\u001b[0m                                 Traceback (most recent call last)",
            "\u001b[0;32m<ipython-input-137-dc289a24e05c>\u001b[0m in \u001b[0;36m<module>\u001b[0;34m\u001b[0m\n\u001b[1;32m      3\u001b[0m                       \"recall\" :recall_gen(y2_test_2,y2_pred_GNB,y2_pred_RL_11,y2_pred_mlp_11,y2_pred_svm_11)}\n\u001b[1;32m      4\u001b[0m \u001b[0mindex\u001b[0m \u001b[0;34m=\u001b[0m \u001b[0;34m[\u001b[0m\u001b[0;34m\"NB\"\u001b[0m\u001b[0;34m,\u001b[0m\u001b[0;34m\"RL\"\u001b[0m\u001b[0;34m,\u001b[0m\u001b[0;34m\"MLP\"\u001b[0m\u001b[0;34m,\u001b[0m\u001b[0;34m\"SVM\"\u001b[0m\u001b[0;34m]\u001b[0m\u001b[0;34m\u001b[0m\u001b[0;34m\u001b[0m\u001b[0m\n\u001b[0;32m----> 5\u001b[0;31m \u001b[0mdf_y2_t1_12\u001b[0m \u001b[0;34m=\u001b[0m \u001b[0mpd\u001b[0m\u001b[0;34m.\u001b[0m\u001b[0mDataFrame\u001b[0m\u001b[0;34m(\u001b[0m\u001b[0my2_t12_1\u001b[0m\u001b[0;34m,\u001b[0m\u001b[0mindex\u001b[0m\u001b[0;34m=\u001b[0m\u001b[0mindex\u001b[0m\u001b[0;34m)\u001b[0m\u001b[0;34m\u001b[0m\u001b[0;34m\u001b[0m\u001b[0m\n\u001b[0m",
            "\u001b[0;31mNameError\u001b[0m: name 'y2_t12_1' is not defined"
          ]
        }
      ],
      "id": "0VwRGJXBQGHu"
    },
    {
      "cell_type": "code",
      "source": [
        "df_y2_t1_12.plot.bar(figsize=(6,9),rot = 15 ,title = \"Score de precision et de rappel en fonction du model\")\n",
        "plt.show(block=True);"
      ],
      "metadata": {
        "id": "CNfBMuJFQGHu"
      },
      "execution_count": null,
      "outputs": [],
      "id": "CNfBMuJFQGHu"
    },
    {
      "cell_type": "markdown",
      "source": [
        "##### Conclusion\n",
        "\n",
        "On constate que nos différents models s'en sortent beaucoup mieux avec ce type de classification binaire. Nous avons des scores de précision très elevés au niveau de la classification de l'écriture surtout.\n",
        "\n",
        "Mais les modèles qui se démarquent le mieux sont ceux du perceptron multicouche et aussi du Support Vector Machine.\n",
        "\n"
      ],
      "metadata": {
        "id": "nyAwpVV0QGHv"
      },
      "id": "nyAwpVV0QGHv"
    },
    {
      "cell_type": "markdown",
      "source": [
        "# *RÉFÉRENCES*"
      ],
      "metadata": {
        "id": "zkJLFBBWUc12"
      },
      "id": "zkJLFBBWUc12"
    },
    {
      "cell_type": "markdown",
      "source": [
        "https://www.kaggle.com/code/chingchunyeh/students-performance-in-exams\n",
        "\n",
        "https://scikit-learn.org/stable/\n",
        "\n",
        "https://www.google.com/search?q=Naive+Bayes+with+Multiple+Labels+with+klearn&rlz=1C1CHBF_frCA904CA904&oq=nai&aqs=chrome.1.69i57j69i59l2j69i60l2j69i65l2j69i60.4484j0j7&sourceid=chrome&ie=UTF-8\n",
        "\n",
        "https://scikit-learn.org/stable/modules/generated/sklearn.neural_network.MLPClassifier.html\n",
        "\n",
        "https://www.youtube.com/watch?v=0Lt9w-BxKFQ\n",
        "\n",
        "https://www.youtube.com/watch?v=pqNCD_5r0IU&t=1692s\n",
        "\n",
        "https://stackabuse.com/seaborn-bar-plot-tutorial-and-examples/\n",
        "\n",
        "https://www.w3schools.com/python/numpy/numpy_array_indexing.asp\n",
        "\n",
        "https://pandas.pydata.org/pandas-docs/stable/user_guide/visualization.html\n",
        "\n",
        "https://pandas.pydata.org/docs/reference/api/pandas.DataFrame.html\n",
        "\n",
        "\n",
        "https://stackoverflow.com/questions/63006038/how-to-share-my-google-colaboratory-along-with-data-from-mounted-drive\n",
        "\n",
        "https://towardsdatascience.com/data-preprocessing-with-python-pandas-part-5-binning-c5bd5fd1b950\n",
        "\n",
        "https://towardsdatascience.com/what-does-your-classification-metric-tell-about-your-data-4a8f35408a8b"
      ],
      "metadata": {
        "id": "YlD0DxIOUjPb"
      },
      "id": "YlD0DxIOUjPb"
    }
  ],
  "metadata": {
    "kernelspec": {
      "display_name": "Python 3 (ipykernel)",
      "language": "python",
      "name": "python3"
    },
    "language_info": {
      "codemirror_mode": {
        "name": "ipython",
        "version": 3
      },
      "file_extension": ".py",
      "mimetype": "text/x-python",
      "name": "python",
      "nbconvert_exporter": "python",
      "pygments_lexer": "ipython3",
      "version": "3.9.12"
    },
    "colab": {
      "provenance": [],
      "collapsed_sections": [
        "e6c6cfff",
        "1LQxtuh9gS1e",
        "_nXxcGBpny5n",
        "rZ_oAutWAp1d",
        "jurMdxiTAt0g",
        "0I2t6e0qCIOz",
        "4oW5ynpcEroY"
      ],
      "include_colab_link": true
    }
  },
  "nbformat": 4,
  "nbformat_minor": 5
}